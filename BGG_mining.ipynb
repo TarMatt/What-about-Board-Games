{
 "cells": [
  {
   "cell_type": "markdown",
   "id": "b4fe397d",
   "metadata": {},
   "source": [
    "# BOARD GAMES GEEK mining\n",
    "\n",
    "This code exploits the Board Games Geek API and use that to obtain data relative to board games.                   \n",
    " The final part of the code, builds the dictionary that will be used in the major project."
   ]
  },
  {
   "cell_type": "code",
   "execution_count": 1,
   "id": "7e889a42",
   "metadata": {},
   "outputs": [],
   "source": [
    "# Import various packages for the project\n",
    "%run Loading/Packages"
   ]
  },
  {
   "cell_type": "markdown",
   "id": "31b049c8",
   "metadata": {},
   "source": [
    "## BGG API connection"
   ]
  },
  {
   "cell_type": "code",
   "execution_count": 3,
   "id": "a95c135d",
   "metadata": {
    "scrolled": true
   },
   "outputs": [
    {
     "name": "stderr",
     "output_type": "stream",
     "text": [
      "\r",
      "  0%|                                                   | 0/500 [00:00<?, ?it/s]"
     ]
    },
    {
     "name": "stdout",
     "output_type": "stream",
     "text": [
      "Found 19 games\n",
      "Found 1 sets\n",
      "Found 17 games\n",
      "Found 2 sets\n"
     ]
    },
    {
     "name": "stderr",
     "output_type": "stream",
     "text": [
      "\r",
      "  0%|                                         | 1/500 [00:34<4:47:44, 34.60s/it]"
     ]
    },
    {
     "name": "stdout",
     "output_type": "stream",
     "text": [
      "Found 16 games\n",
      "Found 3 sets\n",
      "Found 17 games\n",
      "Found 4 sets\n",
      "Found 12 games\n",
      "Found 5 sets\n"
     ]
    },
    {
     "name": "stderr",
     "output_type": "stream",
     "text": [
      "\r",
      "  0%|▏                                        | 2/500 [00:52<3:28:02, 25.07s/it]"
     ]
    },
    {
     "name": "stdout",
     "output_type": "stream",
     "text": [
      "Found 9 games\n",
      "Found 6 sets\n",
      "Found 17 games\n",
      "Found 7 sets\n",
      "Found 15 games\n",
      "Found 8 sets\n"
     ]
    },
    {
     "name": "stderr",
     "output_type": "stream",
     "text": [
      "\r",
      "  1%|▏                                        | 3/500 [01:14<3:14:34, 23.49s/it]"
     ]
    },
    {
     "name": "stdout",
     "output_type": "stream",
     "text": [
      "Found 13 games\n",
      "Found 9 sets\n",
      "Found 19 games\n",
      "Found 10 sets\n",
      "Found 16 games\n",
      "Found 11 sets\n"
     ]
    },
    {
     "name": "stderr",
     "output_type": "stream",
     "text": [
      "\r",
      "  1%|▎                                        | 4/500 [01:53<4:05:24, 29.69s/it]"
     ]
    },
    {
     "name": "stdout",
     "output_type": "stream",
     "text": [
      "Found 11 games\n",
      "Found 12 sets\n",
      "Found 17 games\n",
      "Found 13 sets\n",
      "Found 15 games\n",
      "Found 14 sets\n"
     ]
    },
    {
     "name": "stderr",
     "output_type": "stream",
     "text": [
      "\r",
      "  1%|▍                                        | 5/500 [02:41<4:58:29, 36.18s/it]"
     ]
    },
    {
     "name": "stdout",
     "output_type": "stream",
     "text": [
      "Found 15 games\n",
      "Found 15 sets\n",
      "Found 19 games\n",
      "Found 16 sets\n",
      "Found 17 games\n",
      "Found 17 sets\n"
     ]
    },
    {
     "name": "stderr",
     "output_type": "stream",
     "text": [
      "\r",
      "  1%|▍                                        | 6/500 [03:19<5:02:21, 36.72s/it]"
     ]
    },
    {
     "name": "stdout",
     "output_type": "stream",
     "text": [
      "Found 14 games\n",
      "Found 18 sets\n",
      "Found 16 games\n",
      "Found 19 sets\n",
      "Found 13 games\n",
      "Found 20 sets\n"
     ]
    },
    {
     "name": "stderr",
     "output_type": "stream",
     "text": [
      "\r",
      "  1%|▌                                        | 7/500 [03:44<4:30:48, 32.96s/it]"
     ]
    },
    {
     "name": "stdout",
     "output_type": "stream",
     "text": [
      "Found 11 games\n",
      "Found 21 sets\n",
      "Found 17 games\n",
      "Found 22 sets\n",
      "Found 13 games\n",
      "Found 23 sets\n"
     ]
    },
    {
     "name": "stderr",
     "output_type": "stream",
     "text": [
      "\r",
      "  2%|▋                                        | 8/500 [04:06<4:01:33, 29.46s/it]"
     ]
    },
    {
     "name": "stdout",
     "output_type": "stream",
     "text": [
      "Found 11 games\n",
      "Found 24 sets\n",
      "Found 17 games\n",
      "Found 25 sets\n",
      "Found 13 games\n",
      "Found 26 sets\n"
     ]
    },
    {
     "name": "stderr",
     "output_type": "stream",
     "text": [
      "\r",
      "  2%|▋                                        | 9/500 [04:49<4:35:29, 33.66s/it]"
     ]
    },
    {
     "name": "stdout",
     "output_type": "stream",
     "text": [
      "Found 12 games\n",
      "Found 27 sets\n",
      "Found 14 games\n",
      "Found 28 sets\n",
      "Found 9 games\n",
      "Found 29 sets\n"
     ]
    },
    {
     "name": "stderr",
     "output_type": "stream",
     "text": [
      "\r",
      "  2%|▊                                       | 10/500 [05:22<4:34:45, 33.64s/it]"
     ]
    },
    {
     "name": "stdout",
     "output_type": "stream",
     "text": [
      "Found 8 games\n",
      "Found 30 sets\n",
      "Found 15 games\n",
      "Found 31 sets\n",
      "Found 10 games\n",
      "Found 32 sets\n"
     ]
    },
    {
     "name": "stderr",
     "output_type": "stream",
     "text": [
      "\r",
      "  2%|▉                                       | 11/500 [05:47<4:10:46, 30.77s/it]"
     ]
    },
    {
     "name": "stdout",
     "output_type": "stream",
     "text": [
      "Found 8 games\n",
      "Found 33 sets\n",
      "Found 16 games\n",
      "Found 34 sets\n",
      "Found 14 games\n",
      "Found 35 sets\n"
     ]
    },
    {
     "name": "stderr",
     "output_type": "stream",
     "text": [
      "\r",
      "  2%|▉                                       | 12/500 [06:10<3:52:45, 28.62s/it]"
     ]
    },
    {
     "name": "stdout",
     "output_type": "stream",
     "text": [
      "Found 13 games\n",
      "Found 36 sets\n",
      "Found 16 games\n",
      "Found 37 sets\n",
      "Found 14 games\n",
      "Found 38 sets\n"
     ]
    },
    {
     "name": "stderr",
     "output_type": "stream",
     "text": [
      "\r",
      "  3%|█                                       | 13/500 [06:37<3:48:03, 28.10s/it]"
     ]
    },
    {
     "name": "stdout",
     "output_type": "stream",
     "text": [
      "Found 11 games\n",
      "Found 39 sets\n",
      "Found 16 games\n",
      "Found 40 sets\n",
      "Found 11 games\n",
      "Found 41 sets\n"
     ]
    },
    {
     "name": "stderr",
     "output_type": "stream",
     "text": [
      "\r",
      "  3%|█                                       | 14/500 [06:57<3:27:33, 25.62s/it]"
     ]
    },
    {
     "name": "stdout",
     "output_type": "stream",
     "text": [
      "Found 6 games\n",
      "Found 42 sets\n",
      "Found 19 games\n",
      "Found 43 sets\n",
      "Found 11 games\n",
      "Found 44 sets\n"
     ]
    },
    {
     "name": "stderr",
     "output_type": "stream",
     "text": [
      "\r",
      "  3%|█▏                                      | 15/500 [07:17<3:13:50, 23.98s/it]"
     ]
    },
    {
     "name": "stdout",
     "output_type": "stream",
     "text": [
      "Found 7 games\n",
      "Found 45 sets\n",
      "Found 17 games\n",
      "Found 46 sets\n",
      "Found 9 games\n",
      "Found 47 sets\n"
     ]
    },
    {
     "name": "stderr",
     "output_type": "stream",
     "text": [
      "\r",
      "  3%|█▎                                      | 16/500 [07:38<3:05:33, 23.00s/it]"
     ]
    },
    {
     "name": "stdout",
     "output_type": "stream",
     "text": [
      "Found 4 games\n",
      "Found 48 sets\n",
      "Found 17 games\n",
      "Found 49 sets\n",
      "Found 13 games\n",
      "Found 50 sets\n"
     ]
    },
    {
     "name": "stderr",
     "output_type": "stream",
     "text": [
      "\r",
      "  3%|█▎                                      | 17/500 [08:05<3:14:26, 24.15s/it]"
     ]
    },
    {
     "name": "stdout",
     "output_type": "stream",
     "text": [
      "Found 10 games\n",
      "Found 51 sets\n",
      "Found 15 games\n",
      "Found 52 sets\n",
      "Found 9 games\n",
      "Found 53 sets\n"
     ]
    },
    {
     "name": "stderr",
     "output_type": "stream",
     "text": [
      "\r",
      "  4%|█▍                                      | 18/500 [08:23<2:58:59, 22.28s/it]"
     ]
    },
    {
     "name": "stdout",
     "output_type": "stream",
     "text": [
      "Found 6 games\n",
      "Found 54 sets\n",
      "Found 18 games\n",
      "Found 55 sets\n",
      "Found 11 games\n",
      "Found 56 sets\n"
     ]
    },
    {
     "name": "stderr",
     "output_type": "stream",
     "text": [
      "\r",
      "  4%|█▌                                      | 19/500 [08:48<3:05:58, 23.20s/it]"
     ]
    },
    {
     "name": "stdout",
     "output_type": "stream",
     "text": [
      "Found 9 games\n",
      "Found 57 sets\n",
      "Found 16 games\n",
      "Found 58 sets\n",
      "Found 11 games\n",
      "Found 59 sets\n",
      "1\n",
      "2\n",
      "3\n",
      "4\n",
      "5\n",
      "6\n",
      "7\n",
      "8\n",
      "9\n",
      "10\n"
     ]
    },
    {
     "name": "stderr",
     "output_type": "stream",
     "text": [
      "\r",
      "  4%|█▌                                      | 20/500 [09:26<3:41:19, 27.67s/it]"
     ]
    },
    {
     "name": "stdout",
     "output_type": "stream",
     "text": [
      "11\n",
      "Found 13 games\n",
      "Found 60 sets\n",
      "Found 6 games\n",
      "Found 61 sets\n"
     ]
    },
    {
     "name": "stderr",
     "output_type": "stream",
     "text": [
      "\r",
      "  4%|█▋                                      | 21/500 [09:43<3:14:50, 24.41s/it]"
     ]
    },
    {
     "name": "stdout",
     "output_type": "stream",
     "text": [
      "Found 2 games\n",
      "Found 62 sets\n",
      "Found 17 games\n",
      "Found 63 sets\n",
      "Found 13 games\n",
      "Found 64 sets\n"
     ]
    },
    {
     "name": "stderr",
     "output_type": "stream",
     "text": [
      "\r",
      "  4%|█▊                                      | 22/500 [10:10<3:21:21, 25.28s/it]"
     ]
    },
    {
     "name": "stdout",
     "output_type": "stream",
     "text": [
      "Found 12 games\n",
      "Found 65 sets\n",
      "Found 16 games\n",
      "Found 66 sets\n",
      "Found 11 games\n",
      "Found 67 sets\n"
     ]
    },
    {
     "name": "stderr",
     "output_type": "stream",
     "text": [
      "\r",
      "  5%|█▊                                      | 23/500 [10:30<3:07:10, 23.54s/it]"
     ]
    },
    {
     "name": "stdout",
     "output_type": "stream",
     "text": [
      "Found 6 games\n",
      "Found 68 sets\n",
      "Found 18 games\n",
      "Found 69 sets\n",
      "Found 10 games\n",
      "Found 70 sets\n"
     ]
    },
    {
     "name": "stderr",
     "output_type": "stream",
     "text": [
      "\r",
      "  5%|█▉                                      | 24/500 [11:00<3:21:44, 25.43s/it]"
     ]
    },
    {
     "name": "stdout",
     "output_type": "stream",
     "text": [
      "Found 7 games\n",
      "Found 71 sets\n",
      "Found 17 games\n",
      "Found 72 sets\n",
      "Found 13 games\n",
      "Found 73 sets\n"
     ]
    },
    {
     "name": "stderr",
     "output_type": "stream",
     "text": [
      "\r",
      "  5%|██                                      | 25/500 [11:25<3:21:21, 25.44s/it]"
     ]
    },
    {
     "name": "stdout",
     "output_type": "stream",
     "text": [
      "Found 8 games\n",
      "Found 74 sets\n",
      "Found 18 games\n",
      "Found 75 sets\n",
      "Found 7 games\n",
      "Found 76 sets\n"
     ]
    },
    {
     "name": "stderr",
     "output_type": "stream",
     "text": [
      "\r",
      "  5%|██                                      | 26/500 [11:45<3:08:31, 23.86s/it]"
     ]
    },
    {
     "name": "stdout",
     "output_type": "stream",
     "text": [
      "Found 5 games\n",
      "Found 77 sets\n",
      "Found 15 games\n",
      "Found 78 sets\n",
      "Found 9 games\n",
      "Found 79 sets\n"
     ]
    },
    {
     "name": "stderr",
     "output_type": "stream",
     "text": [
      "\r",
      "  5%|██▏                                     | 27/500 [12:06<3:01:36, 23.04s/it]"
     ]
    },
    {
     "name": "stdout",
     "output_type": "stream",
     "text": [
      "Found 7 games\n",
      "Found 80 sets\n",
      "Found 16 games\n",
      "Found 81 sets\n",
      "Found 11 games\n",
      "Found 82 sets\n"
     ]
    },
    {
     "name": "stderr",
     "output_type": "stream",
     "text": [
      "\r",
      "  6%|██▏                                     | 28/500 [12:29<3:00:51, 22.99s/it]"
     ]
    },
    {
     "name": "stdout",
     "output_type": "stream",
     "text": [
      "Found 10 games\n",
      "Found 83 sets\n",
      "Found 18 games\n",
      "Found 84 sets\n",
      "Found 6 games\n",
      "Found 85 sets\n"
     ]
    },
    {
     "name": "stderr",
     "output_type": "stream",
     "text": [
      "\r",
      "  6%|██▎                                     | 29/500 [12:48<2:51:20, 21.83s/it]"
     ]
    },
    {
     "name": "stdout",
     "output_type": "stream",
     "text": [
      "Found 1 games\n",
      "Found 86 sets\n",
      "Found 13 games\n",
      "Found 87 sets\n",
      "Found 6 games\n",
      "Found 88 sets\n"
     ]
    },
    {
     "name": "stderr",
     "output_type": "stream",
     "text": [
      "\r",
      "  6%|██▍                                     | 30/500 [13:08<2:46:23, 21.24s/it]"
     ]
    },
    {
     "name": "stdout",
     "output_type": "stream",
     "text": [
      "Found 4 games\n",
      "Found 89 sets\n",
      "Found 19 games\n",
      "Found 90 sets\n",
      "Found 6 games\n",
      "Found 91 sets\n"
     ]
    },
    {
     "name": "stderr",
     "output_type": "stream",
     "text": [
      "\r",
      "  6%|██▍                                     | 31/500 [13:29<2:44:27, 21.04s/it]"
     ]
    },
    {
     "name": "stdout",
     "output_type": "stream",
     "text": [
      "Found 3 games\n",
      "Found 92 sets\n",
      "Found 18 games\n",
      "Found 93 sets\n",
      "Found 12 games\n",
      "Found 94 sets\n"
     ]
    },
    {
     "name": "stderr",
     "output_type": "stream",
     "text": [
      "\r",
      "  6%|██▌                                     | 32/500 [13:49<2:41:03, 20.65s/it]"
     ]
    },
    {
     "name": "stdout",
     "output_type": "stream",
     "text": [
      "Found 10 games\n",
      "Found 95 sets\n",
      "Found 14 games\n",
      "Found 96 sets\n",
      "Found 5 games\n",
      "Found 97 sets\n"
     ]
    },
    {
     "name": "stderr",
     "output_type": "stream",
     "text": [
      "\r",
      "  7%|██▋                                     | 33/500 [14:07<2:34:53, 19.90s/it]"
     ]
    },
    {
     "name": "stdout",
     "output_type": "stream",
     "text": [
      "Found 1 games\n",
      "Found 98 sets\n",
      "Found 17 games\n",
      "Found 99 sets\n",
      "Found 7 games\n",
      "Found 100 sets\n"
     ]
    },
    {
     "name": "stderr",
     "output_type": "stream",
     "text": [
      "\r",
      "  7%|██▋                                     | 34/500 [14:27<2:34:15, 19.86s/it]"
     ]
    },
    {
     "name": "stdout",
     "output_type": "stream",
     "text": [
      "Found 3 games\n",
      "Found 101 sets\n",
      "Found 16 games\n",
      "Found 102 sets\n",
      "Found 9 games\n",
      "Found 103 sets\n"
     ]
    },
    {
     "name": "stderr",
     "output_type": "stream",
     "text": [
      "\r",
      "  7%|██▊                                     | 35/500 [14:49<2:39:59, 20.64s/it]"
     ]
    },
    {
     "name": "stdout",
     "output_type": "stream",
     "text": [
      "Found 8 games\n",
      "Found 104 sets\n",
      "Found 18 games\n",
      "Found 105 sets\n",
      "Found 12 games\n",
      "Found 106 sets\n"
     ]
    },
    {
     "name": "stderr",
     "output_type": "stream",
     "text": [
      "\r",
      "  7%|██▉                                     | 36/500 [15:08<2:36:08, 20.19s/it]"
     ]
    },
    {
     "name": "stdout",
     "output_type": "stream",
     "text": [
      "Found 8 games\n",
      "Found 107 sets\n",
      "Found 16 games\n",
      "Found 108 sets\n",
      "Found 4 games\n",
      "Found 109 sets\n"
     ]
    },
    {
     "name": "stderr",
     "output_type": "stream",
     "text": [
      "\r",
      "  7%|██▉                                     | 37/500 [15:27<2:31:42, 19.66s/it]"
     ]
    },
    {
     "name": "stdout",
     "output_type": "stream",
     "text": [
      "Found 2 games\n",
      "Found 110 sets\n",
      "Found 18 games\n",
      "Found 111 sets\n",
      "Found 8 games\n",
      "Found 112 sets\n"
     ]
    },
    {
     "name": "stderr",
     "output_type": "stream",
     "text": [
      "\r",
      "  8%|███                                     | 38/500 [15:47<2:32:06, 19.76s/it]"
     ]
    },
    {
     "name": "stdout",
     "output_type": "stream",
     "text": [
      "Found 5 games\n",
      "Found 113 sets\n",
      "Found 15 games\n",
      "Found 114 sets\n",
      "Found 6 games\n",
      "Found 115 sets\n"
     ]
    },
    {
     "name": "stderr",
     "output_type": "stream",
     "text": [
      "\r",
      "  8%|███                                     | 39/500 [16:11<2:42:26, 21.14s/it]"
     ]
    },
    {
     "name": "stdout",
     "output_type": "stream",
     "text": [
      "Found 4 games\n",
      "Found 116 sets\n",
      "Found 19 games\n",
      "Found 117 sets\n",
      "Found 9 games\n",
      "Found 118 sets\n"
     ]
    },
    {
     "name": "stderr",
     "output_type": "stream",
     "text": [
      "\r",
      "  8%|███▏                                    | 40/500 [16:38<2:56:10, 22.98s/it]"
     ]
    },
    {
     "name": "stdout",
     "output_type": "stream",
     "text": [
      "Found 5 games\n",
      "Found 119 sets\n",
      "Found 14 games\n",
      "Found 120 sets\n",
      "Found 7 games\n",
      "Found 121 sets\n"
     ]
    },
    {
     "name": "stderr",
     "output_type": "stream",
     "text": [
      "\r",
      "  8%|███▎                                    | 41/500 [16:58<2:49:04, 22.10s/it]"
     ]
    },
    {
     "name": "stdout",
     "output_type": "stream",
     "text": [
      "Found 5 games\n",
      "Found 122 sets\n",
      "Found 15 games\n",
      "Found 123 sets\n",
      "Found 9 games\n",
      "Found 124 sets\n"
     ]
    },
    {
     "name": "stderr",
     "output_type": "stream",
     "text": [
      "\r",
      "  8%|███▎                                    | 42/500 [17:28<3:07:15, 24.53s/it]"
     ]
    },
    {
     "name": "stdout",
     "output_type": "stream",
     "text": [
      "Found 7 games\n",
      "Found 125 sets\n",
      "Found 14 games\n",
      "Found 126 sets\n",
      "Found 7 games\n",
      "Found 127 sets\n"
     ]
    },
    {
     "name": "stderr",
     "output_type": "stream",
     "text": [
      "\r",
      "  9%|███▍                                    | 43/500 [17:47<2:53:47, 22.82s/it]"
     ]
    },
    {
     "name": "stdout",
     "output_type": "stream",
     "text": [
      "Found 4 games\n",
      "Found 128 sets\n",
      "Found 17 games\n",
      "Found 129 sets\n",
      "Found 9 games\n",
      "Found 130 sets\n"
     ]
    },
    {
     "name": "stderr",
     "output_type": "stream",
     "text": [
      "\r",
      "  9%|███▌                                    | 44/500 [18:09<2:50:01, 22.37s/it]"
     ]
    },
    {
     "name": "stdout",
     "output_type": "stream",
     "text": [
      "Found 6 games\n",
      "Found 131 sets\n",
      "Found 12 games\n",
      "Found 132 sets\n",
      "Found 3 games\n",
      "Found 133 sets\n"
     ]
    },
    {
     "name": "stderr",
     "output_type": "stream",
     "text": [
      "\r",
      "  9%|███▌                                    | 45/500 [18:26<2:38:06, 20.85s/it]"
     ]
    },
    {
     "name": "stdout",
     "output_type": "stream",
     "text": [
      "Found 3 games\n",
      "Found 134 sets\n",
      "Found 15 games\n",
      "Found 135 sets\n",
      "Found 9 games\n",
      "Found 136 sets\n"
     ]
    },
    {
     "name": "stderr",
     "output_type": "stream",
     "text": [
      "\r",
      "  9%|███▋                                    | 46/500 [18:48<2:40:12, 21.17s/it]"
     ]
    },
    {
     "name": "stdout",
     "output_type": "stream",
     "text": [
      "Found 7 games\n",
      "Found 137 sets\n",
      "Found 16 games\n",
      "Found 138 sets\n",
      "Found 10 games\n",
      "Found 139 sets\n"
     ]
    },
    {
     "name": "stderr",
     "output_type": "stream",
     "text": [
      "\r",
      "  9%|███▊                                    | 47/500 [19:13<2:49:50, 22.50s/it]"
     ]
    },
    {
     "name": "stdout",
     "output_type": "stream",
     "text": [
      "Found 9 games\n",
      "Found 140 sets\n",
      "Found 15 games\n",
      "Found 141 sets\n",
      "Found 6 games\n",
      "Found 142 sets\n"
     ]
    },
    {
     "name": "stderr",
     "output_type": "stream",
     "text": [
      "\r",
      " 10%|███▊                                    | 48/500 [19:34<2:44:55, 21.89s/it]"
     ]
    },
    {
     "name": "stdout",
     "output_type": "stream",
     "text": [
      "Found 4 games\n",
      "Found 143 sets\n",
      "Found 9 games\n",
      "Found 144 sets\n",
      "Found 4 games\n",
      "Found 145 sets\n"
     ]
    },
    {
     "name": "stderr",
     "output_type": "stream",
     "text": [
      "\r",
      " 10%|███▉                                    | 49/500 [19:48<2:27:40, 19.65s/it]"
     ]
    },
    {
     "name": "stdout",
     "output_type": "stream",
     "text": [
      "Found 1 games\n",
      "Found 146 sets\n",
      "Found 15 games\n",
      "Found 147 sets\n",
      "Found 5 games\n",
      "Found 148 sets\n"
     ]
    },
    {
     "name": "stderr",
     "output_type": "stream",
     "text": [
      "\r",
      " 10%|████                                    | 50/500 [20:08<2:27:24, 19.65s/it]"
     ]
    },
    {
     "name": "stdout",
     "output_type": "stream",
     "text": [
      "Found 3 games\n",
      "Found 149 sets\n",
      "Found 18 games\n",
      "Found 150 sets\n",
      "Found 2 games\n",
      "Found 151 sets\n"
     ]
    },
    {
     "name": "stderr",
     "output_type": "stream",
     "text": [
      "\r",
      " 10%|████                                    | 51/500 [20:29<2:29:53, 20.03s/it]"
     ]
    },
    {
     "name": "stdout",
     "output_type": "stream",
     "text": [
      "Found 2 games\n",
      "Found 152 sets\n",
      "Found 12 games\n",
      "Found 153 sets\n",
      "Found 6 games\n",
      "Found 154 sets\n"
     ]
    },
    {
     "name": "stderr",
     "output_type": "stream",
     "text": [
      "\r",
      " 10%|████▏                                   | 52/500 [20:47<2:26:15, 19.59s/it]"
     ]
    },
    {
     "name": "stdout",
     "output_type": "stream",
     "text": [
      "Found 5 games\n",
      "Found 155 sets\n",
      "Found 15 games\n",
      "Found 156 sets\n",
      "Found 3 games\n",
      "Found 157 sets\n"
     ]
    },
    {
     "name": "stderr",
     "output_type": "stream",
     "text": [
      "\r",
      " 11%|████▏                                   | 53/500 [21:06<2:24:31, 19.40s/it]"
     ]
    },
    {
     "name": "stdout",
     "output_type": "stream",
     "text": [
      "Found 3 games\n",
      "Found 158 sets\n",
      "Found 14 games\n",
      "Found 159 sets\n",
      "Found 2 games\n",
      "Found 160 sets\n"
     ]
    },
    {
     "name": "stderr",
     "output_type": "stream",
     "text": [
      "\r",
      " 11%|████▎                                   | 54/500 [21:26<2:23:34, 19.31s/it]"
     ]
    },
    {
     "name": "stdout",
     "output_type": "stream",
     "text": [
      "Found 1 games\n",
      "Found 161 sets\n",
      "Found 18 games\n",
      "Found 162 sets\n",
      "Found 4 games\n",
      "Found 163 sets\n"
     ]
    },
    {
     "name": "stderr",
     "output_type": "stream",
     "text": [
      "\r",
      " 11%|████▍                                   | 55/500 [21:45<2:24:01, 19.42s/it]"
     ]
    },
    {
     "name": "stdout",
     "output_type": "stream",
     "text": [
      "Found 1 games\n",
      "Found 164 sets\n",
      "Found 9 games\n",
      "Found 165 sets\n",
      "Found 4 games\n",
      "Found 166 sets\n"
     ]
    },
    {
     "name": "stderr",
     "output_type": "stream",
     "text": [
      "\r",
      " 11%|████▍                                   | 56/500 [22:03<2:20:49, 19.03s/it]"
     ]
    },
    {
     "name": "stdout",
     "output_type": "stream",
     "text": [
      "Found 3 games\n",
      "Found 167 sets\n",
      "Found 14 games\n",
      "Found 168 sets\n",
      "Found 3 games\n",
      "Found 169 sets\n"
     ]
    },
    {
     "name": "stderr",
     "output_type": "stream",
     "text": [
      "\r",
      " 11%|████▌                                   | 57/500 [22:22<2:19:13, 18.86s/it]"
     ]
    },
    {
     "name": "stdout",
     "output_type": "stream",
     "text": [
      "Found 3 games\n",
      "Found 170 sets\n",
      "Found 16 games\n",
      "Found 171 sets\n",
      "Found 11 games\n",
      "Found 172 sets\n"
     ]
    },
    {
     "name": "stderr",
     "output_type": "stream",
     "text": [
      "\r",
      " 12%|████▋                                   | 58/500 [22:43<2:23:10, 19.44s/it]"
     ]
    },
    {
     "name": "stdout",
     "output_type": "stream",
     "text": [
      "Found 9 games\n",
      "Found 173 sets\n",
      "Found 15 games\n",
      "Found 174 sets\n",
      "Found 1 games\n",
      "Found 175 sets\n"
     ]
    },
    {
     "name": "stderr",
     "output_type": "stream",
     "text": [
      "\r",
      " 12%|████▋                                   | 59/500 [23:03<2:24:24, 19.65s/it]"
     ]
    },
    {
     "name": "stdout",
     "output_type": "stream",
     "text": [
      "Found 0 games\n",
      "Found 176 sets\n",
      "Found 17 games\n",
      "Found 177 sets\n",
      "Found 6 games\n",
      "Found 178 sets\n"
     ]
    },
    {
     "name": "stderr",
     "output_type": "stream",
     "text": [
      "\r",
      " 12%|████▊                                   | 60/500 [23:23<2:24:50, 19.75s/it]"
     ]
    },
    {
     "name": "stdout",
     "output_type": "stream",
     "text": [
      "Found 4 games\n",
      "Found 179 sets\n",
      "Found 19 games\n",
      "Found 180 sets\n",
      "Found 10 games\n",
      "Found 181 sets\n"
     ]
    },
    {
     "name": "stderr",
     "output_type": "stream",
     "text": [
      "\r",
      " 12%|████▉                                   | 61/500 [23:50<2:40:21, 21.92s/it]"
     ]
    },
    {
     "name": "stdout",
     "output_type": "stream",
     "text": [
      "Found 7 games\n",
      "Found 182 sets\n",
      "Found 15 games\n",
      "Found 183 sets\n",
      "Found 5 games\n",
      "Found 184 sets\n"
     ]
    },
    {
     "name": "stderr",
     "output_type": "stream",
     "text": [
      "\r",
      " 12%|████▉                                   | 62/500 [24:10<2:35:46, 21.34s/it]"
     ]
    },
    {
     "name": "stdout",
     "output_type": "stream",
     "text": [
      "Found 3 games\n",
      "Found 185 sets\n",
      "Found 19 games\n",
      "Found 186 sets\n",
      "Found 8 games\n",
      "Found 187 sets\n"
     ]
    },
    {
     "name": "stderr",
     "output_type": "stream",
     "text": [
      "\r",
      " 13%|█████                                   | 63/500 [24:33<2:40:07, 21.98s/it]"
     ]
    },
    {
     "name": "stdout",
     "output_type": "stream",
     "text": [
      "Found 3 games\n",
      "Found 188 sets\n",
      "Found 14 games\n",
      "Found 189 sets\n",
      "Found 7 games\n",
      "Found 190 sets\n"
     ]
    },
    {
     "name": "stderr",
     "output_type": "stream",
     "text": [
      "\r",
      " 13%|█████                                   | 64/500 [24:53<2:34:09, 21.21s/it]"
     ]
    },
    {
     "name": "stdout",
     "output_type": "stream",
     "text": [
      "Found 7 games\n",
      "Found 191 sets\n",
      "Found 10 games\n",
      "Found 192 sets\n",
      "Found 6 games\n",
      "Found 193 sets\n"
     ]
    },
    {
     "name": "stderr",
     "output_type": "stream",
     "text": [
      "\r",
      " 13%|█████▏                                  | 65/500 [25:11<2:28:06, 20.43s/it]"
     ]
    },
    {
     "name": "stdout",
     "output_type": "stream",
     "text": [
      "Found 6 games\n",
      "Found 194 sets\n",
      "Found 18 games\n",
      "Found 195 sets\n",
      "Found 9 games\n",
      "Found 196 sets\n"
     ]
    },
    {
     "name": "stderr",
     "output_type": "stream",
     "text": [
      "\r",
      " 13%|█████▎                                  | 66/500 [25:31<2:26:49, 20.30s/it]"
     ]
    },
    {
     "name": "stdout",
     "output_type": "stream",
     "text": [
      "Found 4 games\n",
      "Found 197 sets\n",
      "Found 18 games\n",
      "Found 198 sets\n",
      "Found 10 games\n",
      "Found 199 sets\n"
     ]
    },
    {
     "name": "stderr",
     "output_type": "stream",
     "text": [
      "\r",
      " 13%|█████▎                                  | 67/500 [25:53<2:30:34, 20.87s/it]"
     ]
    },
    {
     "name": "stdout",
     "output_type": "stream",
     "text": [
      "Found 6 games\n",
      "Found 200 sets\n",
      "Found 16 games\n",
      "Found 201 sets\n",
      "Found 4 games\n",
      "Found 202 sets\n"
     ]
    },
    {
     "name": "stderr",
     "output_type": "stream",
     "text": [
      "\r",
      " 14%|█████▍                                  | 68/500 [26:13<2:27:40, 20.51s/it]"
     ]
    },
    {
     "name": "stdout",
     "output_type": "stream",
     "text": [
      "Found 3 games\n",
      "Found 203 sets\n",
      "Found 15 games\n",
      "Found 204 sets\n",
      "Found 6 games\n",
      "Found 205 sets\n"
     ]
    },
    {
     "name": "stderr",
     "output_type": "stream",
     "text": [
      "\r",
      " 14%|█████▌                                  | 69/500 [26:34<2:29:08, 20.76s/it]"
     ]
    },
    {
     "name": "stdout",
     "output_type": "stream",
     "text": [
      "Found 2 games\n",
      "Found 206 sets\n",
      "Found 16 games\n",
      "Found 207 sets\n",
      "Found 3 games\n",
      "Found 208 sets\n"
     ]
    },
    {
     "name": "stderr",
     "output_type": "stream",
     "text": [
      "\r",
      " 14%|█████▌                                  | 70/500 [26:55<2:28:10, 20.67s/it]"
     ]
    },
    {
     "name": "stdout",
     "output_type": "stream",
     "text": [
      "Found 2 games\n",
      "Found 209 sets\n",
      "Found 17 games\n",
      "Found 210 sets\n",
      "Found 8 games\n",
      "Found 211 sets\n"
     ]
    },
    {
     "name": "stderr",
     "output_type": "stream",
     "text": [
      "\r",
      " 14%|█████▋                                  | 71/500 [27:20<2:38:25, 22.16s/it]"
     ]
    },
    {
     "name": "stdout",
     "output_type": "stream",
     "text": [
      "Found 6 games\n",
      "Found 212 sets\n",
      "Found 18 games\n",
      "Found 213 sets\n",
      "Found 12 games\n",
      "Found 214 sets\n"
     ]
    },
    {
     "name": "stderr",
     "output_type": "stream",
     "text": [
      "\r",
      " 14%|█████▊                                  | 72/500 [27:42<2:36:20, 21.92s/it]"
     ]
    },
    {
     "name": "stdout",
     "output_type": "stream",
     "text": [
      "Found 8 games\n",
      "Found 215 sets\n",
      "Found 18 games\n",
      "Found 216 sets\n",
      "Found 8 games\n",
      "Found 217 sets\n"
     ]
    },
    {
     "name": "stderr",
     "output_type": "stream",
     "text": [
      "\r",
      " 15%|█████▊                                  | 73/500 [28:04<2:37:05, 22.07s/it]"
     ]
    },
    {
     "name": "stdout",
     "output_type": "stream",
     "text": [
      "Found 5 games\n",
      "Found 218 sets\n",
      "Found 16 games\n",
      "Found 219 sets\n",
      "Found 5 games\n",
      "Found 220 sets\n"
     ]
    },
    {
     "name": "stderr",
     "output_type": "stream",
     "text": [
      "\r",
      " 15%|█████▉                                  | 74/500 [28:24<2:32:00, 21.41s/it]"
     ]
    },
    {
     "name": "stdout",
     "output_type": "stream",
     "text": [
      "Found 3 games\n",
      "Found 221 sets\n",
      "Found 18 games\n",
      "Found 222 sets\n",
      "Found 10 games\n",
      "Found 223 sets\n"
     ]
    },
    {
     "name": "stderr",
     "output_type": "stream",
     "text": [
      "\r",
      " 15%|██████                                  | 75/500 [28:44<2:29:28, 21.10s/it]"
     ]
    },
    {
     "name": "stdout",
     "output_type": "stream",
     "text": [
      "Found 8 games\n",
      "Found 224 sets\n",
      "Found 18 games\n",
      "Found 225 sets\n",
      "Found 11 games\n",
      "Found 226 sets\n"
     ]
    },
    {
     "name": "stderr",
     "output_type": "stream",
     "text": [
      "\r",
      " 15%|██████                                  | 76/500 [29:06<2:30:13, 21.26s/it]"
     ]
    },
    {
     "name": "stdout",
     "output_type": "stream",
     "text": [
      "Found 9 games\n",
      "Found 227 sets\n",
      "Found 19 games\n",
      "Found 228 sets\n",
      "Found 7 games\n",
      "Found 229 sets\n"
     ]
    },
    {
     "name": "stderr",
     "output_type": "stream",
     "text": [
      "\r",
      " 15%|██████▏                                 | 77/500 [29:28<2:30:32, 21.35s/it]"
     ]
    },
    {
     "name": "stdout",
     "output_type": "stream",
     "text": [
      "Found 4 games\n",
      "Found 230 sets\n",
      "Found 19 games\n",
      "Found 231 sets\n",
      "Found 8 games\n",
      "Found 232 sets\n"
     ]
    },
    {
     "name": "stderr",
     "output_type": "stream",
     "text": [
      "\r",
      " 16%|██████▏                                 | 78/500 [29:48<2:28:11, 21.07s/it]"
     ]
    },
    {
     "name": "stdout",
     "output_type": "stream",
     "text": [
      "Found 5 games\n",
      "Found 233 sets\n",
      "Found 17 games\n",
      "Found 234 sets\n",
      "Found 14 games\n",
      "Found 235 sets\n"
     ]
    },
    {
     "name": "stderr",
     "output_type": "stream",
     "text": [
      "\r",
      " 16%|██████▎                                 | 79/500 [30:07<2:23:28, 20.45s/it]"
     ]
    },
    {
     "name": "stdout",
     "output_type": "stream",
     "text": [
      "Found 9 games\n",
      "Found 236 sets\n",
      "Found 16 games\n",
      "Found 237 sets\n",
      "Found 8 games\n",
      "Found 238 sets\n"
     ]
    },
    {
     "name": "stderr",
     "output_type": "stream",
     "text": [
      "\r",
      " 16%|██████▍                                 | 80/500 [30:28<2:24:06, 20.59s/it]"
     ]
    },
    {
     "name": "stdout",
     "output_type": "stream",
     "text": [
      "Found 6 games\n",
      "Found 239 sets\n",
      "Found 16 games\n",
      "Found 240 sets\n",
      "Found 7 games\n",
      "Found 241 sets\n"
     ]
    },
    {
     "name": "stderr",
     "output_type": "stream",
     "text": [
      "\r",
      " 16%|██████▍                                 | 81/500 [30:52<2:31:52, 21.75s/it]"
     ]
    },
    {
     "name": "stdout",
     "output_type": "stream",
     "text": [
      "Found 4 games\n",
      "Found 242 sets\n",
      "Found 19 games\n",
      "Found 243 sets\n",
      "Found 7 games\n",
      "Found 244 sets\n"
     ]
    },
    {
     "name": "stderr",
     "output_type": "stream",
     "text": [
      "\r",
      " 16%|██████▌                                 | 82/500 [31:14<2:30:12, 21.56s/it]"
     ]
    },
    {
     "name": "stdout",
     "output_type": "stream",
     "text": [
      "Found 4 games\n",
      "Found 245 sets\n",
      "Found 16 games\n",
      "Found 246 sets\n",
      "Found 1 games\n",
      "Found 247 sets\n"
     ]
    },
    {
     "name": "stderr",
     "output_type": "stream",
     "text": [
      "\r",
      " 17%|██████▋                                 | 83/500 [31:35<2:30:11, 21.61s/it]"
     ]
    },
    {
     "name": "stdout",
     "output_type": "stream",
     "text": [
      "Found 1 games\n",
      "Found 248 sets\n",
      "Found 19 games\n",
      "Found 249 sets\n",
      "Found 11 games\n",
      "Found 250 sets\n"
     ]
    },
    {
     "name": "stderr",
     "output_type": "stream",
     "text": [
      "\r",
      " 17%|██████▋                                 | 84/500 [32:00<2:35:18, 22.40s/it]"
     ]
    },
    {
     "name": "stdout",
     "output_type": "stream",
     "text": [
      "Found 8 games\n",
      "Found 251 sets\n",
      "Found 18 games\n",
      "Found 252 sets\n",
      "Found 9 games\n",
      "Found 253 sets\n"
     ]
    },
    {
     "name": "stderr",
     "output_type": "stream",
     "text": [
      "\r",
      " 17%|██████▊                                 | 85/500 [32:18<2:26:02, 21.12s/it]"
     ]
    },
    {
     "name": "stdout",
     "output_type": "stream",
     "text": [
      "Found 5 games\n",
      "Found 254 sets\n",
      "Found 19 games\n",
      "Found 255 sets\n",
      "Found 11 games\n",
      "Found 256 sets\n"
     ]
    },
    {
     "name": "stderr",
     "output_type": "stream",
     "text": [
      "\r",
      " 17%|██████▉                                 | 86/500 [32:41<2:29:58, 21.74s/it]"
     ]
    },
    {
     "name": "stdout",
     "output_type": "stream",
     "text": [
      "Found 6 games\n",
      "Found 257 sets\n",
      "Found 17 games\n",
      "Found 258 sets\n",
      "Found 7 games\n",
      "Found 259 sets\n"
     ]
    },
    {
     "name": "stderr",
     "output_type": "stream",
     "text": [
      "\r",
      " 17%|██████▉                                 | 87/500 [33:02<2:27:35, 21.44s/it]"
     ]
    },
    {
     "name": "stdout",
     "output_type": "stream",
     "text": [
      "Found 3 games\n",
      "Found 260 sets\n",
      "Found 17 games\n",
      "Found 261 sets\n",
      "Found 8 games\n",
      "Found 262 sets\n"
     ]
    },
    {
     "name": "stderr",
     "output_type": "stream",
     "text": [
      "\r",
      " 18%|███████                                 | 88/500 [33:22<2:24:36, 21.06s/it]"
     ]
    },
    {
     "name": "stdout",
     "output_type": "stream",
     "text": [
      "Found 5 games\n",
      "Found 263 sets\n",
      "Found 16 games\n",
      "Found 264 sets\n",
      "Found 10 games\n",
      "Found 265 sets\n"
     ]
    },
    {
     "name": "stderr",
     "output_type": "stream",
     "text": [
      "\r",
      " 18%|███████                                 | 89/500 [33:41<2:20:26, 20.50s/it]"
     ]
    },
    {
     "name": "stdout",
     "output_type": "stream",
     "text": [
      "Found 4 games\n",
      "Found 266 sets\n",
      "Found 18 games\n",
      "Found 267 sets\n",
      "Found 5 games\n",
      "Found 268 sets\n"
     ]
    },
    {
     "name": "stderr",
     "output_type": "stream",
     "text": [
      "\r",
      " 18%|███████▏                                | 90/500 [34:02<2:20:46, 20.60s/it]"
     ]
    },
    {
     "name": "stdout",
     "output_type": "stream",
     "text": [
      "Found 2 games\n",
      "Found 269 sets\n",
      "Found 14 games\n",
      "Found 270 sets\n",
      "Found 3 games\n",
      "Found 271 sets\n"
     ]
    },
    {
     "name": "stderr",
     "output_type": "stream",
     "text": [
      "\r",
      " 18%|███████▎                                | 91/500 [34:21<2:17:13, 20.13s/it]"
     ]
    },
    {
     "name": "stdout",
     "output_type": "stream",
     "text": [
      "Found 2 games\n",
      "Found 272 sets\n",
      "Found 17 games\n",
      "Found 273 sets\n",
      "Found 13 games\n",
      "Found 274 sets\n"
     ]
    },
    {
     "name": "stderr",
     "output_type": "stream",
     "text": [
      "\r",
      " 18%|███████▎                                | 92/500 [34:40<2:14:48, 19.82s/it]"
     ]
    },
    {
     "name": "stdout",
     "output_type": "stream",
     "text": [
      "Found 6 games\n",
      "Found 275 sets\n",
      "Found 15 games\n",
      "Found 276 sets\n",
      "Found 3 games\n",
      "Found 277 sets\n"
     ]
    },
    {
     "name": "stderr",
     "output_type": "stream",
     "text": [
      "\r",
      " 19%|███████▍                                | 93/500 [35:00<2:14:16, 19.79s/it]"
     ]
    },
    {
     "name": "stdout",
     "output_type": "stream",
     "text": [
      "Found 1 games\n",
      "Found 278 sets\n",
      "Found 15 games\n",
      "Found 279 sets\n",
      "Found 4 games\n",
      "Found 280 sets\n"
     ]
    },
    {
     "name": "stderr",
     "output_type": "stream",
     "text": [
      "\r",
      " 19%|███████▌                                | 94/500 [35:19<2:12:48, 19.63s/it]"
     ]
    },
    {
     "name": "stdout",
     "output_type": "stream",
     "text": [
      "Found 0 games\n",
      "Found 281 sets\n",
      "Found 16 games\n",
      "Found 282 sets\n",
      "Found 6 games\n",
      "Found 283 sets\n"
     ]
    },
    {
     "name": "stderr",
     "output_type": "stream",
     "text": [
      "\r",
      " 19%|███████▌                                | 95/500 [35:40<2:15:51, 20.13s/it]"
     ]
    },
    {
     "name": "stdout",
     "output_type": "stream",
     "text": [
      "Found 3 games\n",
      "Found 284 sets\n",
      "Found 16 games\n",
      "Found 285 sets\n",
      "Found 4 games\n",
      "Found 286 sets\n"
     ]
    },
    {
     "name": "stderr",
     "output_type": "stream",
     "text": [
      "\r",
      " 19%|███████▋                                | 96/500 [36:03<2:20:11, 20.82s/it]"
     ]
    },
    {
     "name": "stdout",
     "output_type": "stream",
     "text": [
      "Found 2 games\n",
      "Found 287 sets\n",
      "Found 17 games\n",
      "Found 288 sets\n",
      "Found 4 games\n",
      "Found 289 sets\n"
     ]
    },
    {
     "name": "stderr",
     "output_type": "stream",
     "text": [
      "\r",
      " 19%|███████▊                                | 97/500 [36:35<2:42:29, 24.19s/it]"
     ]
    },
    {
     "name": "stdout",
     "output_type": "stream",
     "text": [
      "Found 4 games\n",
      "Found 290 sets\n",
      "Found 17 games\n",
      "Found 291 sets\n",
      "Found 4 games\n",
      "Found 292 sets\n"
     ]
    },
    {
     "name": "stderr",
     "output_type": "stream",
     "text": [
      "\r",
      " 20%|███████▊                                | 98/500 [36:53<2:30:08, 22.41s/it]"
     ]
    },
    {
     "name": "stdout",
     "output_type": "stream",
     "text": [
      "Found 2 games\n",
      "Found 293 sets\n",
      "Found 19 games\n",
      "Found 294 sets\n",
      "Found 8 games\n",
      "Found 295 sets\n"
     ]
    },
    {
     "name": "stderr",
     "output_type": "stream",
     "text": [
      "\r",
      " 20%|███████▉                                | 99/500 [37:14<2:27:29, 22.07s/it]"
     ]
    },
    {
     "name": "stdout",
     "output_type": "stream",
     "text": [
      "Found 3 games\n",
      "Found 296 sets\n",
      "Found 18 games\n",
      "Found 297 sets\n",
      "Found 3 games\n",
      "Found 298 sets\n"
     ]
    },
    {
     "name": "stderr",
     "output_type": "stream",
     "text": [
      "\r",
      " 20%|███████▊                               | 100/500 [37:33<2:19:46, 20.97s/it]"
     ]
    },
    {
     "name": "stdout",
     "output_type": "stream",
     "text": [
      "Found 3 games\n",
      "Found 299 sets\n",
      "Found 18 games\n",
      "Found 300 sets\n",
      "Found 3 games\n",
      "Found 301 sets\n"
     ]
    },
    {
     "name": "stderr",
     "output_type": "stream",
     "text": [
      "\r",
      " 20%|███████▉                               | 101/500 [37:51<2:14:38, 20.25s/it]"
     ]
    },
    {
     "name": "stdout",
     "output_type": "stream",
     "text": [
      "Found 2 games\n",
      "Found 302 sets\n",
      "Found 16 games\n",
      "Found 303 sets\n",
      "Found 1 games\n",
      "Found 304 sets\n"
     ]
    },
    {
     "name": "stderr",
     "output_type": "stream",
     "text": [
      "\r",
      " 20%|███████▉                               | 102/500 [38:10<2:11:06, 19.77s/it]"
     ]
    },
    {
     "name": "stdout",
     "output_type": "stream",
     "text": [
      "Found 1 games\n",
      "Found 305 sets\n",
      "Found 16 games\n",
      "Found 306 sets\n",
      "Found 3 games\n",
      "Found 307 sets\n"
     ]
    },
    {
     "name": "stderr",
     "output_type": "stream",
     "text": [
      "\r",
      " 21%|████████                               | 103/500 [38:27<2:05:16, 18.93s/it]"
     ]
    },
    {
     "name": "stdout",
     "output_type": "stream",
     "text": [
      "Found 2 games\n",
      "Found 308 sets\n",
      "Found 16 games\n",
      "Found 309 sets\n",
      "Found 8 games\n",
      "Found 310 sets\n"
     ]
    },
    {
     "name": "stderr",
     "output_type": "stream",
     "text": [
      "\r",
      " 21%|████████                               | 104/500 [38:47<2:06:51, 19.22s/it]"
     ]
    },
    {
     "name": "stdout",
     "output_type": "stream",
     "text": [
      "Found 4 games\n",
      "Found 311 sets\n",
      "Found 14 games\n",
      "Found 312 sets\n",
      "Found 2 games\n",
      "Found 313 sets\n"
     ]
    },
    {
     "name": "stderr",
     "output_type": "stream",
     "text": [
      "\r",
      " 21%|████████▏                              | 105/500 [39:13<2:20:23, 21.32s/it]"
     ]
    },
    {
     "name": "stdout",
     "output_type": "stream",
     "text": [
      "Found 1 games\n",
      "Found 314 sets\n",
      "Found 16 games\n",
      "Found 315 sets\n",
      "Found 4 games\n",
      "Found 316 sets\n"
     ]
    },
    {
     "name": "stderr",
     "output_type": "stream",
     "text": [
      "\r",
      " 21%|████████▎                              | 106/500 [39:33<2:17:32, 20.95s/it]"
     ]
    },
    {
     "name": "stdout",
     "output_type": "stream",
     "text": [
      "Found 1 games\n",
      "Found 317 sets\n",
      "Found 17 games\n",
      "Found 318 sets\n",
      "Found 9 games\n",
      "Found 319 sets\n"
     ]
    },
    {
     "name": "stderr",
     "output_type": "stream",
     "text": [
      "\r",
      " 21%|████████▎                              | 107/500 [39:53<2:15:18, 20.66s/it]"
     ]
    },
    {
     "name": "stdout",
     "output_type": "stream",
     "text": [
      "Found 3 games\n",
      "Found 320 sets\n",
      "Found 18 games\n",
      "Found 321 sets\n",
      "Found 3 games\n",
      "Found 322 sets\n"
     ]
    },
    {
     "name": "stderr",
     "output_type": "stream",
     "text": [
      "\r",
      " 22%|████████▍                              | 108/500 [40:15<2:17:59, 21.12s/it]"
     ]
    },
    {
     "name": "stdout",
     "output_type": "stream",
     "text": [
      "Found 1 games\n",
      "Found 323 sets\n",
      "Found 17 games\n",
      "Found 324 sets\n",
      "Found 6 games\n",
      "Found 325 sets\n"
     ]
    },
    {
     "name": "stderr",
     "output_type": "stream",
     "text": [
      "\r",
      " 22%|████████▌                              | 109/500 [40:38<2:20:21, 21.54s/it]"
     ]
    },
    {
     "name": "stdout",
     "output_type": "stream",
     "text": [
      "Found 4 games\n",
      "Found 326 sets\n",
      "Found 16 games\n",
      "Found 327 sets\n",
      "Found 4 games\n",
      "Found 328 sets\n"
     ]
    },
    {
     "name": "stderr",
     "output_type": "stream",
     "text": [
      "\r",
      " 22%|████████▌                              | 110/500 [40:55<2:12:05, 20.32s/it]"
     ]
    },
    {
     "name": "stdout",
     "output_type": "stream",
     "text": [
      "Found 1 games\n",
      "Found 329 sets\n",
      "Found 18 games\n",
      "Found 330 sets\n",
      "Found 5 games\n",
      "Found 331 sets\n"
     ]
    },
    {
     "name": "stderr",
     "output_type": "stream",
     "text": [
      "\r",
      " 22%|████████▋                              | 111/500 [41:14<2:09:37, 19.99s/it]"
     ]
    },
    {
     "name": "stdout",
     "output_type": "stream",
     "text": [
      "Found 1 games\n",
      "Found 332 sets\n",
      "Found 19 games\n",
      "Found 333 sets\n",
      "Found 6 games\n",
      "Found 334 sets\n"
     ]
    },
    {
     "name": "stderr",
     "output_type": "stream",
     "text": [
      "\r",
      " 22%|████████▋                              | 112/500 [41:45<2:29:11, 23.07s/it]"
     ]
    },
    {
     "name": "stdout",
     "output_type": "stream",
     "text": [
      "Found 3 games\n",
      "Found 335 sets\n",
      "Found 13 games\n",
      "Found 336 sets\n",
      "Found 10 games\n",
      "Found 337 sets\n"
     ]
    },
    {
     "name": "stderr",
     "output_type": "stream",
     "text": [
      "\r",
      " 23%|████████▊                              | 113/500 [42:07<2:27:48, 22.92s/it]"
     ]
    },
    {
     "name": "stdout",
     "output_type": "stream",
     "text": [
      "Found 4 games\n",
      "Found 338 sets\n",
      "Found 16 games\n",
      "Found 339 sets\n",
      "Found 4 games\n",
      "Found 340 sets\n"
     ]
    },
    {
     "name": "stderr",
     "output_type": "stream",
     "text": [
      "\r",
      " 23%|████████▉                              | 114/500 [42:34<2:35:05, 24.11s/it]"
     ]
    },
    {
     "name": "stdout",
     "output_type": "stream",
     "text": [
      "Found 2 games\n",
      "Found 341 sets\n",
      "Found 16 games\n",
      "Found 342 sets\n",
      "Found 6 games\n",
      "Found 343 sets\n"
     ]
    },
    {
     "name": "stderr",
     "output_type": "stream",
     "text": [
      "\r",
      " 23%|████████▉                              | 115/500 [42:56<2:31:09, 23.56s/it]"
     ]
    },
    {
     "name": "stdout",
     "output_type": "stream",
     "text": [
      "Found 4 games\n",
      "Found 344 sets\n",
      "Found 17 games\n",
      "Found 345 sets\n",
      "Found 2 games\n",
      "Found 346 sets\n"
     ]
    },
    {
     "name": "stderr",
     "output_type": "stream",
     "text": [
      "\r",
      " 23%|█████████                              | 116/500 [43:20<2:30:50, 23.57s/it]"
     ]
    },
    {
     "name": "stdout",
     "output_type": "stream",
     "text": [
      "Found 1 games\n",
      "Found 347 sets\n",
      "Found 12 games\n",
      "Found 348 sets\n",
      "Found 3 games\n",
      "Found 349 sets\n"
     ]
    },
    {
     "name": "stderr",
     "output_type": "stream",
     "text": [
      "\r",
      " 23%|█████████▏                             | 117/500 [43:45<2:32:47, 23.94s/it]"
     ]
    },
    {
     "name": "stdout",
     "output_type": "stream",
     "text": [
      "Found 2 games\n",
      "Found 350 sets\n",
      "Found 17 games\n",
      "Found 351 sets\n",
      "Found 5 games\n",
      "Found 352 sets\n"
     ]
    },
    {
     "name": "stderr",
     "output_type": "stream",
     "text": [
      "\r",
      " 24%|█████████▏                             | 118/500 [44:07<2:29:08, 23.42s/it]"
     ]
    },
    {
     "name": "stdout",
     "output_type": "stream",
     "text": [
      "Found 2 games\n",
      "Found 353 sets\n",
      "Found 18 games\n",
      "Found 354 sets\n",
      "Found 7 games\n",
      "Found 355 sets\n"
     ]
    },
    {
     "name": "stderr",
     "output_type": "stream",
     "text": [
      "\r",
      " 24%|█████████▎                             | 119/500 [44:31<2:29:57, 23.62s/it]"
     ]
    },
    {
     "name": "stdout",
     "output_type": "stream",
     "text": [
      "Found 3 games\n",
      "Found 356 sets\n",
      "Found 12 games\n",
      "Found 357 sets\n",
      "Found 4 games\n",
      "Found 358 sets\n"
     ]
    },
    {
     "name": "stderr",
     "output_type": "stream",
     "text": [
      "\r",
      " 24%|█████████▎                             | 120/500 [45:00<2:40:03, 25.27s/it]"
     ]
    },
    {
     "name": "stdout",
     "output_type": "stream",
     "text": [
      "Found 2 games\n",
      "Found 359 sets\n",
      "Found 13 games\n",
      "Found 360 sets\n",
      "Found 2 games\n",
      "Found 361 sets\n"
     ]
    },
    {
     "name": "stderr",
     "output_type": "stream",
     "text": [
      "\r",
      " 24%|█████████▍                             | 121/500 [45:21<2:30:13, 23.78s/it]"
     ]
    },
    {
     "name": "stdout",
     "output_type": "stream",
     "text": [
      "Found 0 games\n",
      "Found 362 sets\n",
      "Found 14 games\n",
      "Found 363 sets\n",
      "Found 3 games\n",
      "Found 364 sets\n"
     ]
    },
    {
     "name": "stderr",
     "output_type": "stream",
     "text": [
      "\r",
      " 24%|█████████▌                             | 122/500 [45:43<2:27:11, 23.36s/it]"
     ]
    },
    {
     "name": "stdout",
     "output_type": "stream",
     "text": [
      "Found 1 games\n",
      "Found 365 sets\n",
      "Found 17 games\n",
      "Found 366 sets\n",
      "Found 10 games\n",
      "Found 367 sets\n"
     ]
    },
    {
     "name": "stderr",
     "output_type": "stream",
     "text": [
      "\r",
      " 25%|█████████▌                             | 123/500 [46:07<2:28:45, 23.68s/it]"
     ]
    },
    {
     "name": "stdout",
     "output_type": "stream",
     "text": [
      "Found 5 games\n",
      "Found 368 sets\n",
      "Found 17 games\n",
      "Found 369 sets\n",
      "Found 6 games\n",
      "Found 370 sets\n"
     ]
    },
    {
     "name": "stderr",
     "output_type": "stream",
     "text": [
      "\r",
      " 25%|█████████▋                             | 124/500 [46:28<2:21:49, 22.63s/it]"
     ]
    },
    {
     "name": "stdout",
     "output_type": "stream",
     "text": [
      "Found 4 games\n",
      "Found 371 sets\n",
      "Found 14 games\n",
      "Found 372 sets\n",
      "Found 0 games\n",
      "Found 373 sets\n"
     ]
    },
    {
     "name": "stderr",
     "output_type": "stream",
     "text": [
      "\r",
      " 25%|█████████▊                             | 125/500 [46:51<2:22:21, 22.78s/it]"
     ]
    },
    {
     "name": "stdout",
     "output_type": "stream",
     "text": [
      "Found 0 games\n",
      "Found 374 sets\n",
      "Found 18 games\n",
      "Found 375 sets\n",
      "Found 3 games\n",
      "Found 376 sets\n"
     ]
    },
    {
     "name": "stderr",
     "output_type": "stream",
     "text": [
      "\r",
      " 25%|█████████▊                             | 126/500 [47:15<2:25:48, 23.39s/it]"
     ]
    },
    {
     "name": "stdout",
     "output_type": "stream",
     "text": [
      "Found 3 games\n",
      "Found 377 sets\n",
      "Found 18 games\n",
      "Found 378 sets\n",
      "Found 8 games\n",
      "Found 379 sets\n"
     ]
    },
    {
     "name": "stderr",
     "output_type": "stream",
     "text": [
      "\r",
      " 25%|█████████▉                             | 127/500 [47:47<2:41:25, 25.97s/it]"
     ]
    },
    {
     "name": "stdout",
     "output_type": "stream",
     "text": [
      "Found 6 games\n",
      "Found 380 sets\n",
      "Found 15 games\n",
      "Found 381 sets\n",
      "Found 5 games\n",
      "Found 382 sets\n"
     ]
    },
    {
     "name": "stderr",
     "output_type": "stream",
     "text": [
      "\r",
      " 26%|█████████▉                             | 128/500 [48:11<2:36:41, 25.27s/it]"
     ]
    },
    {
     "name": "stdout",
     "output_type": "stream",
     "text": [
      "Found 4 games\n",
      "Found 383 sets\n",
      "Found 16 games\n",
      "Found 384 sets\n",
      "Found 8 games\n",
      "Found 385 sets\n"
     ]
    },
    {
     "name": "stderr",
     "output_type": "stream",
     "text": [
      "\r",
      " 26%|██████████                             | 129/500 [48:30<2:24:34, 23.38s/it]"
     ]
    },
    {
     "name": "stdout",
     "output_type": "stream",
     "text": [
      "Found 4 games\n",
      "Found 386 sets\n",
      "Found 17 games\n",
      "Found 387 sets\n",
      "Found 8 games\n",
      "Found 388 sets\n"
     ]
    },
    {
     "name": "stderr",
     "output_type": "stream",
     "text": [
      "\r",
      " 26%|██████████▏                            | 130/500 [48:51<2:18:54, 22.53s/it]"
     ]
    },
    {
     "name": "stdout",
     "output_type": "stream",
     "text": [
      "Found 6 games\n",
      "Found 389 sets\n",
      "Found 14 games\n",
      "Found 390 sets\n",
      "Found 6 games\n",
      "Found 391 sets\n"
     ]
    },
    {
     "name": "stderr",
     "output_type": "stream",
     "text": [
      "\r",
      " 26%|██████████▏                            | 131/500 [49:09<2:11:34, 21.39s/it]"
     ]
    },
    {
     "name": "stdout",
     "output_type": "stream",
     "text": [
      "Found 4 games\n",
      "Found 392 sets\n",
      "Found 16 games\n",
      "Found 393 sets\n",
      "Found 5 games\n",
      "Found 394 sets\n"
     ]
    },
    {
     "name": "stderr",
     "output_type": "stream",
     "text": [
      "\r",
      " 26%|██████████▎                            | 132/500 [49:28<2:05:33, 20.47s/it]"
     ]
    },
    {
     "name": "stdout",
     "output_type": "stream",
     "text": [
      "Found 3 games\n",
      "Found 395 sets\n",
      "Found 18 games\n",
      "Found 396 sets\n",
      "Found 4 games\n",
      "Found 397 sets\n"
     ]
    },
    {
     "name": "stderr",
     "output_type": "stream",
     "text": [
      "\r",
      " 27%|██████████▎                            | 133/500 [49:58<2:22:31, 23.30s/it]"
     ]
    },
    {
     "name": "stdout",
     "output_type": "stream",
     "text": [
      "Found 4 games\n",
      "Found 398 sets\n",
      "Found 18 games\n",
      "Found 399 sets\n",
      "Found 6 games\n",
      "Found 400 sets\n"
     ]
    },
    {
     "name": "stderr",
     "output_type": "stream",
     "text": [
      "\r",
      " 27%|██████████▍                            | 134/500 [50:17<2:14:19, 22.02s/it]"
     ]
    },
    {
     "name": "stdout",
     "output_type": "stream",
     "text": [
      "Found 3 games\n",
      "Found 401 sets\n",
      "Found 15 games\n",
      "Found 402 sets\n",
      "Found 3 games\n",
      "Found 403 sets\n"
     ]
    },
    {
     "name": "stderr",
     "output_type": "stream",
     "text": [
      "\r",
      " 27%|██████████▌                            | 135/500 [50:34<2:04:58, 20.54s/it]"
     ]
    },
    {
     "name": "stdout",
     "output_type": "stream",
     "text": [
      "Found 1 games\n",
      "Found 404 sets\n",
      "Found 17 games\n",
      "Found 405 sets\n",
      "Found 2 games\n",
      "Found 406 sets\n"
     ]
    },
    {
     "name": "stderr",
     "output_type": "stream",
     "text": [
      "\r",
      " 27%|██████████▌                            | 136/500 [50:54<2:04:54, 20.59s/it]"
     ]
    },
    {
     "name": "stdout",
     "output_type": "stream",
     "text": [
      "Found 2 games\n",
      "Found 407 sets\n",
      "Found 15 games\n",
      "Found 408 sets\n",
      "Found 2 games\n",
      "Found 409 sets\n"
     ]
    },
    {
     "name": "stderr",
     "output_type": "stream",
     "text": [
      "\r",
      " 27%|██████████▋                            | 137/500 [51:14<2:02:05, 20.18s/it]"
     ]
    },
    {
     "name": "stdout",
     "output_type": "stream",
     "text": [
      "Found 0 games\n",
      "Found 410 sets\n",
      "Found 18 games\n",
      "Found 411 sets\n",
      "Found 5 games\n",
      "Found 412 sets\n"
     ]
    },
    {
     "name": "stderr",
     "output_type": "stream",
     "text": [
      "\r",
      " 28%|██████████▊                            | 138/500 [51:35<2:04:11, 20.59s/it]"
     ]
    },
    {
     "name": "stdout",
     "output_type": "stream",
     "text": [
      "Found 3 games\n",
      "Found 413 sets\n",
      "Found 17 games\n",
      "Found 414 sets\n",
      "Found 7 games\n",
      "Found 415 sets\n"
     ]
    },
    {
     "name": "stderr",
     "output_type": "stream",
     "text": [
      "\r",
      " 28%|██████████▊                            | 139/500 [51:54<2:00:31, 20.03s/it]"
     ]
    },
    {
     "name": "stdout",
     "output_type": "stream",
     "text": [
      "Found 2 games\n",
      "Found 416 sets\n",
      "Found 16 games\n",
      "Found 417 sets\n",
      "Found 4 games\n",
      "Found 418 sets\n"
     ]
    },
    {
     "name": "stderr",
     "output_type": "stream",
     "text": [
      "\r",
      " 28%|██████████▉                            | 140/500 [52:13<1:57:48, 19.64s/it]"
     ]
    },
    {
     "name": "stdout",
     "output_type": "stream",
     "text": [
      "Found 3 games\n",
      "Found 419 sets\n",
      "Found 18 games\n",
      "Found 420 sets\n",
      "Found 8 games\n",
      "Found 421 sets\n"
     ]
    },
    {
     "name": "stderr",
     "output_type": "stream",
     "text": [
      "\r",
      " 28%|██████████▉                            | 141/500 [52:36<2:04:45, 20.85s/it]"
     ]
    },
    {
     "name": "stdout",
     "output_type": "stream",
     "text": [
      "Found 3 games\n",
      "Found 422 sets\n",
      "Found 16 games\n",
      "Found 423 sets\n",
      "Found 3 games\n",
      "Found 424 sets\n"
     ]
    },
    {
     "name": "stderr",
     "output_type": "stream",
     "text": [
      "\r",
      " 28%|███████████                            | 142/500 [52:55<2:00:58, 20.27s/it]"
     ]
    },
    {
     "name": "stdout",
     "output_type": "stream",
     "text": [
      "Found 2 games\n",
      "Found 425 sets\n",
      "Found 19 games\n",
      "Found 426 sets\n",
      "Found 4 games\n",
      "Found 427 sets\n"
     ]
    },
    {
     "name": "stderr",
     "output_type": "stream",
     "text": [
      "\r",
      " 29%|███████████▏                           | 143/500 [53:15<1:59:10, 20.03s/it]"
     ]
    },
    {
     "name": "stdout",
     "output_type": "stream",
     "text": [
      "Found 1 games\n",
      "Found 428 sets\n",
      "Found 18 games\n",
      "Found 429 sets\n",
      "Found 5 games\n",
      "Found 430 sets\n"
     ]
    },
    {
     "name": "stderr",
     "output_type": "stream",
     "text": [
      "\r",
      " 29%|███████████▏                           | 144/500 [53:34<1:56:43, 19.67s/it]"
     ]
    },
    {
     "name": "stdout",
     "output_type": "stream",
     "text": [
      "Found 2 games\n",
      "Found 431 sets\n",
      "Found 17 games\n",
      "Found 432 sets\n",
      "Found 5 games\n",
      "Found 433 sets\n"
     ]
    },
    {
     "name": "stderr",
     "output_type": "stream",
     "text": [
      "\r",
      " 29%|███████████▎                           | 145/500 [53:57<2:02:21, 20.68s/it]"
     ]
    },
    {
     "name": "stdout",
     "output_type": "stream",
     "text": [
      "Found 0 games\n",
      "Found 434 sets\n",
      "Found 16 games\n",
      "Found 435 sets\n",
      "Found 4 games\n",
      "Found 436 sets\n"
     ]
    },
    {
     "name": "stderr",
     "output_type": "stream",
     "text": [
      "\r",
      " 29%|███████████▍                           | 146/500 [54:18<2:03:14, 20.89s/it]"
     ]
    },
    {
     "name": "stdout",
     "output_type": "stream",
     "text": [
      "Found 2 games\n",
      "Found 437 sets\n",
      "Found 14 games\n",
      "Found 438 sets\n",
      "Found 2 games\n",
      "Found 439 sets\n"
     ]
    },
    {
     "name": "stderr",
     "output_type": "stream",
     "text": [
      "\r",
      " 29%|███████████▍                           | 147/500 [54:40<2:04:21, 21.14s/it]"
     ]
    },
    {
     "name": "stdout",
     "output_type": "stream",
     "text": [
      "Found 1 games\n",
      "Found 440 sets\n",
      "Found 18 games\n",
      "Found 441 sets\n",
      "Found 8 games\n",
      "Found 442 sets\n"
     ]
    },
    {
     "name": "stderr",
     "output_type": "stream",
     "text": [
      "\r",
      " 30%|███████████▌                           | 148/500 [55:05<2:11:33, 22.43s/it]"
     ]
    },
    {
     "name": "stdout",
     "output_type": "stream",
     "text": [
      "Found 3 games\n",
      "Found 443 sets\n",
      "Found 15 games\n",
      "Found 444 sets\n",
      "Found 8 games\n",
      "Found 445 sets\n"
     ]
    },
    {
     "name": "stderr",
     "output_type": "stream",
     "text": [
      "\r",
      " 30%|███████████▌                           | 149/500 [55:24<2:04:11, 21.23s/it]"
     ]
    },
    {
     "name": "stdout",
     "output_type": "stream",
     "text": [
      "Found 3 games\n",
      "Found 446 sets\n",
      "Found 18 games\n",
      "Found 447 sets\n",
      "Found 6 games\n",
      "Found 448 sets\n"
     ]
    },
    {
     "name": "stderr",
     "output_type": "stream",
     "text": [
      "\r",
      " 30%|███████████▋                           | 150/500 [55:46<2:06:26, 21.68s/it]"
     ]
    },
    {
     "name": "stdout",
     "output_type": "stream",
     "text": [
      "Found 4 games\n",
      "Found 449 sets\n",
      "Found 16 games\n",
      "Found 450 sets\n",
      "Found 0 games\n",
      "Found 451 sets\n"
     ]
    },
    {
     "name": "stderr",
     "output_type": "stream",
     "text": [
      "\r",
      " 30%|███████████▊                           | 151/500 [56:04<1:59:00, 20.46s/it]"
     ]
    },
    {
     "name": "stdout",
     "output_type": "stream",
     "text": [
      "Found 0 games\n",
      "Found 452 sets\n",
      "Found 17 games\n",
      "Found 453 sets\n",
      "Found 1 games\n",
      "Found 454 sets\n"
     ]
    },
    {
     "name": "stderr",
     "output_type": "stream",
     "text": [
      "\r",
      " 30%|███████████▊                           | 152/500 [56:26<2:00:48, 20.83s/it]"
     ]
    },
    {
     "name": "stdout",
     "output_type": "stream",
     "text": [
      "Found 0 games\n",
      "Found 455 sets\n",
      "Found 18 games\n",
      "Found 456 sets\n",
      "Found 5 games\n",
      "Found 457 sets\n"
     ]
    },
    {
     "name": "stderr",
     "output_type": "stream",
     "text": [
      "\r",
      " 31%|███████████▉                           | 153/500 [56:56<2:17:04, 23.70s/it]"
     ]
    },
    {
     "name": "stdout",
     "output_type": "stream",
     "text": [
      "Found 3 games\n",
      "Found 458 sets\n",
      "Found 18 games\n",
      "Found 459 sets\n",
      "Found 4 games\n",
      "Found 460 sets\n"
     ]
    },
    {
     "name": "stderr",
     "output_type": "stream",
     "text": [
      "\r",
      " 31%|████████████                           | 154/500 [57:23<2:22:03, 24.63s/it]"
     ]
    },
    {
     "name": "stdout",
     "output_type": "stream",
     "text": [
      "Found 2 games\n",
      "Found 461 sets\n",
      "Found 15 games\n",
      "Found 462 sets\n",
      "Found 7 games\n",
      "Found 463 sets\n"
     ]
    },
    {
     "name": "stderr",
     "output_type": "stream",
     "text": [
      "\r",
      " 31%|████████████                           | 155/500 [57:47<2:21:05, 24.54s/it]"
     ]
    },
    {
     "name": "stdout",
     "output_type": "stream",
     "text": [
      "Found 4 games\n",
      "Found 464 sets\n",
      "Found 18 games\n",
      "Found 465 sets\n",
      "Found 3 games\n",
      "Found 466 sets\n"
     ]
    },
    {
     "name": "stderr",
     "output_type": "stream",
     "text": [
      "\r",
      " 31%|████████████▏                          | 156/500 [58:08<2:14:37, 23.48s/it]"
     ]
    },
    {
     "name": "stdout",
     "output_type": "stream",
     "text": [
      "Found 1 games\n",
      "Found 467 sets\n",
      "Found 15 games\n",
      "Found 468 sets\n",
      "Found 6 games\n",
      "Found 469 sets\n"
     ]
    },
    {
     "name": "stderr",
     "output_type": "stream",
     "text": [
      "\r",
      " 31%|████████████▏                          | 157/500 [58:33<2:16:18, 23.85s/it]"
     ]
    },
    {
     "name": "stdout",
     "output_type": "stream",
     "text": [
      "Found 3 games\n",
      "Found 470 sets\n",
      "Found 17 games\n",
      "Found 471 sets\n",
      "Found 4 games\n",
      "Found 472 sets\n"
     ]
    },
    {
     "name": "stderr",
     "output_type": "stream",
     "text": [
      "\r",
      " 32%|████████████▎                          | 158/500 [58:54<2:12:16, 23.21s/it]"
     ]
    },
    {
     "name": "stdout",
     "output_type": "stream",
     "text": [
      "Found 2 games\n",
      "Found 473 sets\n",
      "Found 14 games\n",
      "Found 474 sets\n",
      "Found 1 games\n",
      "Found 475 sets\n"
     ]
    },
    {
     "name": "stderr",
     "output_type": "stream",
     "text": [
      "\r",
      " 32%|████████████▍                          | 159/500 [59:13<2:03:32, 21.74s/it]"
     ]
    },
    {
     "name": "stdout",
     "output_type": "stream",
     "text": [
      "Found 0 games\n",
      "Found 476 sets\n",
      "Found 14 games\n",
      "Found 477 sets\n",
      "Found 3 games\n",
      "Found 478 sets\n"
     ]
    },
    {
     "name": "stderr",
     "output_type": "stream",
     "text": [
      "\r",
      " 32%|████████████▍                          | 160/500 [59:34<2:03:06, 21.72s/it]"
     ]
    },
    {
     "name": "stdout",
     "output_type": "stream",
     "text": [
      "Found 2 games\n",
      "Found 479 sets\n",
      "Found 14 games\n",
      "Found 480 sets\n",
      "Found 4 games\n",
      "Found 481 sets\n"
     ]
    },
    {
     "name": "stderr",
     "output_type": "stream",
     "text": [
      "\r",
      " 32%|████████████▌                          | 161/500 [59:56<2:01:42, 21.54s/it]"
     ]
    },
    {
     "name": "stdout",
     "output_type": "stream",
     "text": [
      "Found 4 games\n",
      "Found 482 sets\n",
      "Found 16 games\n",
      "Found 483 sets\n",
      "Found 8 games\n",
      "Found 484 sets\n"
     ]
    },
    {
     "name": "stderr",
     "output_type": "stream",
     "text": [
      "\r",
      " 32%|███████████▉                         | 162/500 [1:00:20<2:06:41, 22.49s/it]"
     ]
    },
    {
     "name": "stdout",
     "output_type": "stream",
     "text": [
      "Found 4 games\n",
      "Found 485 sets\n",
      "Found 18 games\n",
      "Found 486 sets\n",
      "Found 5 games\n",
      "Found 487 sets\n"
     ]
    },
    {
     "name": "stderr",
     "output_type": "stream",
     "text": [
      "\r",
      " 33%|████████████                         | 163/500 [1:00:41<2:03:46, 22.04s/it]"
     ]
    },
    {
     "name": "stdout",
     "output_type": "stream",
     "text": [
      "Found 2 games\n",
      "Found 488 sets\n",
      "Found 17 games\n",
      "Found 489 sets\n",
      "Found 4 games\n",
      "Found 490 sets\n"
     ]
    },
    {
     "name": "stderr",
     "output_type": "stream",
     "text": [
      "\r",
      " 33%|████████████▏                        | 164/500 [1:01:06<2:07:11, 22.71s/it]"
     ]
    },
    {
     "name": "stdout",
     "output_type": "stream",
     "text": [
      "Found 3 games\n",
      "Found 491 sets\n",
      "Found 18 games\n",
      "Found 492 sets\n",
      "Found 2 games\n",
      "Found 493 sets\n"
     ]
    },
    {
     "name": "stderr",
     "output_type": "stream",
     "text": [
      "\r",
      " 33%|████████████▏                        | 165/500 [1:01:25<2:01:59, 21.85s/it]"
     ]
    },
    {
     "name": "stdout",
     "output_type": "stream",
     "text": [
      "Found 1 games\n",
      "Found 494 sets\n",
      "Found 18 games\n",
      "Found 495 sets\n",
      "Found 5 games\n",
      "Found 496 sets\n"
     ]
    },
    {
     "name": "stderr",
     "output_type": "stream",
     "text": [
      "\r",
      " 33%|████████████▎                        | 166/500 [1:01:45<1:57:49, 21.17s/it]"
     ]
    },
    {
     "name": "stdout",
     "output_type": "stream",
     "text": [
      "Found 3 games\n",
      "Found 497 sets\n",
      "Found 17 games\n",
      "Found 498 sets\n",
      "Found 3 games\n",
      "Found 499 sets\n"
     ]
    },
    {
     "name": "stderr",
     "output_type": "stream",
     "text": [
      "\r",
      " 33%|████████████▎                        | 167/500 [1:02:07<1:58:21, 21.32s/it]"
     ]
    },
    {
     "name": "stdout",
     "output_type": "stream",
     "text": [
      "Found 1 games\n",
      "Found 500 sets\n",
      "Found 18 games\n",
      "Found 501 sets\n",
      "Found 5 games\n",
      "Found 502 sets\n"
     ]
    },
    {
     "name": "stderr",
     "output_type": "stream",
     "text": [
      "\r",
      " 34%|████████████▍                        | 168/500 [1:02:29<2:00:12, 21.72s/it]"
     ]
    },
    {
     "name": "stdout",
     "output_type": "stream",
     "text": [
      "Found 5 games\n",
      "Found 503 sets\n",
      "Found 15 games\n",
      "Found 504 sets\n",
      "Found 4 games\n",
      "Found 505 sets\n"
     ]
    },
    {
     "name": "stderr",
     "output_type": "stream",
     "text": [
      "\r",
      " 34%|████████████▌                        | 169/500 [1:02:48<1:55:30, 20.94s/it]"
     ]
    },
    {
     "name": "stdout",
     "output_type": "stream",
     "text": [
      "Found 2 games\n",
      "Found 506 sets\n",
      "Found 16 games\n",
      "Found 507 sets\n",
      "Found 3 games\n",
      "Found 508 sets\n"
     ]
    },
    {
     "name": "stderr",
     "output_type": "stream",
     "text": [
      "\r",
      " 34%|████████████▌                        | 170/500 [1:03:10<1:55:45, 21.05s/it]"
     ]
    },
    {
     "name": "stdout",
     "output_type": "stream",
     "text": [
      "Found 1 games\n",
      "Found 509 sets\n",
      "Found 18 games\n",
      "Found 510 sets\n",
      "Found 9 games\n",
      "Found 511 sets\n"
     ]
    },
    {
     "name": "stderr",
     "output_type": "stream",
     "text": [
      "\r",
      " 34%|████████████▋                        | 171/500 [1:03:31<1:56:12, 21.19s/it]"
     ]
    },
    {
     "name": "stdout",
     "output_type": "stream",
     "text": [
      "Found 5 games\n",
      "Found 512 sets\n",
      "Found 16 games\n",
      "Found 513 sets\n",
      "Found 3 games\n",
      "Found 514 sets\n"
     ]
    },
    {
     "name": "stderr",
     "output_type": "stream",
     "text": [
      "\r",
      " 34%|████████████▋                        | 172/500 [1:03:53<1:56:12, 21.26s/it]"
     ]
    },
    {
     "name": "stdout",
     "output_type": "stream",
     "text": [
      "Found 2 games\n",
      "Found 515 sets\n",
      "Found 16 games\n",
      "Found 516 sets\n",
      "Found 1 games\n",
      "Found 517 sets\n"
     ]
    },
    {
     "name": "stderr",
     "output_type": "stream",
     "text": [
      "\r",
      " 35%|████████████▊                        | 173/500 [1:04:16<1:59:35, 21.94s/it]"
     ]
    },
    {
     "name": "stdout",
     "output_type": "stream",
     "text": [
      "Found 1 games\n",
      "Found 518 sets\n",
      "Found 15 games\n",
      "Found 519 sets\n",
      "Found 4 games\n",
      "Found 520 sets\n"
     ]
    },
    {
     "name": "stderr",
     "output_type": "stream",
     "text": [
      "\r",
      " 35%|████████████▉                        | 174/500 [1:04:39<2:00:20, 22.15s/it]"
     ]
    },
    {
     "name": "stdout",
     "output_type": "stream",
     "text": [
      "Found 1 games\n",
      "Found 521 sets\n",
      "Found 15 games\n",
      "Found 522 sets\n",
      "Found 3 games\n",
      "Found 523 sets\n"
     ]
    },
    {
     "name": "stderr",
     "output_type": "stream",
     "text": [
      "\r",
      " 35%|████████████▉                        | 175/500 [1:05:02<2:01:05, 22.36s/it]"
     ]
    },
    {
     "name": "stdout",
     "output_type": "stream",
     "text": [
      "Found 2 games\n",
      "Found 524 sets\n",
      "Found 19 games\n",
      "Found 525 sets\n",
      "Found 3 games\n",
      "Found 526 sets\n"
     ]
    },
    {
     "name": "stderr",
     "output_type": "stream",
     "text": [
      "\r",
      " 35%|█████████████                        | 176/500 [1:05:29<2:08:57, 23.88s/it]"
     ]
    },
    {
     "name": "stdout",
     "output_type": "stream",
     "text": [
      "Found 2 games\n",
      "Found 527 sets\n",
      "Found 16 games\n",
      "Found 528 sets\n",
      "Found 4 games\n",
      "Found 529 sets\n"
     ]
    },
    {
     "name": "stderr",
     "output_type": "stream",
     "text": [
      "\r",
      " 35%|█████████████                        | 177/500 [1:05:50<2:03:33, 22.95s/it]"
     ]
    },
    {
     "name": "stdout",
     "output_type": "stream",
     "text": [
      "Found 2 games\n",
      "Found 530 sets\n",
      "Found 16 games\n",
      "Found 531 sets\n",
      "Found 2 games\n",
      "Found 532 sets\n"
     ]
    },
    {
     "name": "stderr",
     "output_type": "stream",
     "text": [
      "\r",
      " 36%|█████████████▏                       | 178/500 [1:06:14<2:05:07, 23.32s/it]"
     ]
    },
    {
     "name": "stdout",
     "output_type": "stream",
     "text": [
      "Found 1 games\n",
      "Found 533 sets\n",
      "Found 19 games\n",
      "Found 534 sets\n",
      "Found 10 games\n",
      "Found 535 sets\n"
     ]
    },
    {
     "name": "stderr",
     "output_type": "stream",
     "text": [
      "\r",
      " 36%|█████████████▏                       | 179/500 [1:06:38<2:05:52, 23.53s/it]"
     ]
    },
    {
     "name": "stdout",
     "output_type": "stream",
     "text": [
      "Found 7 games\n",
      "Found 536 sets\n",
      "Found 17 games\n",
      "Found 537 sets\n",
      "Found 6 games\n",
      "Found 538 sets\n"
     ]
    },
    {
     "name": "stderr",
     "output_type": "stream",
     "text": [
      "\r",
      " 36%|█████████████▎                       | 180/500 [1:07:04<2:09:02, 24.20s/it]"
     ]
    },
    {
     "name": "stdout",
     "output_type": "stream",
     "text": [
      "Found 3 games\n",
      "Found 539 sets\n",
      "Found 19 games\n",
      "Found 540 sets\n",
      "1\n",
      "2\n",
      "3\n",
      "4\n",
      "5\n",
      "6\n",
      "7\n",
      "8\n",
      "9\n",
      "10\n",
      "11\n"
     ]
    },
    {
     "name": "stderr",
     "output_type": "stream",
     "text": [
      "\r",
      " 36%|█████████████▍                       | 181/500 [1:07:38<2:25:14, 27.32s/it]"
     ]
    },
    {
     "name": "stdout",
     "output_type": "stream",
     "text": [
      "Found 2 games\n",
      "Found 541 sets\n",
      "Found 18 games\n",
      "Found 542 sets\n",
      "Found 5 games\n",
      "Found 543 sets\n"
     ]
    },
    {
     "name": "stderr",
     "output_type": "stream",
     "text": [
      "\r",
      " 36%|█████████████▍                       | 182/500 [1:08:01<2:16:42, 25.79s/it]"
     ]
    },
    {
     "name": "stdout",
     "output_type": "stream",
     "text": [
      "Found 2 games\n",
      "Found 544 sets\n",
      "Found 18 games\n",
      "Found 545 sets\n",
      "Found 5 games\n",
      "Found 546 sets\n"
     ]
    },
    {
     "name": "stderr",
     "output_type": "stream",
     "text": [
      "\r",
      " 37%|█████████████▌                       | 183/500 [1:08:20<2:06:14, 23.89s/it]"
     ]
    },
    {
     "name": "stdout",
     "output_type": "stream",
     "text": [
      "Found 4 games\n",
      "Found 547 sets\n",
      "Found 18 games\n",
      "Found 548 sets\n",
      "Found 5 games\n",
      "Found 549 sets\n"
     ]
    },
    {
     "name": "stderr",
     "output_type": "stream",
     "text": [
      "\r",
      " 37%|█████████████▌                       | 184/500 [1:08:46<2:08:30, 24.40s/it]"
     ]
    },
    {
     "name": "stdout",
     "output_type": "stream",
     "text": [
      "Found 1 games\n",
      "Found 550 sets\n",
      "Found 17 games\n",
      "Found 551 sets\n",
      "Found 3 games\n",
      "Found 552 sets\n"
     ]
    },
    {
     "name": "stderr",
     "output_type": "stream",
     "text": [
      "\r",
      " 37%|█████████████▋                       | 185/500 [1:09:10<2:07:54, 24.36s/it]"
     ]
    },
    {
     "name": "stdout",
     "output_type": "stream",
     "text": [
      "Found 3 games\n",
      "Found 553 sets\n",
      "Found 17 games\n",
      "Found 554 sets\n",
      "Found 6 games\n",
      "Found 555 sets\n"
     ]
    },
    {
     "name": "stderr",
     "output_type": "stream",
     "text": [
      "\r",
      " 37%|█████████████▊                       | 186/500 [1:09:29<1:58:34, 22.66s/it]"
     ]
    },
    {
     "name": "stdout",
     "output_type": "stream",
     "text": [
      "Found 2 games\n",
      "Found 556 sets\n",
      "Found 16 games\n",
      "Found 557 sets\n",
      "Found 5 games\n",
      "Found 558 sets\n"
     ]
    },
    {
     "name": "stderr",
     "output_type": "stream",
     "text": [
      "\r",
      " 37%|█████████████▊                       | 187/500 [1:09:54<2:01:46, 23.34s/it]"
     ]
    },
    {
     "name": "stdout",
     "output_type": "stream",
     "text": [
      "Found 3 games\n",
      "Found 559 sets\n",
      "Found 18 games\n",
      "Found 560 sets\n",
      "Found 1 games\n",
      "Found 561 sets\n"
     ]
    },
    {
     "name": "stderr",
     "output_type": "stream",
     "text": [
      "\r",
      " 38%|█████████████▉                       | 188/500 [1:10:18<2:02:32, 23.56s/it]"
     ]
    },
    {
     "name": "stdout",
     "output_type": "stream",
     "text": [
      "Found 0 games\n",
      "Found 562 sets\n",
      "Found 11 games\n",
      "Found 563 sets\n",
      "Found 1 games\n",
      "Found 564 sets\n"
     ]
    },
    {
     "name": "stderr",
     "output_type": "stream",
     "text": [
      "\r",
      " 38%|█████████████▉                       | 189/500 [1:10:34<1:51:30, 21.51s/it]"
     ]
    },
    {
     "name": "stdout",
     "output_type": "stream",
     "text": [
      "Found 0 games\n",
      "Found 565 sets\n",
      "Found 16 games\n",
      "Found 566 sets\n",
      "Found 0 games\n",
      "Found 567 sets\n"
     ]
    },
    {
     "name": "stderr",
     "output_type": "stream",
     "text": [
      "\r",
      " 38%|██████████████                       | 190/500 [1:10:53<1:47:10, 20.74s/it]"
     ]
    },
    {
     "name": "stdout",
     "output_type": "stream",
     "text": [
      "Found 0 games\n",
      "Found 568 sets\n",
      "Found 17 games\n",
      "Found 569 sets\n",
      "Found 4 games\n",
      "Found 570 sets\n"
     ]
    },
    {
     "name": "stderr",
     "output_type": "stream",
     "text": [
      "\r",
      " 38%|██████████████▏                      | 191/500 [1:11:14<1:46:23, 20.66s/it]"
     ]
    },
    {
     "name": "stdout",
     "output_type": "stream",
     "text": [
      "Found 4 games\n",
      "Found 571 sets\n",
      "Found 17 games\n",
      "Found 572 sets\n",
      "Found 2 games\n",
      "Found 573 sets\n"
     ]
    },
    {
     "name": "stderr",
     "output_type": "stream",
     "text": [
      "\r",
      " 38%|██████████████▏                      | 192/500 [1:11:38<1:51:14, 21.67s/it]"
     ]
    },
    {
     "name": "stdout",
     "output_type": "stream",
     "text": [
      "Found 2 games\n",
      "Found 574 sets\n",
      "Found 18 games\n",
      "Found 575 sets\n",
      "Found 4 games\n",
      "Found 576 sets\n"
     ]
    },
    {
     "name": "stderr",
     "output_type": "stream",
     "text": [
      "\r",
      " 39%|██████████████▎                      | 193/500 [1:12:00<1:50:54, 21.68s/it]"
     ]
    },
    {
     "name": "stdout",
     "output_type": "stream",
     "text": [
      "Found 2 games\n",
      "Found 577 sets\n",
      "Found 10 games\n",
      "Found 578 sets\n",
      "Found 3 games\n",
      "Found 579 sets\n"
     ]
    },
    {
     "name": "stderr",
     "output_type": "stream",
     "text": [
      "\r",
      " 39%|██████████████▎                      | 194/500 [1:12:13<1:38:40, 19.35s/it]"
     ]
    },
    {
     "name": "stdout",
     "output_type": "stream",
     "text": [
      "Found 3 games\n",
      "Found 580 sets\n",
      "Found 16 games\n",
      "Found 581 sets\n",
      "Found 3 games\n",
      "Found 582 sets\n"
     ]
    },
    {
     "name": "stderr",
     "output_type": "stream",
     "text": [
      "\r",
      " 39%|██████████████▍                      | 195/500 [1:12:36<1:43:40, 20.39s/it]"
     ]
    },
    {
     "name": "stdout",
     "output_type": "stream",
     "text": [
      "Found 0 games\n",
      "Found 583 sets\n",
      "Found 17 games\n",
      "Found 584 sets\n",
      "Found 0 games\n",
      "Found 585 sets\n"
     ]
    },
    {
     "name": "stderr",
     "output_type": "stream",
     "text": [
      "\r",
      " 39%|██████████████▌                      | 196/500 [1:12:59<1:46:43, 21.06s/it]"
     ]
    },
    {
     "name": "stdout",
     "output_type": "stream",
     "text": [
      "Found 0 games\n",
      "Found 586 sets\n",
      "Found 18 games\n",
      "Found 587 sets\n",
      "Found 4 games\n",
      "Found 588 sets\n"
     ]
    },
    {
     "name": "stderr",
     "output_type": "stream",
     "text": [
      "\r",
      " 39%|██████████████▌                      | 197/500 [1:13:25<1:53:35, 22.49s/it]"
     ]
    },
    {
     "name": "stdout",
     "output_type": "stream",
     "text": [
      "Found 3 games\n",
      "Found 589 sets\n",
      "Found 13 games\n",
      "Found 590 sets\n",
      "Found 4 games\n",
      "Found 591 sets\n"
     ]
    },
    {
     "name": "stderr",
     "output_type": "stream",
     "text": [
      "\r",
      " 40%|██████████████▋                      | 198/500 [1:14:03<2:16:37, 27.14s/it]"
     ]
    },
    {
     "name": "stdout",
     "output_type": "stream",
     "text": [
      "Found 2 games\n",
      "Found 592 sets\n",
      "Found 18 games\n",
      "Found 593 sets\n",
      "Found 2 games\n",
      "Found 594 sets\n"
     ]
    },
    {
     "name": "stderr",
     "output_type": "stream",
     "text": [
      "\r",
      " 40%|██████████████▋                      | 199/500 [1:14:23<2:06:25, 25.20s/it]"
     ]
    },
    {
     "name": "stdout",
     "output_type": "stream",
     "text": [
      "Found 2 games\n",
      "Found 595 sets\n",
      "Found 17 games\n",
      "Found 596 sets\n",
      "Found 3 games\n",
      "Found 597 sets\n"
     ]
    },
    {
     "name": "stderr",
     "output_type": "stream",
     "text": [
      "\r",
      " 40%|██████████████▊                      | 200/500 [1:14:54<2:13:48, 26.76s/it]"
     ]
    },
    {
     "name": "stdout",
     "output_type": "stream",
     "text": [
      "Found 2 games\n",
      "Found 598 sets\n",
      "Found 17 games\n",
      "Found 599 sets\n",
      "Found 5 games\n",
      "Found 600 sets\n"
     ]
    },
    {
     "name": "stderr",
     "output_type": "stream",
     "text": [
      "\r",
      " 40%|██████████████▊                      | 201/500 [1:15:17<2:08:33, 25.80s/it]"
     ]
    },
    {
     "name": "stdout",
     "output_type": "stream",
     "text": [
      "Found 1 games\n",
      "Found 601 sets\n",
      "Found 16 games\n",
      "Found 602 sets\n",
      "Found 3 games\n",
      "Found 603 sets\n"
     ]
    },
    {
     "name": "stderr",
     "output_type": "stream",
     "text": [
      "\r",
      " 40%|██████████████▉                      | 202/500 [1:15:40<2:03:04, 24.78s/it]"
     ]
    },
    {
     "name": "stdout",
     "output_type": "stream",
     "text": [
      "Found 1 games\n",
      "Found 604 sets\n",
      "Found 13 games\n",
      "Found 605 sets\n",
      "Found 3 games\n",
      "Found 606 sets\n"
     ]
    },
    {
     "name": "stderr",
     "output_type": "stream",
     "text": [
      "\r",
      " 41%|███████████████                      | 203/500 [1:16:04<2:02:10, 24.68s/it]"
     ]
    },
    {
     "name": "stdout",
     "output_type": "stream",
     "text": [
      "Found 2 games\n",
      "Found 607 sets\n",
      "Found 17 games\n",
      "Found 608 sets\n",
      "Found 3 games\n",
      "Found 609 sets\n"
     ]
    },
    {
     "name": "stderr",
     "output_type": "stream",
     "text": [
      "\r",
      " 41%|███████████████                      | 204/500 [1:16:24<1:55:06, 23.33s/it]"
     ]
    },
    {
     "name": "stdout",
     "output_type": "stream",
     "text": [
      "Found 1 games\n",
      "Found 610 sets\n",
      "Found 17 games\n",
      "Found 611 sets\n",
      "Found 6 games\n",
      "Found 612 sets\n"
     ]
    },
    {
     "name": "stderr",
     "output_type": "stream",
     "text": [
      "\r",
      " 41%|███████████████▏                     | 205/500 [1:16:52<2:00:41, 24.55s/it]"
     ]
    },
    {
     "name": "stdout",
     "output_type": "stream",
     "text": [
      "Found 5 games\n",
      "Found 613 sets\n",
      "Found 15 games\n",
      "Found 614 sets\n",
      "Found 5 games\n",
      "Found 615 sets\n"
     ]
    },
    {
     "name": "stderr",
     "output_type": "stream",
     "text": [
      "\r",
      " 41%|███████████████▏                     | 206/500 [1:17:16<2:00:21, 24.56s/it]"
     ]
    },
    {
     "name": "stdout",
     "output_type": "stream",
     "text": [
      "Found 2 games\n",
      "Found 616 sets\n",
      "Found 16 games\n",
      "Found 617 sets\n",
      "Found 4 games\n",
      "Found 618 sets\n"
     ]
    },
    {
     "name": "stderr",
     "output_type": "stream",
     "text": [
      "\r",
      " 41%|███████████████▎                     | 207/500 [1:17:51<2:15:10, 27.68s/it]"
     ]
    },
    {
     "name": "stdout",
     "output_type": "stream",
     "text": [
      "Found 0 games\n",
      "Found 619 sets\n",
      "Found 16 games\n",
      "Found 620 sets\n",
      "Found 4 games\n",
      "Found 621 sets\n"
     ]
    },
    {
     "name": "stderr",
     "output_type": "stream",
     "text": [
      "\r",
      " 42%|███████████████▍                     | 208/500 [1:18:14<2:07:17, 26.16s/it]"
     ]
    },
    {
     "name": "stdout",
     "output_type": "stream",
     "text": [
      "Found 3 games\n",
      "Found 622 sets\n",
      "Found 17 games\n",
      "Found 623 sets\n",
      "Found 5 games\n",
      "Found 624 sets\n"
     ]
    },
    {
     "name": "stderr",
     "output_type": "stream",
     "text": [
      "\r",
      " 42%|███████████████▍                     | 209/500 [1:18:41<2:08:31, 26.50s/it]"
     ]
    },
    {
     "name": "stdout",
     "output_type": "stream",
     "text": [
      "Found 3 games\n",
      "Found 625 sets\n",
      "Found 18 games\n",
      "Found 626 sets\n",
      "Found 1 games\n",
      "Found 627 sets\n"
     ]
    },
    {
     "name": "stderr",
     "output_type": "stream",
     "text": [
      "\r",
      " 42%|███████████████▌                     | 210/500 [1:19:02<1:59:51, 24.80s/it]"
     ]
    },
    {
     "name": "stdout",
     "output_type": "stream",
     "text": [
      "Found 1 games\n",
      "Found 628 sets\n",
      "1\n",
      "2\n",
      "3\n",
      "4\n",
      "5\n",
      "6\n",
      "7\n",
      "8\n",
      "9\n",
      "10\n",
      "11\n",
      "Found 10 games\n",
      "Found 629 sets\n"
     ]
    },
    {
     "name": "stderr",
     "output_type": "stream",
     "text": [
      "\r",
      " 42%|███████████████▌                     | 211/500 [1:19:40<2:18:11, 28.69s/it]"
     ]
    },
    {
     "name": "stdout",
     "output_type": "stream",
     "text": [
      "Found 2 games\n",
      "Found 630 sets\n",
      "Found 18 games\n",
      "Found 631 sets\n",
      "Found 7 games\n",
      "Found 632 sets\n"
     ]
    },
    {
     "name": "stderr",
     "output_type": "stream",
     "text": [
      "\r",
      " 42%|███████████████▋                     | 212/500 [1:20:04<2:11:11, 27.33s/it]"
     ]
    },
    {
     "name": "stdout",
     "output_type": "stream",
     "text": [
      "Found 2 games\n",
      "Found 633 sets\n",
      "Found 18 games\n",
      "Found 634 sets\n",
      "Found 5 games\n",
      "Found 635 sets\n"
     ]
    },
    {
     "name": "stderr",
     "output_type": "stream",
     "text": [
      "\r",
      " 43%|███████████████▊                     | 213/500 [1:20:26<2:03:24, 25.80s/it]"
     ]
    },
    {
     "name": "stdout",
     "output_type": "stream",
     "text": [
      "Found 1 games\n",
      "Found 636 sets\n",
      "Found 18 games\n",
      "Found 637 sets\n",
      "Found 2 games\n",
      "Found 638 sets\n"
     ]
    },
    {
     "name": "stderr",
     "output_type": "stream",
     "text": [
      "\r",
      " 43%|███████████████▊                     | 214/500 [1:20:47<1:55:11, 24.17s/it]"
     ]
    },
    {
     "name": "stdout",
     "output_type": "stream",
     "text": [
      "Found 0 games\n",
      "Found 639 sets\n",
      "Found 19 games\n",
      "Found 640 sets\n",
      "Found 3 games\n",
      "Found 641 sets\n"
     ]
    },
    {
     "name": "stderr",
     "output_type": "stream",
     "text": [
      "\r",
      " 43%|███████████████▉                     | 215/500 [1:21:06<1:47:22, 22.61s/it]"
     ]
    },
    {
     "name": "stdout",
     "output_type": "stream",
     "text": [
      "Found 1 games\n",
      "Found 642 sets\n",
      "Found 11 games\n",
      "Found 643 sets\n",
      "Found 1 games\n",
      "Found 644 sets\n"
     ]
    },
    {
     "name": "stderr",
     "output_type": "stream",
     "text": [
      "\r",
      " 43%|███████████████▉                     | 216/500 [1:21:22<1:38:34, 20.82s/it]"
     ]
    },
    {
     "name": "stdout",
     "output_type": "stream",
     "text": [
      "Found 1 games\n",
      "Found 645 sets\n",
      "Found 16 games\n",
      "Found 646 sets\n",
      "Found 5 games\n",
      "Found 647 sets\n"
     ]
    },
    {
     "name": "stderr",
     "output_type": "stream",
     "text": [
      "\r",
      " 43%|████████████████                     | 217/500 [1:21:43<1:37:54, 20.76s/it]"
     ]
    },
    {
     "name": "stdout",
     "output_type": "stream",
     "text": [
      "Found 1 games\n",
      "Found 648 sets\n",
      "Found 18 games\n",
      "Found 649 sets\n",
      "Found 5 games\n",
      "Found 650 sets\n"
     ]
    },
    {
     "name": "stderr",
     "output_type": "stream",
     "text": [
      "\r",
      " 44%|████████████████▏                    | 218/500 [1:22:02<1:35:08, 20.24s/it]"
     ]
    },
    {
     "name": "stdout",
     "output_type": "stream",
     "text": [
      "Found 2 games\n",
      "Found 651 sets\n",
      "Found 17 games\n",
      "Found 652 sets\n",
      "Found 4 games\n",
      "Found 653 sets\n"
     ]
    },
    {
     "name": "stderr",
     "output_type": "stream",
     "text": [
      "\r",
      " 44%|████████████████▏                    | 219/500 [1:22:30<1:46:22, 22.71s/it]"
     ]
    },
    {
     "name": "stdout",
     "output_type": "stream",
     "text": [
      "Found 1 games\n",
      "Found 654 sets\n",
      "Found 14 games\n",
      "Found 655 sets\n",
      "Found 6 games\n",
      "Found 656 sets\n"
     ]
    },
    {
     "name": "stderr",
     "output_type": "stream",
     "text": [
      "\r",
      " 44%|████████████████▎                    | 220/500 [1:22:58<1:52:57, 24.20s/it]"
     ]
    },
    {
     "name": "stdout",
     "output_type": "stream",
     "text": [
      "Found 6 games\n",
      "Found 657 sets\n",
      "Found 17 games\n",
      "Found 658 sets\n",
      "Found 1 games\n",
      "Found 659 sets\n"
     ]
    },
    {
     "name": "stderr",
     "output_type": "stream",
     "text": [
      "\r",
      " 44%|████████████████▎                    | 221/500 [1:23:20<1:49:07, 23.47s/it]"
     ]
    },
    {
     "name": "stdout",
     "output_type": "stream",
     "text": [
      "Found 1 games\n",
      "Found 660 sets\n",
      "Found 17 games\n",
      "Found 661 sets\n",
      "Found 4 games\n",
      "Found 662 sets\n"
     ]
    },
    {
     "name": "stderr",
     "output_type": "stream",
     "text": [
      "\r",
      " 44%|████████████████▍                    | 222/500 [1:23:44<1:49:10, 23.56s/it]"
     ]
    },
    {
     "name": "stdout",
     "output_type": "stream",
     "text": [
      "Found 1 games\n",
      "Found 663 sets\n",
      "Found 15 games\n",
      "Found 664 sets\n",
      "Found 3 games\n",
      "Found 665 sets\n"
     ]
    },
    {
     "name": "stderr",
     "output_type": "stream",
     "text": [
      "\r",
      " 45%|████████████████▌                    | 223/500 [1:24:05<1:45:11, 22.78s/it]"
     ]
    },
    {
     "name": "stdout",
     "output_type": "stream",
     "text": [
      "Found 0 games\n",
      "Found 666 sets\n",
      "Found 10 games\n",
      "Found 667 sets\n",
      "Found 3 games\n",
      "Found 668 sets\n"
     ]
    },
    {
     "name": "stderr",
     "output_type": "stream",
     "text": [
      "\r",
      " 45%|████████████████▌                    | 224/500 [1:24:22<1:36:59, 21.09s/it]"
     ]
    },
    {
     "name": "stdout",
     "output_type": "stream",
     "text": [
      "Found 2 games\n",
      "Found 669 sets\n",
      "Found 16 games\n",
      "Found 670 sets\n",
      "Found 4 games\n",
      "Found 671 sets\n"
     ]
    },
    {
     "name": "stderr",
     "output_type": "stream",
     "text": [
      "\r",
      " 45%|████████████████▋                    | 225/500 [1:24:44<1:38:37, 21.52s/it]"
     ]
    },
    {
     "name": "stdout",
     "output_type": "stream",
     "text": [
      "Found 3 games\n",
      "Found 672 sets\n",
      "Found 12 games\n",
      "Found 673 sets\n",
      "Found 0 games\n",
      "Found 674 sets\n"
     ]
    },
    {
     "name": "stderr",
     "output_type": "stream",
     "text": [
      "\r",
      " 45%|████████████████▋                    | 226/500 [1:25:05<1:36:59, 21.24s/it]"
     ]
    },
    {
     "name": "stdout",
     "output_type": "stream",
     "text": [
      "Found 0 games\n",
      "Found 675 sets\n",
      "Found 18 games\n",
      "Found 676 sets\n",
      "Found 3 games\n",
      "Found 677 sets\n"
     ]
    },
    {
     "name": "stderr",
     "output_type": "stream",
     "text": [
      "\r",
      " 45%|████████████████▊                    | 227/500 [1:25:28<1:38:40, 21.69s/it]"
     ]
    },
    {
     "name": "stdout",
     "output_type": "stream",
     "text": [
      "Found 1 games\n",
      "Found 678 sets\n",
      "Found 16 games\n",
      "Found 679 sets\n",
      "Found 3 games\n",
      "Found 680 sets\n"
     ]
    },
    {
     "name": "stderr",
     "output_type": "stream",
     "text": [
      "\r",
      " 46%|████████████████▊                    | 228/500 [1:25:51<1:40:09, 22.09s/it]"
     ]
    },
    {
     "name": "stdout",
     "output_type": "stream",
     "text": [
      "Found 3 games\n",
      "Found 681 sets\n",
      "Found 18 games\n",
      "Found 682 sets\n",
      "Found 2 games\n",
      "Found 683 sets\n"
     ]
    },
    {
     "name": "stderr",
     "output_type": "stream",
     "text": [
      "\r",
      " 46%|████████████████▉                    | 229/500 [1:26:12<1:39:31, 22.03s/it]"
     ]
    },
    {
     "name": "stdout",
     "output_type": "stream",
     "text": [
      "Found 2 games\n",
      "Found 684 sets\n",
      "Found 14 games\n",
      "Found 685 sets\n",
      "Found 2 games\n",
      "Found 686 sets\n"
     ]
    },
    {
     "name": "stderr",
     "output_type": "stream",
     "text": [
      "\r",
      " 46%|█████████████████                    | 230/500 [1:26:35<1:39:34, 22.13s/it]"
     ]
    },
    {
     "name": "stdout",
     "output_type": "stream",
     "text": [
      "Found 0 games\n",
      "Found 687 sets\n",
      "Found 11 games\n",
      "Found 688 sets\n",
      "Found 4 games\n",
      "Found 689 sets\n"
     ]
    },
    {
     "name": "stderr",
     "output_type": "stream",
     "text": [
      "\r",
      " 46%|█████████████████                    | 231/500 [1:27:07<1:52:30, 25.10s/it]"
     ]
    },
    {
     "name": "stdout",
     "output_type": "stream",
     "text": [
      "Found 3 games\n",
      "Found 690 sets\n",
      "Found 17 games\n",
      "Found 691 sets\n",
      "Found 2 games\n",
      "Found 692 sets\n"
     ]
    },
    {
     "name": "stderr",
     "output_type": "stream",
     "text": [
      "\r",
      " 46%|█████████████████▏                   | 232/500 [1:27:52<2:18:26, 30.99s/it]"
     ]
    },
    {
     "name": "stdout",
     "output_type": "stream",
     "text": [
      "Found 2 games\n",
      "Found 693 sets\n",
      "Found 16 games\n",
      "Found 694 sets\n",
      "Found 3 games\n",
      "Found 695 sets\n"
     ]
    },
    {
     "name": "stderr",
     "output_type": "stream",
     "text": [
      "\r",
      " 47%|█████████████████▏                   | 233/500 [1:28:22<2:17:25, 30.88s/it]"
     ]
    },
    {
     "name": "stdout",
     "output_type": "stream",
     "text": [
      "Found 1 games\n",
      "Found 696 sets\n",
      "Found 16 games\n",
      "Found 697 sets\n",
      "Found 2 games\n",
      "Found 698 sets\n"
     ]
    },
    {
     "name": "stderr",
     "output_type": "stream",
     "text": [
      "\r",
      " 47%|█████████████████▎                   | 234/500 [1:28:42<2:01:49, 27.48s/it]"
     ]
    },
    {
     "name": "stdout",
     "output_type": "stream",
     "text": [
      "Found 0 games\n",
      "Found 699 sets\n",
      "Found 12 games\n",
      "Found 700 sets\n",
      "Found 1 games\n",
      "Found 701 sets\n"
     ]
    },
    {
     "name": "stderr",
     "output_type": "stream",
     "text": [
      "\r",
      " 47%|█████████████████▍                   | 235/500 [1:28:58<1:47:05, 24.25s/it]"
     ]
    },
    {
     "name": "stdout",
     "output_type": "stream",
     "text": [
      "Found 1 games\n",
      "Found 702 sets\n",
      "Found 15 games\n",
      "Found 703 sets\n",
      "Found 0 games\n",
      "Found 704 sets\n"
     ]
    },
    {
     "name": "stderr",
     "output_type": "stream",
     "text": [
      "\r",
      " 47%|█████████████████▍                   | 236/500 [1:29:18<1:40:48, 22.91s/it]"
     ]
    },
    {
     "name": "stdout",
     "output_type": "stream",
     "text": [
      "Found 0 games\n",
      "Found 705 sets\n",
      "Found 17 games\n",
      "Found 706 sets\n",
      "Found 1 games\n",
      "Found 707 sets\n"
     ]
    },
    {
     "name": "stderr",
     "output_type": "stream",
     "text": [
      "\r",
      " 47%|█████████████████▌                   | 237/500 [1:29:39<1:37:02, 22.14s/it]"
     ]
    },
    {
     "name": "stdout",
     "output_type": "stream",
     "text": [
      "Found 0 games\n",
      "Found 708 sets\n",
      "Found 15 games\n",
      "Found 709 sets\n",
      "Found 3 games\n",
      "Found 710 sets\n"
     ]
    },
    {
     "name": "stderr",
     "output_type": "stream",
     "text": [
      "\r",
      " 48%|█████████████████▌                   | 238/500 [1:30:00<1:35:36, 21.90s/it]"
     ]
    },
    {
     "name": "stdout",
     "output_type": "stream",
     "text": [
      "Found 2 games\n",
      "Found 711 sets\n",
      "Found 15 games\n",
      "Found 712 sets\n",
      "Found 1 games\n",
      "Found 713 sets\n"
     ]
    },
    {
     "name": "stderr",
     "output_type": "stream",
     "text": [
      "\r",
      " 48%|█████████████████▋                   | 239/500 [1:30:19<1:31:38, 21.07s/it]"
     ]
    },
    {
     "name": "stdout",
     "output_type": "stream",
     "text": [
      "Found 0 games\n",
      "Found 714 sets\n",
      "Found 14 games\n",
      "Found 715 sets\n",
      "Found 1 games\n",
      "Found 716 sets\n"
     ]
    },
    {
     "name": "stderr",
     "output_type": "stream",
     "text": [
      "\r",
      " 48%|█████████████████▊                   | 240/500 [1:30:39<1:29:36, 20.68s/it]"
     ]
    },
    {
     "name": "stdout",
     "output_type": "stream",
     "text": [
      "Found 0 games\n",
      "Found 717 sets\n",
      "Found 13 games\n",
      "Found 718 sets\n",
      "Found 2 games\n",
      "Found 719 sets\n"
     ]
    },
    {
     "name": "stderr",
     "output_type": "stream",
     "text": [
      "\r",
      " 48%|█████████████████▊                   | 241/500 [1:30:56<1:24:30, 19.58s/it]"
     ]
    },
    {
     "name": "stdout",
     "output_type": "stream",
     "text": [
      "Found 1 games\n",
      "Found 720 sets\n",
      "Found 9 games\n",
      "Found 721 sets\n",
      "Found 2 games\n",
      "Found 722 sets\n"
     ]
    },
    {
     "name": "stderr",
     "output_type": "stream",
     "text": [
      "\r",
      " 48%|█████████████████▉                   | 242/500 [1:31:16<1:24:36, 19.68s/it]"
     ]
    },
    {
     "name": "stdout",
     "output_type": "stream",
     "text": [
      "Found 0 games\n",
      "Found 723 sets\n",
      "Found 15 games\n",
      "Found 724 sets\n",
      "Found 3 games\n",
      "Found 725 sets\n"
     ]
    },
    {
     "name": "stderr",
     "output_type": "stream",
     "text": [
      "\r",
      " 49%|█████████████████▉                   | 243/500 [1:31:32<1:19:27, 18.55s/it]"
     ]
    },
    {
     "name": "stdout",
     "output_type": "stream",
     "text": [
      "Found 2 games\n",
      "Found 726 sets\n",
      "Found 16 games\n",
      "Found 727 sets\n",
      "Found 2 games\n",
      "Found 728 sets\n"
     ]
    },
    {
     "name": "stderr",
     "output_type": "stream",
     "text": [
      "\r",
      " 49%|██████████████████                   | 244/500 [1:31:51<1:19:39, 18.67s/it]"
     ]
    },
    {
     "name": "stdout",
     "output_type": "stream",
     "text": [
      "Found 2 games\n",
      "Found 729 sets\n",
      "Found 16 games\n",
      "Found 730 sets\n",
      "Found 3 games\n",
      "Found 731 sets\n"
     ]
    },
    {
     "name": "stderr",
     "output_type": "stream",
     "text": [
      "\r",
      " 49%|██████████████████▏                  | 245/500 [1:32:11<1:21:47, 19.24s/it]"
     ]
    },
    {
     "name": "stdout",
     "output_type": "stream",
     "text": [
      "Found 1 games\n",
      "Found 732 sets\n",
      "Found 19 games\n",
      "Found 733 sets\n",
      "Found 2 games\n",
      "Found 734 sets\n"
     ]
    },
    {
     "name": "stderr",
     "output_type": "stream",
     "text": [
      "\r",
      " 49%|██████████████████▏                  | 246/500 [1:32:30<1:21:27, 19.24s/it]"
     ]
    },
    {
     "name": "stdout",
     "output_type": "stream",
     "text": [
      "Found 1 games\n",
      "Found 735 sets\n",
      "Found 16 games\n",
      "Found 736 sets\n",
      "Found 4 games\n",
      "Found 737 sets\n"
     ]
    },
    {
     "name": "stderr",
     "output_type": "stream",
     "text": [
      "\r",
      " 49%|██████████████████▎                  | 247/500 [1:32:48<1:18:25, 18.60s/it]"
     ]
    },
    {
     "name": "stdout",
     "output_type": "stream",
     "text": [
      "Found 1 games\n",
      "Found 738 sets\n",
      "Found 19 games\n",
      "Found 739 sets\n",
      "Found 5 games\n",
      "Found 740 sets\n"
     ]
    },
    {
     "name": "stderr",
     "output_type": "stream",
     "text": [
      "\r",
      " 50%|██████████████████▎                  | 248/500 [1:33:11<1:23:51, 19.97s/it]"
     ]
    },
    {
     "name": "stdout",
     "output_type": "stream",
     "text": [
      "Found 1 games\n",
      "Found 741 sets\n",
      "Found 19 games\n",
      "Found 742 sets\n",
      "Found 4 games\n",
      "Found 743 sets\n"
     ]
    },
    {
     "name": "stderr",
     "output_type": "stream",
     "text": [
      "\r",
      " 50%|██████████████████▍                  | 249/500 [1:33:31<1:24:02, 20.09s/it]"
     ]
    },
    {
     "name": "stdout",
     "output_type": "stream",
     "text": [
      "Found 2 games\n",
      "Found 744 sets\n",
      "Found 14 games\n",
      "Found 745 sets\n",
      "Found 3 games\n",
      "Found 746 sets\n"
     ]
    },
    {
     "name": "stderr",
     "output_type": "stream",
     "text": [
      "\r",
      " 50%|██████████████████▌                  | 250/500 [1:33:48<1:19:50, 19.16s/it]"
     ]
    },
    {
     "name": "stdout",
     "output_type": "stream",
     "text": [
      "Found 1 games\n",
      "Found 747 sets\n",
      "Found 12 games\n",
      "Found 748 sets\n",
      "Found 1 games\n",
      "Found 749 sets\n"
     ]
    },
    {
     "name": "stderr",
     "output_type": "stream",
     "text": [
      "\r",
      " 50%|██████████████████▌                  | 251/500 [1:34:07<1:19:14, 19.09s/it]"
     ]
    },
    {
     "name": "stdout",
     "output_type": "stream",
     "text": [
      "Found 0 games\n",
      "Found 750 sets\n",
      "Found 19 games\n",
      "Found 751 sets\n",
      "Found 4 games\n",
      "Found 752 sets\n"
     ]
    },
    {
     "name": "stderr",
     "output_type": "stream",
     "text": [
      "\r",
      " 50%|██████████████████▋                  | 252/500 [1:34:26<1:18:22, 18.96s/it]"
     ]
    },
    {
     "name": "stdout",
     "output_type": "stream",
     "text": [
      "Found 1 games\n",
      "Found 753 sets\n",
      "Found 16 games\n",
      "Found 754 sets\n",
      "Found 2 games\n",
      "Found 755 sets\n"
     ]
    },
    {
     "name": "stderr",
     "output_type": "stream",
     "text": [
      "\r",
      " 51%|██████████████████▋                  | 253/500 [1:34:47<1:21:21, 19.76s/it]"
     ]
    },
    {
     "name": "stdout",
     "output_type": "stream",
     "text": [
      "Found 1 games\n",
      "Found 756 sets\n",
      "Found 12 games\n",
      "Found 757 sets\n",
      "Found 0 games\n",
      "Found 758 sets\n"
     ]
    },
    {
     "name": "stderr",
     "output_type": "stream",
     "text": [
      "\r",
      " 51%|██████████████████▊                  | 254/500 [1:35:05<1:19:05, 19.29s/it]"
     ]
    },
    {
     "name": "stdout",
     "output_type": "stream",
     "text": [
      "Found 0 games\n",
      "Found 759 sets\n",
      "Found 17 games\n",
      "Found 760 sets\n",
      "Found 1 games\n",
      "Found 761 sets\n"
     ]
    },
    {
     "name": "stderr",
     "output_type": "stream",
     "text": [
      "\r",
      " 51%|██████████████████▊                  | 255/500 [1:35:25<1:18:42, 19.28s/it]"
     ]
    },
    {
     "name": "stdout",
     "output_type": "stream",
     "text": [
      "Found 1 games\n",
      "Found 762 sets\n",
      "Found 18 games\n",
      "Found 763 sets\n",
      "Found 1 games\n",
      "Found 764 sets\n"
     ]
    },
    {
     "name": "stderr",
     "output_type": "stream",
     "text": [
      "\r",
      " 51%|██████████████████▉                  | 256/500 [1:35:45<1:19:00, 19.43s/it]"
     ]
    },
    {
     "name": "stdout",
     "output_type": "stream",
     "text": [
      "Found 0 games\n",
      "Found 765 sets\n",
      "Found 15 games\n",
      "Found 766 sets\n",
      "Found 1 games\n",
      "Found 767 sets\n"
     ]
    },
    {
     "name": "stderr",
     "output_type": "stream",
     "text": [
      "\r",
      " 51%|███████████████████                  | 257/500 [1:36:04<1:19:05, 19.53s/it]"
     ]
    },
    {
     "name": "stdout",
     "output_type": "stream",
     "text": [
      "Found 0 games\n",
      "Found 768 sets\n",
      "Found 17 games\n",
      "Found 769 sets\n",
      "Found 1 games\n",
      "Found 770 sets\n"
     ]
    },
    {
     "name": "stderr",
     "output_type": "stream",
     "text": [
      "\r",
      " 52%|███████████████████                  | 258/500 [1:36:25<1:19:53, 19.81s/it]"
     ]
    },
    {
     "name": "stdout",
     "output_type": "stream",
     "text": [
      "Found 0 games\n",
      "Found 771 sets\n",
      "Found 16 games\n",
      "Found 772 sets\n",
      "Found 1 games\n",
      "Found 773 sets\n"
     ]
    },
    {
     "name": "stderr",
     "output_type": "stream",
     "text": [
      "\r",
      " 52%|███████████████████▏                 | 259/500 [1:36:44<1:18:25, 19.53s/it]"
     ]
    },
    {
     "name": "stdout",
     "output_type": "stream",
     "text": [
      "Found 0 games\n",
      "Found 774 sets\n",
      "Found 16 games\n",
      "Found 775 sets\n",
      "Found 1 games\n",
      "Found 776 sets\n"
     ]
    },
    {
     "name": "stderr",
     "output_type": "stream",
     "text": [
      "\r",
      " 52%|███████████████████▏                 | 260/500 [1:37:02<1:16:18, 19.08s/it]"
     ]
    },
    {
     "name": "stdout",
     "output_type": "stream",
     "text": [
      "Found 1 games\n",
      "Found 777 sets\n",
      "Found 16 games\n",
      "Found 778 sets\n",
      "Found 2 games\n",
      "Found 779 sets\n"
     ]
    },
    {
     "name": "stderr",
     "output_type": "stream",
     "text": [
      "\r",
      " 52%|███████████████████▎                 | 261/500 [1:37:21<1:15:58, 19.07s/it]"
     ]
    },
    {
     "name": "stdout",
     "output_type": "stream",
     "text": [
      "Found 2 games\n",
      "Found 780 sets\n",
      "Found 18 games\n",
      "Found 781 sets\n",
      "Found 4 games\n",
      "Found 782 sets\n"
     ]
    },
    {
     "name": "stderr",
     "output_type": "stream",
     "text": [
      "\r",
      " 52%|███████████████████▍                 | 262/500 [1:37:41<1:16:41, 19.34s/it]"
     ]
    },
    {
     "name": "stdout",
     "output_type": "stream",
     "text": [
      "Found 0 games\n",
      "Found 783 sets\n",
      "Found 14 games\n",
      "Found 784 sets\n",
      "Found 5 games\n",
      "Found 785 sets\n"
     ]
    },
    {
     "name": "stderr",
     "output_type": "stream",
     "text": [
      "\r",
      " 53%|███████████████████▍                 | 263/500 [1:38:03<1:19:49, 20.21s/it]"
     ]
    },
    {
     "name": "stdout",
     "output_type": "stream",
     "text": [
      "Found 2 games\n",
      "Found 786 sets\n",
      "Found 17 games\n",
      "Found 787 sets\n",
      "Found 1 games\n",
      "Found 788 sets\n"
     ]
    },
    {
     "name": "stderr",
     "output_type": "stream",
     "text": [
      "\r",
      " 53%|███████████████████▌                 | 264/500 [1:38:23<1:19:24, 20.19s/it]"
     ]
    },
    {
     "name": "stdout",
     "output_type": "stream",
     "text": [
      "Found 0 games\n",
      "Found 789 sets\n",
      "Found 18 games\n",
      "Found 790 sets\n",
      "Found 11 games\n",
      "Found 791 sets\n"
     ]
    },
    {
     "name": "stderr",
     "output_type": "stream",
     "text": [
      "\r",
      " 53%|███████████████████▌                 | 265/500 [1:38:43<1:19:06, 20.20s/it]"
     ]
    },
    {
     "name": "stdout",
     "output_type": "stream",
     "text": [
      "Found 7 games\n",
      "Found 792 sets\n",
      "Found 16 games\n",
      "Found 793 sets\n",
      "Found 4 games\n",
      "Found 794 sets\n"
     ]
    },
    {
     "name": "stderr",
     "output_type": "stream",
     "text": [
      "\r",
      " 53%|███████████████████▋                 | 266/500 [1:39:01<1:16:05, 19.51s/it]"
     ]
    },
    {
     "name": "stdout",
     "output_type": "stream",
     "text": [
      "Found 2 games\n",
      "Found 795 sets\n",
      "Found 16 games\n",
      "Found 796 sets\n",
      "Found 3 games\n",
      "Found 797 sets\n"
     ]
    },
    {
     "name": "stderr",
     "output_type": "stream",
     "text": [
      "\r",
      " 53%|███████████████████▊                 | 267/500 [1:39:21<1:15:54, 19.55s/it]"
     ]
    },
    {
     "name": "stdout",
     "output_type": "stream",
     "text": [
      "Found 2 games\n",
      "Found 798 sets\n",
      "Found 16 games\n",
      "Found 799 sets\n",
      "Found 1 games\n",
      "Found 800 sets\n"
     ]
    },
    {
     "name": "stderr",
     "output_type": "stream",
     "text": [
      "\r",
      " 54%|███████████████████▊                 | 268/500 [1:39:43<1:18:08, 20.21s/it]"
     ]
    },
    {
     "name": "stdout",
     "output_type": "stream",
     "text": [
      "Found 0 games\n",
      "Found 801 sets\n",
      "Found 15 games\n",
      "Found 802 sets\n",
      "Found 2 games\n",
      "Found 803 sets\n"
     ]
    },
    {
     "name": "stderr",
     "output_type": "stream",
     "text": [
      "\r",
      " 54%|███████████████████▉                 | 269/500 [1:40:03<1:17:38, 20.17s/it]"
     ]
    },
    {
     "name": "stdout",
     "output_type": "stream",
     "text": [
      "Found 0 games\n",
      "Found 804 sets\n",
      "Found 17 games\n",
      "Found 805 sets\n",
      "Found 3 games\n",
      "Found 806 sets\n"
     ]
    },
    {
     "name": "stderr",
     "output_type": "stream",
     "text": [
      "\r",
      " 54%|███████████████████▉                 | 270/500 [1:40:25<1:20:09, 20.91s/it]"
     ]
    },
    {
     "name": "stdout",
     "output_type": "stream",
     "text": [
      "Found 1 games\n",
      "Found 807 sets\n",
      "Found 16 games\n",
      "Found 808 sets\n",
      "Found 4 games\n",
      "Found 809 sets\n"
     ]
    },
    {
     "name": "stderr",
     "output_type": "stream",
     "text": [
      "\r",
      " 54%|████████████████████                 | 271/500 [1:40:57<1:31:39, 24.02s/it]"
     ]
    },
    {
     "name": "stdout",
     "output_type": "stream",
     "text": [
      "Found 4 games\n",
      "Found 810 sets\n",
      "Found 15 games\n",
      "Found 811 sets\n",
      "Found 1 games\n",
      "Found 812 sets\n"
     ]
    },
    {
     "name": "stderr",
     "output_type": "stream",
     "text": [
      "\r",
      " 54%|████████████████████▏                | 272/500 [1:41:16<1:25:49, 22.59s/it]"
     ]
    },
    {
     "name": "stdout",
     "output_type": "stream",
     "text": [
      "Found 0 games\n",
      "Found 813 sets\n",
      "Found 13 games\n",
      "Found 814 sets\n",
      "Found 2 games\n",
      "Found 815 sets\n"
     ]
    },
    {
     "name": "stderr",
     "output_type": "stream",
     "text": [
      "\r",
      " 55%|████████████████████▏                | 273/500 [1:41:38<1:24:55, 22.45s/it]"
     ]
    },
    {
     "name": "stdout",
     "output_type": "stream",
     "text": [
      "Found 2 games\n",
      "Found 816 sets\n",
      "Found 17 games\n",
      "Found 817 sets\n",
      "Found 4 games\n",
      "Found 818 sets\n"
     ]
    },
    {
     "name": "stderr",
     "output_type": "stream",
     "text": [
      "\r",
      " 55%|████████████████████▎                | 274/500 [1:41:57<1:20:41, 21.42s/it]"
     ]
    },
    {
     "name": "stdout",
     "output_type": "stream",
     "text": [
      "Found 0 games\n",
      "Found 819 sets\n",
      "Found 14 games\n",
      "Found 820 sets\n",
      "Found 2 games\n",
      "Found 821 sets\n"
     ]
    },
    {
     "name": "stderr",
     "output_type": "stream",
     "text": [
      "\r",
      " 55%|████████████████████▎                | 275/500 [1:42:17<1:19:04, 21.09s/it]"
     ]
    },
    {
     "name": "stdout",
     "output_type": "stream",
     "text": [
      "Found 0 games\n",
      "Found 822 sets\n",
      "Found 15 games\n",
      "Found 823 sets\n",
      "Found 2 games\n",
      "Found 824 sets\n"
     ]
    },
    {
     "name": "stderr",
     "output_type": "stream",
     "text": [
      "\r",
      " 55%|████████████████████▍                | 276/500 [1:42:35<1:14:41, 20.01s/it]"
     ]
    },
    {
     "name": "stdout",
     "output_type": "stream",
     "text": [
      "Found 0 games\n",
      "Found 825 sets\n",
      "Found 17 games\n",
      "Found 826 sets\n",
      "Found 1 games\n",
      "Found 827 sets\n"
     ]
    },
    {
     "name": "stderr",
     "output_type": "stream",
     "text": [
      "\r",
      " 55%|████████████████████▍                | 277/500 [1:42:53<1:12:36, 19.53s/it]"
     ]
    },
    {
     "name": "stdout",
     "output_type": "stream",
     "text": [
      "Found 1 games\n",
      "Found 828 sets\n",
      "Found 17 games\n",
      "Found 829 sets\n",
      "Found 1 games\n",
      "Found 830 sets\n"
     ]
    },
    {
     "name": "stderr",
     "output_type": "stream",
     "text": [
      "\r",
      " 56%|████████████████████▌                | 278/500 [1:43:19<1:19:00, 21.35s/it]"
     ]
    },
    {
     "name": "stdout",
     "output_type": "stream",
     "text": [
      "Found 0 games\n",
      "Found 831 sets\n",
      "Found 17 games\n",
      "Found 832 sets\n",
      "Found 1 games\n",
      "Found 833 sets\n"
     ]
    },
    {
     "name": "stderr",
     "output_type": "stream",
     "text": [
      "\r",
      " 56%|████████████████████▋                | 279/500 [1:43:41<1:19:17, 21.53s/it]"
     ]
    },
    {
     "name": "stdout",
     "output_type": "stream",
     "text": [
      "Found 1 games\n",
      "Found 834 sets\n",
      "Found 13 games\n",
      "Found 835 sets\n",
      "Found 2 games\n",
      "Found 836 sets\n"
     ]
    },
    {
     "name": "stderr",
     "output_type": "stream",
     "text": [
      "\r",
      " 56%|████████████████████▋                | 280/500 [1:44:02<1:18:45, 21.48s/it]"
     ]
    },
    {
     "name": "stdout",
     "output_type": "stream",
     "text": [
      "Found 1 games\n",
      "Found 837 sets\n",
      "Found 17 games\n",
      "Found 838 sets\n",
      "Found 2 games\n",
      "Found 839 sets\n"
     ]
    },
    {
     "name": "stderr",
     "output_type": "stream",
     "text": [
      "\r",
      " 56%|████████████████████▊                | 281/500 [1:44:20<1:14:23, 20.38s/it]"
     ]
    },
    {
     "name": "stdout",
     "output_type": "stream",
     "text": [
      "Found 0 games\n",
      "Found 840 sets\n",
      "Found 15 games\n",
      "Found 841 sets\n",
      "Found 3 games\n",
      "Found 842 sets\n"
     ]
    },
    {
     "name": "stderr",
     "output_type": "stream",
     "text": [
      "\r",
      " 56%|████████████████████▊                | 282/500 [1:44:39<1:12:17, 19.89s/it]"
     ]
    },
    {
     "name": "stdout",
     "output_type": "stream",
     "text": [
      "Found 1 games\n",
      "Found 843 sets\n",
      "Found 15 games\n",
      "Found 844 sets\n",
      "Found 4 games\n",
      "Found 845 sets\n"
     ]
    },
    {
     "name": "stderr",
     "output_type": "stream",
     "text": [
      "\r",
      " 57%|████████████████████▉                | 283/500 [1:44:58<1:11:21, 19.73s/it]"
     ]
    },
    {
     "name": "stdout",
     "output_type": "stream",
     "text": [
      "Found 2 games\n",
      "Found 846 sets\n",
      "Found 14 games\n",
      "Found 847 sets\n",
      "Found 2 games\n",
      "Found 848 sets\n"
     ]
    },
    {
     "name": "stderr",
     "output_type": "stream",
     "text": [
      "\r",
      " 57%|█████████████████████                | 284/500 [1:45:20<1:12:59, 20.27s/it]"
     ]
    },
    {
     "name": "stdout",
     "output_type": "stream",
     "text": [
      "Found 0 games\n",
      "Found 849 sets\n",
      "Found 18 games\n",
      "Found 850 sets\n",
      "Found 3 games\n",
      "Found 851 sets\n"
     ]
    },
    {
     "name": "stderr",
     "output_type": "stream",
     "text": [
      "\r",
      " 57%|█████████████████████                | 285/500 [1:45:40<1:12:59, 20.37s/it]"
     ]
    },
    {
     "name": "stdout",
     "output_type": "stream",
     "text": [
      "Found 1 games\n",
      "Found 852 sets\n",
      "Found 16 games\n",
      "Found 853 sets\n",
      "Found 5 games\n",
      "Found 854 sets\n"
     ]
    },
    {
     "name": "stderr",
     "output_type": "stream",
     "text": [
      "\r",
      " 57%|█████████████████████▏               | 286/500 [1:45:58<1:09:43, 19.55s/it]"
     ]
    },
    {
     "name": "stdout",
     "output_type": "stream",
     "text": [
      "Found 2 games\n",
      "Found 855 sets\n",
      "Found 18 games\n",
      "Found 856 sets\n",
      "Found 1 games\n",
      "Found 857 sets\n"
     ]
    },
    {
     "name": "stderr",
     "output_type": "stream",
     "text": [
      "\r",
      " 57%|█████████████████████▏               | 287/500 [1:46:23<1:15:57, 21.40s/it]"
     ]
    },
    {
     "name": "stdout",
     "output_type": "stream",
     "text": [
      "Found 1 games\n",
      "Found 858 sets\n",
      "Found 17 games\n",
      "Found 859 sets\n",
      "Found 5 games\n",
      "Found 860 sets\n"
     ]
    },
    {
     "name": "stderr",
     "output_type": "stream",
     "text": [
      "\r",
      " 58%|█████████████████████▎               | 288/500 [1:46:44<1:14:43, 21.15s/it]"
     ]
    },
    {
     "name": "stdout",
     "output_type": "stream",
     "text": [
      "Found 1 games\n",
      "Found 861 sets\n",
      "Found 17 games\n",
      "Found 862 sets\n",
      "Found 4 games\n",
      "Found 863 sets\n"
     ]
    },
    {
     "name": "stderr",
     "output_type": "stream",
     "text": [
      "\r",
      " 58%|█████████████████████▍               | 289/500 [1:47:05<1:14:20, 21.14s/it]"
     ]
    },
    {
     "name": "stdout",
     "output_type": "stream",
     "text": [
      "Found 2 games\n",
      "Found 864 sets\n",
      "Found 18 games\n",
      "Found 865 sets\n",
      "Found 4 games\n",
      "Found 866 sets\n"
     ]
    },
    {
     "name": "stderr",
     "output_type": "stream",
     "text": [
      "\r",
      " 58%|█████████████████████▍               | 290/500 [1:47:35<1:22:50, 23.67s/it]"
     ]
    },
    {
     "name": "stdout",
     "output_type": "stream",
     "text": [
      "Found 3 games\n",
      "Found 867 sets\n",
      "Found 15 games\n",
      "Found 868 sets\n",
      "Found 2 games\n",
      "Found 869 sets\n"
     ]
    },
    {
     "name": "stderr",
     "output_type": "stream",
     "text": [
      "\r",
      " 58%|█████████████████████▌               | 291/500 [1:47:52<1:15:59, 21.81s/it]"
     ]
    },
    {
     "name": "stdout",
     "output_type": "stream",
     "text": [
      "Found 1 games\n",
      "Found 870 sets\n",
      "Found 19 games\n",
      "Found 871 sets\n",
      "1\n",
      "2\n",
      "3\n",
      "4\n",
      "5\n",
      "6\n",
      "7\n",
      "8\n",
      "9\n",
      "10\n",
      "11\n"
     ]
    },
    {
     "name": "stderr",
     "output_type": "stream",
     "text": [
      "\r",
      " 58%|█████████████████████▌               | 292/500 [1:48:22<1:24:12, 24.29s/it]"
     ]
    },
    {
     "name": "stdout",
     "output_type": "stream",
     "text": [
      "Found 2 games\n",
      "Found 872 sets\n",
      "Found 14 games\n",
      "Found 873 sets\n",
      "Found 0 games\n",
      "Found 874 sets\n"
     ]
    },
    {
     "name": "stderr",
     "output_type": "stream",
     "text": [
      "\r",
      " 59%|█████████████████████▋               | 293/500 [1:48:41<1:17:41, 22.52s/it]"
     ]
    },
    {
     "name": "stdout",
     "output_type": "stream",
     "text": [
      "Found 0 games\n",
      "Found 875 sets\n",
      "Found 17 games\n",
      "Found 876 sets\n",
      "Found 3 games\n",
      "Found 877 sets\n"
     ]
    },
    {
     "name": "stderr",
     "output_type": "stream",
     "text": [
      "\r",
      " 59%|█████████████████████▊               | 294/500 [1:49:01<1:15:13, 21.91s/it]"
     ]
    },
    {
     "name": "stdout",
     "output_type": "stream",
     "text": [
      "Found 2 games\n",
      "Found 878 sets\n",
      "Found 18 games\n",
      "Found 879 sets\n",
      "Found 2 games\n",
      "Found 880 sets\n"
     ]
    },
    {
     "name": "stderr",
     "output_type": "stream",
     "text": [
      "\r",
      " 59%|█████████████████████▊               | 295/500 [1:49:26<1:18:22, 22.94s/it]"
     ]
    },
    {
     "name": "stdout",
     "output_type": "stream",
     "text": [
      "Found 2 games\n",
      "Found 881 sets\n",
      "Found 17 games\n",
      "Found 882 sets\n",
      "Found 0 games\n",
      "Found 883 sets\n"
     ]
    },
    {
     "name": "stderr",
     "output_type": "stream",
     "text": [
      "\r",
      " 59%|█████████████████████▉               | 296/500 [1:49:47<1:15:52, 22.32s/it]"
     ]
    },
    {
     "name": "stdout",
     "output_type": "stream",
     "text": [
      "Found 0 games\n",
      "Found 884 sets\n",
      "Found 17 games\n",
      "Found 885 sets\n",
      "Found 2 games\n",
      "Found 886 sets\n"
     ]
    },
    {
     "name": "stderr",
     "output_type": "stream",
     "text": [
      "\r",
      " 59%|█████████████████████▉               | 297/500 [1:50:06<1:11:52, 21.24s/it]"
     ]
    },
    {
     "name": "stdout",
     "output_type": "stream",
     "text": [
      "Found 0 games\n",
      "Found 887 sets\n",
      "Found 15 games\n",
      "Found 888 sets\n",
      "Found 4 games\n",
      "Found 889 sets\n"
     ]
    },
    {
     "name": "stderr",
     "output_type": "stream",
     "text": [
      "\r",
      " 60%|██████████████████████               | 298/500 [1:50:25<1:09:12, 20.55s/it]"
     ]
    },
    {
     "name": "stdout",
     "output_type": "stream",
     "text": [
      "Found 2 games\n",
      "Found 890 sets\n",
      "Found 16 games\n",
      "Found 891 sets\n",
      "Found 2 games\n",
      "Found 892 sets\n"
     ]
    },
    {
     "name": "stderr",
     "output_type": "stream",
     "text": [
      "\r",
      " 60%|██████████████████████▏              | 299/500 [1:50:48<1:11:01, 21.20s/it]"
     ]
    },
    {
     "name": "stdout",
     "output_type": "stream",
     "text": [
      "Found 0 games\n",
      "Found 893 sets\n",
      "Found 15 games\n",
      "Found 894 sets\n",
      "Found 3 games\n",
      "Found 895 sets\n"
     ]
    },
    {
     "name": "stderr",
     "output_type": "stream",
     "text": [
      "\r",
      " 60%|██████████████████████▏              | 300/500 [1:51:10<1:12:13, 21.67s/it]"
     ]
    },
    {
     "name": "stdout",
     "output_type": "stream",
     "text": [
      "Found 0 games\n",
      "Found 896 sets\n",
      "Found 18 games\n",
      "Found 897 sets\n",
      "Found 0 games\n",
      "Found 898 sets\n"
     ]
    },
    {
     "name": "stderr",
     "output_type": "stream",
     "text": [
      "\r",
      " 60%|██████████████████████▎              | 301/500 [1:51:31<1:10:33, 21.27s/it]"
     ]
    },
    {
     "name": "stdout",
     "output_type": "stream",
     "text": [
      "Found 0 games\n",
      "Found 899 sets\n",
      "Found 10 games\n",
      "Found 900 sets\n",
      "Found 1 games\n",
      "Found 901 sets\n"
     ]
    },
    {
     "name": "stderr",
     "output_type": "stream",
     "text": [
      "\r",
      " 60%|██████████████████████▎              | 302/500 [1:52:03<1:20:52, 24.51s/it]"
     ]
    },
    {
     "name": "stdout",
     "output_type": "stream",
     "text": [
      "Found 0 games\n",
      "Found 902 sets\n",
      "Found 17 games\n",
      "Found 903 sets\n",
      "Found 3 games\n",
      "Found 904 sets\n"
     ]
    },
    {
     "name": "stderr",
     "output_type": "stream",
     "text": [
      "\r",
      " 61%|██████████████████████▍              | 303/500 [1:52:22<1:15:12, 22.91s/it]"
     ]
    },
    {
     "name": "stdout",
     "output_type": "stream",
     "text": [
      "Found 1 games\n",
      "Found 905 sets\n",
      "Found 18 games\n",
      "Found 906 sets\n",
      "Found 1 games\n",
      "Found 907 sets\n"
     ]
    },
    {
     "name": "stderr",
     "output_type": "stream",
     "text": [
      "\r",
      " 61%|██████████████████████▍              | 304/500 [1:52:49<1:18:33, 24.05s/it]"
     ]
    },
    {
     "name": "stdout",
     "output_type": "stream",
     "text": [
      "Found 1 games\n",
      "Found 908 sets\n",
      "Found 17 games\n",
      "Found 909 sets\n",
      "Found 1 games\n",
      "Found 910 sets\n"
     ]
    },
    {
     "name": "stderr",
     "output_type": "stream",
     "text": [
      "\r",
      " 61%|██████████████████████▌              | 305/500 [1:53:09<1:14:03, 22.79s/it]"
     ]
    },
    {
     "name": "stdout",
     "output_type": "stream",
     "text": [
      "Found 0 games\n",
      "Found 911 sets\n",
      "Found 17 games\n",
      "Found 912 sets\n",
      "Found 3 games\n",
      "Found 913 sets\n"
     ]
    },
    {
     "name": "stderr",
     "output_type": "stream",
     "text": [
      "\r",
      " 61%|██████████████████████▋              | 306/500 [1:53:28<1:10:45, 21.88s/it]"
     ]
    },
    {
     "name": "stdout",
     "output_type": "stream",
     "text": [
      "Found 2 games\n",
      "Found 914 sets\n",
      "Found 17 games\n",
      "Found 915 sets\n",
      "Found 2 games\n",
      "Found 916 sets\n"
     ]
    },
    {
     "name": "stderr",
     "output_type": "stream",
     "text": [
      "\r",
      " 61%|██████████████████████▋              | 307/500 [1:53:47<1:07:02, 20.84s/it]"
     ]
    },
    {
     "name": "stdout",
     "output_type": "stream",
     "text": [
      "Found 2 games\n",
      "Found 917 sets\n",
      "Found 13 games\n",
      "Found 918 sets\n",
      "Found 1 games\n",
      "Found 919 sets\n"
     ]
    },
    {
     "name": "stderr",
     "output_type": "stream",
     "text": [
      "\r",
      " 62%|██████████████████████▊              | 308/500 [1:54:08<1:06:50, 20.89s/it]"
     ]
    },
    {
     "name": "stdout",
     "output_type": "stream",
     "text": [
      "Found 0 games\n",
      "Found 920 sets\n",
      "Found 3 games\n",
      "Found 921 sets\n",
      "Found 0 games\n",
      "Found 922 sets\n"
     ]
    },
    {
     "name": "stderr",
     "output_type": "stream",
     "text": [
      "\r",
      " 62%|██████████████████████▊              | 309/500 [1:54:29<1:06:41, 20.95s/it]"
     ]
    },
    {
     "name": "stdout",
     "output_type": "stream",
     "text": [
      "Found 0 games\n",
      "Found 923 sets\n",
      "Found 17 games\n",
      "Found 924 sets\n",
      "Found 2 games\n",
      "Found 925 sets\n"
     ]
    },
    {
     "name": "stderr",
     "output_type": "stream",
     "text": [
      "\r",
      " 62%|██████████████████████▉              | 310/500 [1:54:56<1:12:07, 22.78s/it]"
     ]
    },
    {
     "name": "stdout",
     "output_type": "stream",
     "text": [
      "Found 0 games\n",
      "Found 926 sets\n",
      "Found 16 games\n",
      "Found 927 sets\n",
      "Found 5 games\n",
      "Found 928 sets\n"
     ]
    },
    {
     "name": "stderr",
     "output_type": "stream",
     "text": [
      "\r",
      " 62%|███████████████████████              | 311/500 [1:55:19<1:11:45, 22.78s/it]"
     ]
    },
    {
     "name": "stdout",
     "output_type": "stream",
     "text": [
      "Found 2 games\n",
      "Found 929 sets\n",
      "Found 16 games\n",
      "Found 930 sets\n",
      "Found 2 games\n",
      "Found 931 sets\n"
     ]
    },
    {
     "name": "stderr",
     "output_type": "stream",
     "text": [
      "\r",
      " 62%|███████████████████████              | 312/500 [1:55:36<1:05:57, 21.05s/it]"
     ]
    },
    {
     "name": "stdout",
     "output_type": "stream",
     "text": [
      "Found 0 games\n",
      "Found 932 sets\n",
      "Found 14 games\n",
      "Found 933 sets\n",
      "Found 3 games\n",
      "Found 934 sets\n"
     ]
    },
    {
     "name": "stderr",
     "output_type": "stream",
     "text": [
      "\r",
      " 63%|███████████████████████▏             | 313/500 [1:56:22<1:29:18, 28.65s/it]"
     ]
    },
    {
     "name": "stdout",
     "output_type": "stream",
     "text": [
      "Found 2 games\n",
      "Found 935 sets\n",
      "Found 12 games\n",
      "Found 936 sets\n",
      "Found 2 games\n",
      "Found 937 sets\n"
     ]
    },
    {
     "name": "stderr",
     "output_type": "stream",
     "text": [
      "\r",
      " 63%|███████████████████████▏             | 314/500 [1:56:46<1:24:39, 27.31s/it]"
     ]
    },
    {
     "name": "stdout",
     "output_type": "stream",
     "text": [
      "Found 2 games\n",
      "Found 938 sets\n",
      "Found 11 games\n",
      "Found 939 sets\n",
      "Found 2 games\n",
      "Found 940 sets\n"
     ]
    },
    {
     "name": "stderr",
     "output_type": "stream",
     "text": [
      "\r",
      " 63%|███████████████████████▎             | 315/500 [1:57:18<1:28:35, 28.73s/it]"
     ]
    },
    {
     "name": "stdout",
     "output_type": "stream",
     "text": [
      "Found 1 games\n",
      "Found 941 sets\n",
      "Found 6 games\n",
      "Found 942 sets\n",
      "Found 0 games\n",
      "Found 943 sets\n"
     ]
    },
    {
     "name": "stderr",
     "output_type": "stream",
     "text": [
      "\r",
      " 63%|███████████████████████▍             | 316/500 [1:57:40<1:21:26, 26.56s/it]"
     ]
    },
    {
     "name": "stdout",
     "output_type": "stream",
     "text": [
      "Found 0 games\n",
      "Found 944 sets\n",
      "Found 11 games\n",
      "Found 945 sets\n",
      "Found 0 games\n",
      "Found 946 sets\n"
     ]
    },
    {
     "name": "stderr",
     "output_type": "stream",
     "text": [
      "\r",
      " 63%|███████████████████████▍             | 317/500 [1:58:06<1:20:24, 26.36s/it]"
     ]
    },
    {
     "name": "stdout",
     "output_type": "stream",
     "text": [
      "Found 0 games\n",
      "Found 947 sets\n",
      "Found 18 games\n",
      "Found 948 sets\n",
      "Found 4 games\n",
      "Found 949 sets\n"
     ]
    },
    {
     "name": "stderr",
     "output_type": "stream",
     "text": [
      "\r",
      " 64%|███████████████████████▌             | 318/500 [1:58:31<1:18:58, 26.04s/it]"
     ]
    },
    {
     "name": "stdout",
     "output_type": "stream",
     "text": [
      "Found 3 games\n",
      "Found 950 sets\n",
      "Found 16 games\n",
      "Found 951 sets\n",
      "Found 1 games\n",
      "Found 952 sets\n"
     ]
    },
    {
     "name": "stderr",
     "output_type": "stream",
     "text": [
      "\r",
      " 64%|███████████████████████▌             | 319/500 [1:58:58<1:19:28, 26.35s/it]"
     ]
    },
    {
     "name": "stdout",
     "output_type": "stream",
     "text": [
      "Found 1 games\n",
      "Found 953 sets\n",
      "Found 15 games\n",
      "Found 954 sets\n",
      "Found 2 games\n",
      "Found 955 sets\n"
     ]
    },
    {
     "name": "stderr",
     "output_type": "stream",
     "text": [
      "\r",
      " 64%|███████████████████████▋             | 320/500 [1:59:21<1:15:37, 25.21s/it]"
     ]
    },
    {
     "name": "stdout",
     "output_type": "stream",
     "text": [
      "Found 1 games\n",
      "Found 956 sets\n",
      "Found 16 games\n",
      "Found 957 sets\n",
      "Found 1 games\n",
      "Found 958 sets\n"
     ]
    },
    {
     "name": "stderr",
     "output_type": "stream",
     "text": [
      "\r",
      " 64%|███████████████████████▊             | 321/500 [1:59:40<1:09:56, 23.45s/it]"
     ]
    },
    {
     "name": "stdout",
     "output_type": "stream",
     "text": [
      "Found 1 games\n",
      "Found 959 sets\n",
      "Found 12 games\n",
      "Found 960 sets\n",
      "Found 0 games\n",
      "Found 961 sets\n"
     ]
    },
    {
     "name": "stderr",
     "output_type": "stream",
     "text": [
      "\r",
      " 64%|███████████████████████▊             | 322/500 [2:00:04<1:09:44, 23.51s/it]"
     ]
    },
    {
     "name": "stdout",
     "output_type": "stream",
     "text": [
      "Found 0 games\n",
      "Found 962 sets\n",
      "Found 17 games\n",
      "Found 963 sets\n",
      "Found 0 games\n",
      "Found 964 sets\n"
     ]
    },
    {
     "name": "stderr",
     "output_type": "stream",
     "text": [
      "\r",
      " 65%|███████████████████████▉             | 323/500 [2:00:23<1:05:51, 22.33s/it]"
     ]
    },
    {
     "name": "stdout",
     "output_type": "stream",
     "text": [
      "Found 0 games\n",
      "Found 965 sets\n",
      "Found 14 games\n",
      "Found 966 sets\n",
      "Found 1 games\n",
      "Found 967 sets\n"
     ]
    },
    {
     "name": "stderr",
     "output_type": "stream",
     "text": [
      "\r",
      " 65%|███████████████████████▉             | 324/500 [2:00:51<1:09:55, 23.84s/it]"
     ]
    },
    {
     "name": "stdout",
     "output_type": "stream",
     "text": [
      "Found 1 games\n",
      "Found 968 sets\n",
      "Found 17 games\n",
      "Found 969 sets\n",
      "Found 1 games\n",
      "Found 970 sets\n"
     ]
    },
    {
     "name": "stderr",
     "output_type": "stream",
     "text": [
      "\r",
      " 65%|████████████████████████             | 325/500 [2:01:12<1:07:03, 22.99s/it]"
     ]
    },
    {
     "name": "stdout",
     "output_type": "stream",
     "text": [
      "Found 1 games\n",
      "Found 971 sets\n",
      "Found 17 games\n",
      "Found 972 sets\n",
      "Found 2 games\n",
      "Found 973 sets\n"
     ]
    },
    {
     "name": "stderr",
     "output_type": "stream",
     "text": [
      "\r",
      " 65%|████████████████████████             | 326/500 [2:01:31<1:03:51, 22.02s/it]"
     ]
    },
    {
     "name": "stdout",
     "output_type": "stream",
     "text": [
      "Found 0 games\n",
      "Found 974 sets\n",
      "Found 17 games\n",
      "Found 975 sets\n",
      "Found 4 games\n",
      "Found 976 sets\n"
     ]
    },
    {
     "name": "stderr",
     "output_type": "stream",
     "text": [
      "\r",
      " 65%|████████████████████████▏            | 327/500 [2:01:52<1:02:10, 21.56s/it]"
     ]
    },
    {
     "name": "stdout",
     "output_type": "stream",
     "text": [
      "Found 2 games\n",
      "Found 977 sets\n",
      "Found 16 games\n",
      "Found 978 sets\n",
      "Found 8 games\n",
      "Found 979 sets\n"
     ]
    },
    {
     "name": "stderr",
     "output_type": "stream",
     "text": [
      "\r",
      " 66%|████████████████████████▎            | 328/500 [2:02:13<1:01:19, 21.39s/it]"
     ]
    },
    {
     "name": "stdout",
     "output_type": "stream",
     "text": [
      "Found 4 games\n",
      "Found 980 sets\n",
      "Found 18 games\n",
      "Found 981 sets\n",
      "Found 2 games\n",
      "Found 982 sets\n"
     ]
    },
    {
     "name": "stderr",
     "output_type": "stream",
     "text": [
      "\r",
      " 66%|████████████████████████▎            | 329/500 [2:02:33<1:00:03, 21.07s/it]"
     ]
    },
    {
     "name": "stdout",
     "output_type": "stream",
     "text": [
      "Found 1 games\n",
      "Found 983 sets\n",
      "Found 16 games\n",
      "Found 984 sets\n",
      "Found 2 games\n",
      "Found 985 sets\n"
     ]
    },
    {
     "name": "stderr",
     "output_type": "stream",
     "text": [
      "\r",
      " 66%|████████████████████████▍            | 330/500 [2:02:55<1:00:43, 21.43s/it]"
     ]
    },
    {
     "name": "stdout",
     "output_type": "stream",
     "text": [
      "Found 0 games\n",
      "Found 986 sets\n",
      "Found 18 games\n",
      "Found 987 sets\n",
      "Found 4 games\n",
      "Found 988 sets\n"
     ]
    },
    {
     "name": "stderr",
     "output_type": "stream",
     "text": [
      "\r",
      " 66%|████████████████████████▍            | 331/500 [2:03:21<1:03:38, 22.59s/it]"
     ]
    },
    {
     "name": "stdout",
     "output_type": "stream",
     "text": [
      "Found 3 games\n",
      "Found 989 sets\n",
      "Found 16 games\n",
      "Found 990 sets\n",
      "Found 1 games\n",
      "Found 991 sets\n"
     ]
    },
    {
     "name": "stderr",
     "output_type": "stream",
     "text": [
      "\r",
      " 66%|████████████████████████▌            | 332/500 [2:03:41<1:01:04, 21.81s/it]"
     ]
    },
    {
     "name": "stdout",
     "output_type": "stream",
     "text": [
      "Found 1 games\n",
      "Found 992 sets\n",
      "Found 15 games\n",
      "Found 993 sets\n",
      "Found 5 games\n",
      "Found 994 sets\n"
     ]
    },
    {
     "name": "stderr",
     "output_type": "stream",
     "text": [
      "\r",
      " 67%|████████████████████████▋            | 333/500 [2:04:04<1:02:04, 22.30s/it]"
     ]
    },
    {
     "name": "stdout",
     "output_type": "stream",
     "text": [
      "Found 2 games\n",
      "Found 995 sets\n",
      "Found 16 games\n",
      "Found 996 sets\n",
      "Found 2 games\n",
      "Found 997 sets\n"
     ]
    },
    {
     "name": "stderr",
     "output_type": "stream",
     "text": [
      "\r",
      " 67%|████████████████████████▋            | 334/500 [2:04:27<1:02:00, 22.41s/it]"
     ]
    },
    {
     "name": "stdout",
     "output_type": "stream",
     "text": [
      "Found 2 games\n",
      "Found 998 sets\n",
      "Found 17 games\n",
      "Found 999 sets\n",
      "Found 1 games\n",
      "Found 1000 sets\n"
     ]
    },
    {
     "name": "stderr",
     "output_type": "stream",
     "text": [
      "\r",
      " 67%|████████████████████████▊            | 335/500 [2:04:53<1:04:27, 23.44s/it]"
     ]
    },
    {
     "name": "stdout",
     "output_type": "stream",
     "text": [
      "Found 1 games\n",
      "Found 1001 sets\n",
      "Found 19 games\n",
      "Found 1002 sets\n",
      "Found 4 games\n",
      "Found 1003 sets\n"
     ]
    },
    {
     "name": "stderr",
     "output_type": "stream",
     "text": [
      "\r",
      " 67%|████████████████████████▊            | 336/500 [2:05:15<1:03:24, 23.20s/it]"
     ]
    },
    {
     "name": "stdout",
     "output_type": "stream",
     "text": [
      "Found 3 games\n",
      "Found 1004 sets\n",
      "Found 16 games\n",
      "Found 1005 sets\n",
      "Found 1 games\n",
      "Found 1006 sets\n"
     ]
    },
    {
     "name": "stderr",
     "output_type": "stream",
     "text": [
      "\r",
      " 67%|████████████████████████▉            | 337/500 [2:05:36<1:01:17, 22.56s/it]"
     ]
    },
    {
     "name": "stdout",
     "output_type": "stream",
     "text": [
      "Found 1 games\n",
      "Found 1007 sets\n",
      "Found 12 games\n",
      "Found 1008 sets\n",
      "Found 4 games\n",
      "Found 1009 sets\n"
     ]
    },
    {
     "name": "stderr",
     "output_type": "stream",
     "text": [
      "\r",
      " 68%|█████████████████████████            | 338/500 [2:05:58<1:00:18, 22.34s/it]"
     ]
    },
    {
     "name": "stdout",
     "output_type": "stream",
     "text": [
      "Found 2 games\n",
      "Found 1010 sets\n",
      "Found 15 games\n",
      "Found 1011 sets\n",
      "Found 3 games\n",
      "Found 1012 sets\n"
     ]
    },
    {
     "name": "stderr",
     "output_type": "stream",
     "text": [
      "\r",
      " 68%|█████████████████████████            | 339/500 [2:06:22<1:00:50, 22.67s/it]"
     ]
    },
    {
     "name": "stdout",
     "output_type": "stream",
     "text": [
      "Found 2 games\n",
      "Found 1013 sets\n",
      "Found 15 games\n",
      "Found 1014 sets\n",
      "Found 1 games\n",
      "Found 1015 sets\n"
     ]
    },
    {
     "name": "stderr",
     "output_type": "stream",
     "text": [
      "\r",
      " 68%|█████████████████████████▏           | 340/500 [2:06:45<1:01:15, 22.97s/it]"
     ]
    },
    {
     "name": "stdout",
     "output_type": "stream",
     "text": [
      "Found 1 games\n",
      "Found 1016 sets\n",
      "Found 16 games\n",
      "Found 1017 sets\n",
      "Found 0 games\n",
      "Found 1018 sets\n"
     ]
    },
    {
     "name": "stderr",
     "output_type": "stream",
     "text": [
      "\r",
      " 68%|██████████████████████████▌            | 341/500 [2:07:05<58:13, 21.97s/it]"
     ]
    },
    {
     "name": "stdout",
     "output_type": "stream",
     "text": [
      "Found 0 games\n",
      "Found 1019 sets\n",
      "Found 17 games\n",
      "Found 1020 sets\n",
      "Found 1 games\n",
      "Found 1021 sets\n"
     ]
    },
    {
     "name": "stderr",
     "output_type": "stream",
     "text": [
      "\r",
      " 68%|██████████████████████████▋            | 342/500 [2:07:25<56:27, 21.44s/it]"
     ]
    },
    {
     "name": "stdout",
     "output_type": "stream",
     "text": [
      "Found 1 games\n",
      "Found 1022 sets\n",
      "Found 18 games\n",
      "Found 1023 sets\n",
      "Found 1 games\n",
      "Found 1024 sets\n"
     ]
    },
    {
     "name": "stderr",
     "output_type": "stream",
     "text": [
      "\r",
      " 69%|██████████████████████████▊            | 343/500 [2:07:46<55:18, 21.14s/it]"
     ]
    },
    {
     "name": "stdout",
     "output_type": "stream",
     "text": [
      "Found 0 games\n",
      "Found 1025 sets\n",
      "Found 13 games\n",
      "Found 1026 sets\n",
      "Found 0 games\n",
      "Found 1027 sets\n"
     ]
    },
    {
     "name": "stderr",
     "output_type": "stream",
     "text": [
      "\r",
      " 69%|██████████████████████████▊            | 344/500 [2:08:07<55:00, 21.15s/it]"
     ]
    },
    {
     "name": "stdout",
     "output_type": "stream",
     "text": [
      "Found 0 games\n",
      "Found 1028 sets\n",
      "Found 16 games\n",
      "Found 1029 sets\n",
      "Found 0 games\n",
      "Found 1030 sets\n"
     ]
    },
    {
     "name": "stderr",
     "output_type": "stream",
     "text": [
      "\r",
      " 69%|██████████████████████████▉            | 345/500 [2:08:24<51:31, 19.95s/it]"
     ]
    },
    {
     "name": "stdout",
     "output_type": "stream",
     "text": [
      "Found 0 games\n",
      "Found 1031 sets\n",
      "Found 15 games\n",
      "Found 1032 sets\n",
      "Found 0 games\n",
      "Found 1033 sets\n"
     ]
    },
    {
     "name": "stderr",
     "output_type": "stream",
     "text": [
      "\r",
      " 69%|██████████████████████████▉            | 346/500 [2:08:44<51:25, 20.04s/it]"
     ]
    },
    {
     "name": "stdout",
     "output_type": "stream",
     "text": [
      "Found 0 games\n",
      "Found 1034 sets\n",
      "Found 16 games\n",
      "Found 1035 sets\n",
      "Found 5 games\n",
      "Found 1036 sets\n"
     ]
    },
    {
     "name": "stderr",
     "output_type": "stream",
     "text": [
      "\r",
      " 69%|███████████████████████████            | 347/500 [2:09:05<51:22, 20.15s/it]"
     ]
    },
    {
     "name": "stdout",
     "output_type": "stream",
     "text": [
      "Found 1 games\n",
      "Found 1037 sets\n",
      "Found 19 games\n",
      "Found 1038 sets\n",
      "Found 2 games\n",
      "Found 1039 sets\n"
     ]
    },
    {
     "name": "stderr",
     "output_type": "stream",
     "text": [
      "\r",
      " 70%|███████████████████████████▏           | 348/500 [2:09:23<49:30, 19.54s/it]"
     ]
    },
    {
     "name": "stdout",
     "output_type": "stream",
     "text": [
      "Found 1 games\n",
      "Found 1040 sets\n",
      "Found 16 games\n",
      "Found 1041 sets\n",
      "Found 2 games\n",
      "Found 1042 sets\n"
     ]
    },
    {
     "name": "stderr",
     "output_type": "stream",
     "text": [
      "\r",
      " 70%|███████████████████████████▏           | 349/500 [2:09:43<49:37, 19.72s/it]"
     ]
    },
    {
     "name": "stdout",
     "output_type": "stream",
     "text": [
      "Found 0 games\n",
      "Found 1043 sets\n",
      "Found 17 games\n",
      "Found 1044 sets\n",
      "Found 2 games\n",
      "Found 1045 sets\n"
     ]
    },
    {
     "name": "stderr",
     "output_type": "stream",
     "text": [
      "\r",
      " 70%|███████████████████████████▎           | 350/500 [2:10:05<51:15, 20.50s/it]"
     ]
    },
    {
     "name": "stdout",
     "output_type": "stream",
     "text": [
      "Found 0 games\n",
      "Found 1046 sets\n",
      "Found 14 games\n",
      "Found 1047 sets\n",
      "Found 0 games\n",
      "Found 1048 sets\n"
     ]
    },
    {
     "name": "stderr",
     "output_type": "stream",
     "text": [
      "\r",
      " 70%|███████████████████████████▍           | 351/500 [2:10:25<50:35, 20.38s/it]"
     ]
    },
    {
     "name": "stdout",
     "output_type": "stream",
     "text": [
      "Found 0 games\n",
      "Found 1049 sets\n",
      "Found 18 games\n",
      "Found 1050 sets\n",
      "Found 0 games\n",
      "Found 1051 sets\n"
     ]
    },
    {
     "name": "stderr",
     "output_type": "stream",
     "text": [
      "\r",
      " 70%|███████████████████████████▍           | 352/500 [2:10:44<49:21, 20.01s/it]"
     ]
    },
    {
     "name": "stdout",
     "output_type": "stream",
     "text": [
      "Found 0 games\n",
      "Found 1052 sets\n",
      "Found 18 games\n",
      "Found 1053 sets\n",
      "Found 0 games\n",
      "Found 1054 sets\n"
     ]
    },
    {
     "name": "stderr",
     "output_type": "stream",
     "text": [
      "\r",
      " 71%|███████████████████████████▌           | 353/500 [2:11:04<48:32, 19.81s/it]"
     ]
    },
    {
     "name": "stdout",
     "output_type": "stream",
     "text": [
      "Found 0 games\n",
      "Found 1055 sets\n",
      "Found 16 games\n",
      "Found 1056 sets\n",
      "Found 1 games\n",
      "Found 1057 sets\n"
     ]
    },
    {
     "name": "stderr",
     "output_type": "stream",
     "text": [
      "\r",
      " 71%|███████████████████████████▌           | 354/500 [2:11:22<47:08, 19.37s/it]"
     ]
    },
    {
     "name": "stdout",
     "output_type": "stream",
     "text": [
      "Found 1 games\n",
      "Found 1058 sets\n",
      "Found 16 games\n",
      "Found 1059 sets\n",
      "Found 4 games\n",
      "Found 1060 sets\n"
     ]
    },
    {
     "name": "stderr",
     "output_type": "stream",
     "text": [
      "\r",
      " 71%|███████████████████████████▋           | 355/500 [2:11:42<47:12, 19.54s/it]"
     ]
    },
    {
     "name": "stdout",
     "output_type": "stream",
     "text": [
      "Found 2 games\n",
      "Found 1061 sets\n",
      "Found 18 games\n",
      "Found 1062 sets\n",
      "Found 4 games\n",
      "Found 1063 sets\n"
     ]
    },
    {
     "name": "stderr",
     "output_type": "stream",
     "text": [
      "\r",
      " 71%|███████████████████████████▊           | 356/500 [2:12:06<49:48, 20.76s/it]"
     ]
    },
    {
     "name": "stdout",
     "output_type": "stream",
     "text": [
      "Found 1 games\n",
      "Found 1064 sets\n",
      "Found 15 games\n",
      "Found 1065 sets\n",
      "Found 0 games\n",
      "Found 1066 sets\n"
     ]
    },
    {
     "name": "stderr",
     "output_type": "stream",
     "text": [
      "\r",
      " 71%|███████████████████████████▊           | 357/500 [2:12:27<50:12, 21.07s/it]"
     ]
    },
    {
     "name": "stdout",
     "output_type": "stream",
     "text": [
      "Found 0 games\n",
      "Found 1067 sets\n",
      "Found 16 games\n",
      "Found 1068 sets\n",
      "Found 0 games\n",
      "Found 1069 sets\n"
     ]
    },
    {
     "name": "stderr",
     "output_type": "stream",
     "text": [
      "\r",
      " 72%|███████████████████████████▉           | 358/500 [2:12:52<52:21, 22.12s/it]"
     ]
    },
    {
     "name": "stdout",
     "output_type": "stream",
     "text": [
      "Found 0 games\n",
      "Found 1070 sets\n",
      "Found 13 games\n",
      "Found 1071 sets\n",
      "Found 2 games\n",
      "Found 1072 sets\n"
     ]
    },
    {
     "name": "stderr",
     "output_type": "stream",
     "text": [
      "\r",
      " 72%|████████████████████████████           | 359/500 [2:13:09<48:21, 20.58s/it]"
     ]
    },
    {
     "name": "stdout",
     "output_type": "stream",
     "text": [
      "Found 0 games\n",
      "Found 1073 sets\n",
      "Found 18 games\n",
      "Found 1074 sets\n",
      "Found 1 games\n",
      "Found 1075 sets\n"
     ]
    },
    {
     "name": "stderr",
     "output_type": "stream",
     "text": [
      "\r",
      " 72%|██████████████████████████▋          | 360/500 [2:13:49<1:01:47, 26.48s/it]"
     ]
    },
    {
     "name": "stdout",
     "output_type": "stream",
     "text": [
      "Found 0 games\n",
      "Found 1076 sets\n",
      "Found 16 games\n",
      "Found 1077 sets\n",
      "Found 2 games\n",
      "Found 1078 sets\n"
     ]
    },
    {
     "name": "stderr",
     "output_type": "stream",
     "text": [
      "\r",
      " 72%|████████████████████████████▏          | 361/500 [2:14:10<57:20, 24.75s/it]"
     ]
    },
    {
     "name": "stdout",
     "output_type": "stream",
     "text": [
      "Found 1 games\n",
      "Found 1079 sets\n",
      "Found 18 games\n",
      "Found 1080 sets\n",
      "Found 3 games\n",
      "Found 1081 sets\n"
     ]
    },
    {
     "name": "stderr",
     "output_type": "stream",
     "text": [
      "\r",
      " 72%|████████████████████████████▏          | 362/500 [2:14:34<56:13, 24.45s/it]"
     ]
    },
    {
     "name": "stdout",
     "output_type": "stream",
     "text": [
      "Found 1 games\n",
      "Found 1082 sets\n",
      "Found 17 games\n",
      "Found 1083 sets\n",
      "Found 0 games\n",
      "Found 1084 sets\n"
     ]
    },
    {
     "name": "stderr",
     "output_type": "stream",
     "text": [
      "\r",
      " 73%|████████████████████████████▎          | 363/500 [2:14:54<53:02, 23.23s/it]"
     ]
    },
    {
     "name": "stdout",
     "output_type": "stream",
     "text": [
      "Found 0 games\n",
      "Found 1085 sets\n",
      "Found 15 games\n",
      "Found 1086 sets\n",
      "Found 2 games\n",
      "Found 1087 sets\n"
     ]
    },
    {
     "name": "stderr",
     "output_type": "stream",
     "text": [
      "\r",
      " 73%|████████████████████████████▍          | 364/500 [2:15:17<52:13, 23.04s/it]"
     ]
    },
    {
     "name": "stdout",
     "output_type": "stream",
     "text": [
      "Found 1 games\n",
      "Found 1088 sets\n",
      "Found 14 games\n",
      "Found 1089 sets\n",
      "Found 1 games\n",
      "Found 1090 sets\n"
     ]
    },
    {
     "name": "stderr",
     "output_type": "stream",
     "text": [
      "\r",
      " 73%|████████████████████████████▍          | 365/500 [2:15:38<50:20, 22.38s/it]"
     ]
    },
    {
     "name": "stdout",
     "output_type": "stream",
     "text": [
      "Found 0 games\n",
      "Found 1091 sets\n",
      "Found 17 games\n",
      "Found 1092 sets\n",
      "Found 2 games\n",
      "Found 1093 sets\n"
     ]
    },
    {
     "name": "stderr",
     "output_type": "stream",
     "text": [
      "\r",
      " 73%|████████████████████████████▌          | 366/500 [2:16:00<49:57, 22.37s/it]"
     ]
    },
    {
     "name": "stdout",
     "output_type": "stream",
     "text": [
      "Found 0 games\n",
      "Found 1094 sets\n",
      "Found 19 games\n",
      "Found 1095 sets\n",
      "Found 1 games\n",
      "Found 1096 sets\n"
     ]
    },
    {
     "name": "stderr",
     "output_type": "stream",
     "text": [
      "\r",
      " 73%|████████████████████████████▋          | 367/500 [2:16:23<49:56, 22.53s/it]"
     ]
    },
    {
     "name": "stdout",
     "output_type": "stream",
     "text": [
      "Found 1 games\n",
      "Found 1097 sets\n",
      "Found 13 games\n",
      "Found 1098 sets\n",
      "Found 1 games\n",
      "Found 1099 sets\n"
     ]
    },
    {
     "name": "stderr",
     "output_type": "stream",
     "text": [
      "\r",
      " 74%|████████████████████████████▋          | 368/500 [2:16:45<49:09, 22.35s/it]"
     ]
    },
    {
     "name": "stdout",
     "output_type": "stream",
     "text": [
      "Found 1 games\n",
      "Found 1100 sets\n",
      "Found 18 games\n",
      "Found 1101 sets\n",
      "Found 1 games\n",
      "Found 1102 sets\n"
     ]
    },
    {
     "name": "stderr",
     "output_type": "stream",
     "text": [
      "\r",
      " 74%|████████████████████████████▊          | 369/500 [2:17:03<46:16, 21.20s/it]"
     ]
    },
    {
     "name": "stdout",
     "output_type": "stream",
     "text": [
      "Found 0 games\n",
      "Found 1103 sets\n",
      "Found 18 games\n",
      "Found 1104 sets\n",
      "Found 0 games\n",
      "Found 1105 sets\n"
     ]
    },
    {
     "name": "stderr",
     "output_type": "stream",
     "text": [
      "\r",
      " 74%|████████████████████████████▊          | 370/500 [2:17:23<45:00, 20.77s/it]"
     ]
    },
    {
     "name": "stdout",
     "output_type": "stream",
     "text": [
      "Found 0 games\n",
      "Found 1106 sets\n",
      "Found 19 games\n",
      "Found 1107 sets\n",
      "Found 0 games\n",
      "Found 1108 sets\n"
     ]
    },
    {
     "name": "stderr",
     "output_type": "stream",
     "text": [
      "\r",
      " 74%|████████████████████████████▉          | 371/500 [2:17:54<51:20, 23.88s/it]"
     ]
    },
    {
     "name": "stdout",
     "output_type": "stream",
     "text": [
      "Found 0 games\n",
      "Found 1109 sets\n",
      "Found 14 games\n",
      "Found 1110 sets\n",
      "Found 0 games\n",
      "Found 1111 sets\n"
     ]
    },
    {
     "name": "stderr",
     "output_type": "stream",
     "text": [
      "\r",
      " 74%|█████████████████████████████          | 372/500 [2:18:15<49:13, 23.07s/it]"
     ]
    },
    {
     "name": "stdout",
     "output_type": "stream",
     "text": [
      "Found 0 games\n",
      "Found 1112 sets\n",
      "Found 16 games\n",
      "Found 1113 sets\n",
      "Found 0 games\n",
      "Found 1114 sets\n"
     ]
    },
    {
     "name": "stderr",
     "output_type": "stream",
     "text": [
      "\r",
      " 75%|█████████████████████████████          | 373/500 [2:18:38<48:46, 23.04s/it]"
     ]
    },
    {
     "name": "stdout",
     "output_type": "stream",
     "text": [
      "Found 0 games\n",
      "Found 1115 sets\n",
      "Found 15 games\n",
      "Found 1116 sets\n",
      "Found 2 games\n",
      "Found 1117 sets\n"
     ]
    },
    {
     "name": "stderr",
     "output_type": "stream",
     "text": [
      "\r",
      " 75%|█████████████████████████████▏         | 374/500 [2:18:57<45:28, 21.66s/it]"
     ]
    },
    {
     "name": "stdout",
     "output_type": "stream",
     "text": [
      "Found 1 games\n",
      "Found 1118 sets\n",
      "Found 18 games\n",
      "Found 1119 sets\n",
      "Found 1 games\n",
      "Found 1120 sets\n"
     ]
    },
    {
     "name": "stderr",
     "output_type": "stream",
     "text": [
      "\r",
      " 75%|█████████████████████████████▎         | 375/500 [2:19:17<44:18, 21.27s/it]"
     ]
    },
    {
     "name": "stdout",
     "output_type": "stream",
     "text": [
      "Found 0 games\n",
      "Found 1121 sets\n",
      "Found 17 games\n",
      "Found 1122 sets\n",
      "Found 1 games\n",
      "Found 1123 sets\n"
     ]
    },
    {
     "name": "stderr",
     "output_type": "stream",
     "text": [
      "\r",
      " 75%|█████████████████████████████▎         | 376/500 [2:19:36<42:15, 20.45s/it]"
     ]
    },
    {
     "name": "stdout",
     "output_type": "stream",
     "text": [
      "Found 1 games\n",
      "Found 1124 sets\n",
      "Found 17 games\n",
      "Found 1125 sets\n",
      "Found 2 games\n",
      "Found 1126 sets\n"
     ]
    },
    {
     "name": "stderr",
     "output_type": "stream",
     "text": [
      "\r",
      " 75%|█████████████████████████████▍         | 377/500 [2:20:02<45:43, 22.31s/it]"
     ]
    },
    {
     "name": "stdout",
     "output_type": "stream",
     "text": [
      "Found 1 games\n",
      "Found 1127 sets\n",
      "Found 17 games\n",
      "Found 1128 sets\n",
      "Found 2 games\n",
      "Found 1129 sets\n"
     ]
    },
    {
     "name": "stderr",
     "output_type": "stream",
     "text": [
      "\r",
      " 76%|█████████████████████████████▍         | 378/500 [2:20:23<44:26, 21.85s/it]"
     ]
    },
    {
     "name": "stdout",
     "output_type": "stream",
     "text": [
      "Found 0 games\n",
      "Found 1130 sets\n",
      "Found 17 games\n",
      "Found 1131 sets\n",
      "Found 2 games\n",
      "Found 1132 sets\n"
     ]
    },
    {
     "name": "stderr",
     "output_type": "stream",
     "text": [
      "\r",
      " 76%|█████████████████████████████▌         | 379/500 [2:20:41<41:57, 20.81s/it]"
     ]
    },
    {
     "name": "stdout",
     "output_type": "stream",
     "text": [
      "Found 1 games\n",
      "Found 1133 sets\n",
      "Found 18 games\n",
      "Found 1134 sets\n",
      "Found 1 games\n",
      "Found 1135 sets\n"
     ]
    },
    {
     "name": "stderr",
     "output_type": "stream",
     "text": [
      "\r",
      " 76%|█████████████████████████████▋         | 380/500 [2:21:00<40:34, 20.29s/it]"
     ]
    },
    {
     "name": "stdout",
     "output_type": "stream",
     "text": [
      "Found 0 games\n",
      "Found 1136 sets\n",
      "Found 19 games\n",
      "Found 1137 sets\n",
      "Found 2 games\n",
      "Found 1138 sets\n"
     ]
    },
    {
     "name": "stderr",
     "output_type": "stream",
     "text": [
      "\r",
      " 76%|█████████████████████████████▋         | 381/500 [2:21:21<40:13, 20.28s/it]"
     ]
    },
    {
     "name": "stdout",
     "output_type": "stream",
     "text": [
      "Found 1 games\n",
      "Found 1139 sets\n",
      "Found 17 games\n",
      "Found 1140 sets\n",
      "Found 2 games\n",
      "Found 1141 sets\n"
     ]
    },
    {
     "name": "stderr",
     "output_type": "stream",
     "text": [
      "\r",
      " 76%|█████████████████████████████▊         | 382/500 [2:21:39<38:27, 19.55s/it]"
     ]
    },
    {
     "name": "stdout",
     "output_type": "stream",
     "text": [
      "Found 0 games\n",
      "Found 1142 sets\n",
      "Found 12 games\n",
      "Found 1143 sets\n",
      "Found 0 games\n",
      "Found 1144 sets\n"
     ]
    },
    {
     "name": "stderr",
     "output_type": "stream",
     "text": [
      "\r",
      " 77%|█████████████████████████████▊         | 383/500 [2:21:56<37:08, 19.04s/it]"
     ]
    },
    {
     "name": "stdout",
     "output_type": "stream",
     "text": [
      "Found 0 games\n",
      "Found 1145 sets\n",
      "Found 13 games\n",
      "Found 1146 sets\n",
      "Found 0 games\n",
      "Found 1147 sets\n"
     ]
    },
    {
     "name": "stderr",
     "output_type": "stream",
     "text": [
      "\r",
      " 77%|█████████████████████████████▉         | 384/500 [2:22:16<37:07, 19.21s/it]"
     ]
    },
    {
     "name": "stdout",
     "output_type": "stream",
     "text": [
      "Found 0 games\n",
      "Found 1148 sets\n",
      "Found 14 games\n",
      "Found 1149 sets\n",
      "Found 0 games\n",
      "Found 1150 sets\n"
     ]
    },
    {
     "name": "stderr",
     "output_type": "stream",
     "text": [
      "\r",
      " 77%|██████████████████████████████         | 385/500 [2:22:38<38:10, 19.92s/it]"
     ]
    },
    {
     "name": "stdout",
     "output_type": "stream",
     "text": [
      "Found 0 games\n",
      "Found 1151 sets\n",
      "Found 14 games\n",
      "Found 1152 sets\n",
      "Found 5 games\n",
      "Found 1153 sets\n"
     ]
    },
    {
     "name": "stderr",
     "output_type": "stream",
     "text": [
      "\r",
      " 77%|██████████████████████████████         | 386/500 [2:23:04<41:36, 21.90s/it]"
     ]
    },
    {
     "name": "stdout",
     "output_type": "stream",
     "text": [
      "Found 4 games\n",
      "Found 1154 sets\n",
      "Found 18 games\n",
      "Found 1155 sets\n",
      "Found 0 games\n",
      "Found 1156 sets\n"
     ]
    },
    {
     "name": "stderr",
     "output_type": "stream",
     "text": [
      "\r",
      " 77%|██████████████████████████████▏        | 387/500 [2:23:23<39:35, 21.02s/it]"
     ]
    },
    {
     "name": "stdout",
     "output_type": "stream",
     "text": [
      "Found 0 games\n",
      "Found 1157 sets\n",
      "Found 19 games\n",
      "Found 1158 sets\n",
      "Found 2 games\n",
      "Found 1159 sets\n"
     ]
    },
    {
     "name": "stderr",
     "output_type": "stream",
     "text": [
      "\r",
      " 78%|██████████████████████████████▎        | 388/500 [2:23:45<39:54, 21.38s/it]"
     ]
    },
    {
     "name": "stdout",
     "output_type": "stream",
     "text": [
      "Found 0 games\n",
      "Found 1160 sets\n",
      "Found 16 games\n",
      "Found 1161 sets\n",
      "Found 0 games\n",
      "Found 1162 sets\n"
     ]
    },
    {
     "name": "stderr",
     "output_type": "stream",
     "text": [
      "\r",
      " 78%|██████████████████████████████▎        | 389/500 [2:24:04<38:08, 20.62s/it]"
     ]
    },
    {
     "name": "stdout",
     "output_type": "stream",
     "text": [
      "Found 0 games\n",
      "Found 1163 sets\n",
      "Found 18 games\n",
      "Found 1164 sets\n",
      "Found 0 games\n",
      "Found 1165 sets\n"
     ]
    },
    {
     "name": "stderr",
     "output_type": "stream",
     "text": [
      "\r",
      " 78%|██████████████████████████████▍        | 390/500 [2:24:24<37:26, 20.42s/it]"
     ]
    },
    {
     "name": "stdout",
     "output_type": "stream",
     "text": [
      "Found 0 games\n",
      "Found 1166 sets\n",
      "Found 19 games\n",
      "Found 1167 sets\n",
      "Found 5 games\n",
      "Found 1168 sets\n"
     ]
    },
    {
     "name": "stderr",
     "output_type": "stream",
     "text": [
      "\r",
      " 78%|██████████████████████████████▍        | 391/500 [2:24:50<39:47, 21.91s/it]"
     ]
    },
    {
     "name": "stdout",
     "output_type": "stream",
     "text": [
      "Found 4 games\n",
      "Found 1169 sets\n",
      "Found 18 games\n",
      "Found 1170 sets\n",
      "Found 1 games\n",
      "Found 1171 sets\n"
     ]
    },
    {
     "name": "stderr",
     "output_type": "stream",
     "text": [
      "\r",
      " 78%|██████████████████████████████▌        | 392/500 [2:25:09<38:22, 21.32s/it]"
     ]
    },
    {
     "name": "stdout",
     "output_type": "stream",
     "text": [
      "Found 1 games\n",
      "Found 1172 sets\n",
      "Found 18 games\n",
      "Found 1173 sets\n",
      "Found 4 games\n",
      "Found 1174 sets\n"
     ]
    },
    {
     "name": "stderr",
     "output_type": "stream",
     "text": [
      "\r",
      " 79%|██████████████████████████████▋        | 393/500 [2:25:43<44:30, 24.96s/it]"
     ]
    },
    {
     "name": "stdout",
     "output_type": "stream",
     "text": [
      "Found 2 games\n",
      "Found 1175 sets\n",
      "Found 17 games\n",
      "Found 1176 sets\n",
      "Found 2 games\n",
      "Found 1177 sets\n"
     ]
    },
    {
     "name": "stderr",
     "output_type": "stream",
     "text": [
      "\r",
      " 79%|██████████████████████████████▋        | 394/500 [2:26:03<41:33, 23.52s/it]"
     ]
    },
    {
     "name": "stdout",
     "output_type": "stream",
     "text": [
      "Found 2 games\n",
      "Found 1178 sets\n",
      "Found 17 games\n",
      "Found 1179 sets\n",
      "Found 0 games\n",
      "Found 1180 sets\n"
     ]
    },
    {
     "name": "stderr",
     "output_type": "stream",
     "text": [
      "\r",
      " 79%|██████████████████████████████▊        | 395/500 [2:26:27<41:29, 23.71s/it]"
     ]
    },
    {
     "name": "stdout",
     "output_type": "stream",
     "text": [
      "Found 0 games\n",
      "Found 1181 sets\n",
      "Found 18 games\n",
      "Found 1182 sets\n",
      "Found 0 games\n",
      "Found 1183 sets\n"
     ]
    },
    {
     "name": "stderr",
     "output_type": "stream",
     "text": [
      "\r",
      " 79%|██████████████████████████████▉        | 396/500 [2:27:01<46:17, 26.70s/it]"
     ]
    },
    {
     "name": "stdout",
     "output_type": "stream",
     "text": [
      "Found 0 games\n",
      "Found 1184 sets\n",
      "Found 17 games\n",
      "Found 1185 sets\n",
      "Found 1 games\n",
      "Found 1186 sets\n"
     ]
    },
    {
     "name": "stderr",
     "output_type": "stream",
     "text": [
      "\r",
      " 79%|██████████████████████████████▉        | 397/500 [2:27:36<50:13, 29.25s/it]"
     ]
    },
    {
     "name": "stdout",
     "output_type": "stream",
     "text": [
      "Found 1 games\n",
      "Found 1187 sets\n",
      "Found 15 games\n",
      "Found 1188 sets\n",
      "Found 1 games\n",
      "Found 1189 sets\n"
     ]
    },
    {
     "name": "stderr",
     "output_type": "stream",
     "text": [
      "\r",
      " 80%|███████████████████████████████        | 398/500 [2:28:00<47:13, 27.78s/it]"
     ]
    },
    {
     "name": "stdout",
     "output_type": "stream",
     "text": [
      "Found 0 games\n",
      "Found 1190 sets\n",
      "Found 17 games\n",
      "Found 1191 sets\n",
      "Found 3 games\n",
      "Found 1192 sets\n"
     ]
    },
    {
     "name": "stderr",
     "output_type": "stream",
     "text": [
      "\r",
      " 80%|███████████████████████████████        | 399/500 [2:28:25<45:08, 26.82s/it]"
     ]
    },
    {
     "name": "stdout",
     "output_type": "stream",
     "text": [
      "Found 1 games\n",
      "Found 1193 sets\n",
      "Found 17 games\n",
      "Found 1194 sets\n",
      "Found 2 games\n",
      "Found 1195 sets\n"
     ]
    },
    {
     "name": "stderr",
     "output_type": "stream",
     "text": [
      "\r",
      " 80%|███████████████████████████████▏       | 400/500 [2:28:47<42:21, 25.41s/it]"
     ]
    },
    {
     "name": "stdout",
     "output_type": "stream",
     "text": [
      "Found 0 games\n",
      "Found 1196 sets\n",
      "Found 15 games\n",
      "Found 1197 sets\n",
      "Found 1 games\n",
      "Found 1198 sets\n"
     ]
    },
    {
     "name": "stderr",
     "output_type": "stream",
     "text": [
      "\r",
      " 80%|███████████████████████████████▎       | 401/500 [2:29:05<38:22, 23.26s/it]"
     ]
    },
    {
     "name": "stdout",
     "output_type": "stream",
     "text": [
      "Found 1 games\n",
      "Found 1199 sets\n",
      "Found 16 games\n",
      "Found 1200 sets\n",
      "Found 1 games\n",
      "Found 1201 sets\n"
     ]
    },
    {
     "name": "stderr",
     "output_type": "stream",
     "text": [
      "\r",
      " 80%|███████████████████████████████▎       | 402/500 [2:29:31<39:12, 24.01s/it]"
     ]
    },
    {
     "name": "stdout",
     "output_type": "stream",
     "text": [
      "Found 0 games\n",
      "Found 1202 sets\n",
      "Found 18 games\n",
      "Found 1203 sets\n",
      "Found 4 games\n",
      "Found 1204 sets\n"
     ]
    },
    {
     "name": "stderr",
     "output_type": "stream",
     "text": [
      "\r",
      " 81%|███████████████████████████████▍       | 403/500 [2:29:54<38:04, 23.55s/it]"
     ]
    },
    {
     "name": "stdout",
     "output_type": "stream",
     "text": [
      "Found 4 games\n",
      "Found 1205 sets\n",
      "Found 15 games\n",
      "Found 1206 sets\n",
      "Found 2 games\n",
      "Found 1207 sets\n"
     ]
    },
    {
     "name": "stderr",
     "output_type": "stream",
     "text": [
      "\r",
      " 81%|███████████████████████████████▌       | 404/500 [2:30:14<36:09, 22.60s/it]"
     ]
    },
    {
     "name": "stdout",
     "output_type": "stream",
     "text": [
      "Found 1 games\n",
      "Found 1208 sets\n",
      "Found 14 games\n",
      "Found 1209 sets\n",
      "Found 3 games\n",
      "Found 1210 sets\n"
     ]
    },
    {
     "name": "stderr",
     "output_type": "stream",
     "text": [
      "\r",
      " 81%|███████████████████████████████▌       | 405/500 [2:30:43<38:57, 24.61s/it]"
     ]
    },
    {
     "name": "stdout",
     "output_type": "stream",
     "text": [
      "Found 3 games\n",
      "Found 1211 sets\n",
      "Found 17 games\n",
      "Found 1212 sets\n",
      "Found 1 games\n",
      "Found 1213 sets\n"
     ]
    },
    {
     "name": "stderr",
     "output_type": "stream",
     "text": [
      "\r",
      " 81%|███████████████████████████████▋       | 406/500 [2:31:12<40:36, 25.92s/it]"
     ]
    },
    {
     "name": "stdout",
     "output_type": "stream",
     "text": [
      "Found 1 games\n",
      "Found 1214 sets\n",
      "Found 16 games\n",
      "Found 1215 sets\n",
      "Found 9 games\n",
      "Found 1216 sets\n"
     ]
    },
    {
     "name": "stderr",
     "output_type": "stream",
     "text": [
      "\r",
      " 81%|███████████████████████████████▋       | 407/500 [2:31:36<39:17, 25.35s/it]"
     ]
    },
    {
     "name": "stdout",
     "output_type": "stream",
     "text": [
      "Found 6 games\n",
      "Found 1217 sets\n",
      "Found 16 games\n",
      "Found 1218 sets\n",
      "Found 1 games\n",
      "Found 1219 sets\n"
     ]
    },
    {
     "name": "stderr",
     "output_type": "stream",
     "text": [
      "\r",
      " 82%|███████████████████████████████▊       | 408/500 [2:31:59<37:40, 24.57s/it]"
     ]
    },
    {
     "name": "stdout",
     "output_type": "stream",
     "text": [
      "Found 1 games\n",
      "Found 1220 sets\n",
      "Found 17 games\n",
      "Found 1221 sets\n",
      "Found 3 games\n",
      "Found 1222 sets\n"
     ]
    },
    {
     "name": "stderr",
     "output_type": "stream",
     "text": [
      "\r",
      " 82%|███████████████████████████████▉       | 409/500 [2:32:26<38:24, 25.33s/it]"
     ]
    },
    {
     "name": "stdout",
     "output_type": "stream",
     "text": [
      "Found 3 games\n",
      "Found 1223 sets\n",
      "Found 19 games\n",
      "Found 1224 sets\n",
      "Found 4 games\n",
      "Found 1225 sets\n"
     ]
    },
    {
     "name": "stderr",
     "output_type": "stream",
     "text": [
      "\r",
      " 82%|███████████████████████████████▉       | 410/500 [2:32:52<38:12, 25.47s/it]"
     ]
    },
    {
     "name": "stdout",
     "output_type": "stream",
     "text": [
      "Found 3 games\n",
      "Found 1226 sets\n",
      "Found 16 games\n",
      "Found 1227 sets\n",
      "Found 3 games\n",
      "Found 1228 sets\n"
     ]
    },
    {
     "name": "stderr",
     "output_type": "stream",
     "text": [
      "\r",
      " 82%|████████████████████████████████       | 411/500 [2:33:32<44:19, 29.88s/it]"
     ]
    },
    {
     "name": "stdout",
     "output_type": "stream",
     "text": [
      "Found 3 games\n",
      "Found 1229 sets\n",
      "Found 13 games\n",
      "Found 1230 sets\n",
      "Found 3 games\n",
      "Found 1231 sets\n"
     ]
    },
    {
     "name": "stderr",
     "output_type": "stream",
     "text": [
      "\r",
      " 82%|████████████████████████████████▏      | 412/500 [2:33:52<39:11, 26.72s/it]"
     ]
    },
    {
     "name": "stdout",
     "output_type": "stream",
     "text": [
      "Found 2 games\n",
      "Found 1232 sets\n",
      "Found 15 games\n",
      "Found 1233 sets\n",
      "Found 3 games\n",
      "Found 1234 sets\n"
     ]
    },
    {
     "name": "stderr",
     "output_type": "stream",
     "text": [
      "\r",
      " 83%|████████████████████████████████▏      | 413/500 [2:34:13<36:21, 25.08s/it]"
     ]
    },
    {
     "name": "stdout",
     "output_type": "stream",
     "text": [
      "Found 1 games\n",
      "Found 1235 sets\n",
      "Found 16 games\n",
      "Found 1236 sets\n",
      "Found 2 games\n",
      "Found 1237 sets\n"
     ]
    },
    {
     "name": "stderr",
     "output_type": "stream",
     "text": [
      "\r",
      " 83%|████████████████████████████████▎      | 414/500 [2:34:35<34:43, 24.23s/it]"
     ]
    },
    {
     "name": "stdout",
     "output_type": "stream",
     "text": [
      "Found 2 games\n",
      "Found 1238 sets\n",
      "Found 17 games\n",
      "Found 1239 sets\n",
      "Found 1 games\n",
      "Found 1240 sets\n"
     ]
    },
    {
     "name": "stderr",
     "output_type": "stream",
     "text": [
      "\r",
      " 83%|████████████████████████████████▎      | 415/500 [2:34:54<32:01, 22.61s/it]"
     ]
    },
    {
     "name": "stdout",
     "output_type": "stream",
     "text": [
      "Found 0 games\n",
      "Found 1241 sets\n",
      "Found 18 games\n",
      "Found 1242 sets\n",
      "Found 2 games\n",
      "Found 1243 sets\n"
     ]
    },
    {
     "name": "stderr",
     "output_type": "stream",
     "text": [
      "\r",
      " 83%|████████████████████████████████▍      | 416/500 [2:35:18<32:13, 23.01s/it]"
     ]
    },
    {
     "name": "stdout",
     "output_type": "stream",
     "text": [
      "Found 0 games\n",
      "Found 1244 sets\n",
      "Found 19 games\n",
      "Found 1245 sets\n",
      "Found 7 games\n",
      "Found 1246 sets\n"
     ]
    },
    {
     "name": "stderr",
     "output_type": "stream",
     "text": [
      "\r",
      " 83%|████████████████████████████████▌      | 417/500 [2:35:39<31:17, 22.62s/it]"
     ]
    },
    {
     "name": "stdout",
     "output_type": "stream",
     "text": [
      "Found 0 games\n",
      "Found 1247 sets\n",
      "Found 17 games\n",
      "Found 1248 sets\n",
      "Found 1 games\n",
      "Found 1249 sets\n"
     ]
    },
    {
     "name": "stderr",
     "output_type": "stream",
     "text": [
      "\r",
      " 84%|████████████████████████████████▌      | 418/500 [2:36:00<30:10, 22.08s/it]"
     ]
    },
    {
     "name": "stdout",
     "output_type": "stream",
     "text": [
      "Found 0 games\n",
      "Found 1250 sets\n",
      "Found 18 games\n",
      "Found 1251 sets\n",
      "Found 0 games\n",
      "Found 1252 sets\n"
     ]
    },
    {
     "name": "stderr",
     "output_type": "stream",
     "text": [
      "\r",
      " 84%|████████████████████████████████▋      | 419/500 [2:36:20<28:39, 21.22s/it]"
     ]
    },
    {
     "name": "stdout",
     "output_type": "stream",
     "text": [
      "Found 0 games\n",
      "Found 1253 sets\n",
      "Found 16 games\n",
      "Found 1254 sets\n",
      "Found 1 games\n",
      "Found 1255 sets\n"
     ]
    },
    {
     "name": "stderr",
     "output_type": "stream",
     "text": [
      "\r",
      " 84%|████████████████████████████████▊      | 420/500 [2:36:43<29:05, 21.82s/it]"
     ]
    },
    {
     "name": "stdout",
     "output_type": "stream",
     "text": [
      "Found 1 games\n",
      "Found 1256 sets\n",
      "Found 17 games\n",
      "Found 1257 sets\n",
      "Found 0 games\n",
      "Found 1258 sets\n"
     ]
    },
    {
     "name": "stderr",
     "output_type": "stream",
     "text": [
      "\r",
      " 84%|████████████████████████████████▊      | 421/500 [2:37:02<27:47, 21.11s/it]"
     ]
    },
    {
     "name": "stdout",
     "output_type": "stream",
     "text": [
      "Found 0 games\n",
      "Found 1259 sets\n",
      "Found 17 games\n",
      "Found 1260 sets\n",
      "Found 0 games\n",
      "Found 1261 sets\n"
     ]
    },
    {
     "name": "stderr",
     "output_type": "stream",
     "text": [
      "\r",
      " 84%|████████████████████████████████▉      | 422/500 [2:37:21<26:21, 20.28s/it]"
     ]
    },
    {
     "name": "stdout",
     "output_type": "stream",
     "text": [
      "Found 0 games\n",
      "Found 1262 sets\n",
      "Found 16 games\n",
      "Found 1263 sets\n",
      "Found 1 games\n",
      "Found 1264 sets\n"
     ]
    },
    {
     "name": "stderr",
     "output_type": "stream",
     "text": [
      "\r",
      " 85%|████████████████████████████████▉      | 423/500 [2:37:39<25:21, 19.75s/it]"
     ]
    },
    {
     "name": "stdout",
     "output_type": "stream",
     "text": [
      "Found 1 games\n",
      "Found 1265 sets\n",
      "Found 17 games\n",
      "Found 1266 sets\n",
      "Found 0 games\n",
      "Found 1267 sets\n"
     ]
    },
    {
     "name": "stderr",
     "output_type": "stream",
     "text": [
      "\r",
      " 85%|█████████████████████████████████      | 424/500 [2:38:02<26:19, 20.78s/it]"
     ]
    },
    {
     "name": "stdout",
     "output_type": "stream",
     "text": [
      "Found 0 games\n",
      "Found 1268 sets\n",
      "Found 18 games\n",
      "Found 1269 sets\n",
      "Found 5 games\n",
      "Found 1270 sets\n"
     ]
    },
    {
     "name": "stderr",
     "output_type": "stream",
     "text": [
      "\r",
      " 85%|█████████████████████████████████▏     | 425/500 [2:38:27<27:27, 21.96s/it]"
     ]
    },
    {
     "name": "stdout",
     "output_type": "stream",
     "text": [
      "Found 2 games\n",
      "Found 1271 sets\n",
      "Found 19 games\n",
      "Found 1272 sets\n",
      "Found 3 games\n",
      "Found 1273 sets\n"
     ]
    },
    {
     "name": "stderr",
     "output_type": "stream",
     "text": [
      "\r",
      " 85%|█████████████████████████████████▏     | 426/500 [2:38:50<27:18, 22.15s/it]"
     ]
    },
    {
     "name": "stdout",
     "output_type": "stream",
     "text": [
      "Found 0 games\n",
      "Found 1274 sets\n",
      "Found 18 games\n",
      "Found 1275 sets\n",
      "Found 2 games\n",
      "Found 1276 sets\n"
     ]
    },
    {
     "name": "stderr",
     "output_type": "stream",
     "text": [
      "\r",
      " 85%|█████████████████████████████████▎     | 427/500 [2:39:11<26:34, 21.84s/it]"
     ]
    },
    {
     "name": "stdout",
     "output_type": "stream",
     "text": [
      "Found 1 games\n",
      "Found 1277 sets\n",
      "Found 17 games\n",
      "Found 1278 sets\n",
      "Found 1 games\n",
      "Found 1279 sets\n"
     ]
    },
    {
     "name": "stderr",
     "output_type": "stream",
     "text": [
      "\r",
      " 86%|█████████████████████████████████▍     | 428/500 [2:39:29<24:52, 20.72s/it]"
     ]
    },
    {
     "name": "stdout",
     "output_type": "stream",
     "text": [
      "Found 1 games\n",
      "Found 1280 sets\n",
      "Found 15 games\n",
      "Found 1281 sets\n",
      "Found 1 games\n",
      "Found 1282 sets\n"
     ]
    },
    {
     "name": "stderr",
     "output_type": "stream",
     "text": [
      "\r",
      " 86%|█████████████████████████████████▍     | 429/500 [2:39:51<25:07, 21.23s/it]"
     ]
    },
    {
     "name": "stdout",
     "output_type": "stream",
     "text": [
      "Found 1 games\n",
      "Found 1283 sets\n",
      "Found 13 games\n",
      "Found 1284 sets\n",
      "Found 1 games\n",
      "Found 1285 sets\n"
     ]
    },
    {
     "name": "stderr",
     "output_type": "stream",
     "text": [
      "\r",
      " 86%|█████████████████████████████████▌     | 430/500 [2:40:09<23:32, 20.18s/it]"
     ]
    },
    {
     "name": "stdout",
     "output_type": "stream",
     "text": [
      "Found 1 games\n",
      "Found 1286 sets\n",
      "Found 18 games\n",
      "Found 1287 sets\n",
      "Found 9 games\n",
      "Found 1288 sets\n"
     ]
    },
    {
     "name": "stderr",
     "output_type": "stream",
     "text": [
      "\r",
      " 86%|█████████████████████████████████▌     | 431/500 [2:40:32<24:17, 21.13s/it]"
     ]
    },
    {
     "name": "stdout",
     "output_type": "stream",
     "text": [
      "Found 0 games\n",
      "Found 1289 sets\n",
      "Found 18 games\n",
      "Found 1290 sets\n",
      "Found 2 games\n",
      "Found 1291 sets\n"
     ]
    },
    {
     "name": "stderr",
     "output_type": "stream",
     "text": [
      "\r",
      " 86%|█████████████████████████████████▋     | 432/500 [2:40:53<23:41, 20.90s/it]"
     ]
    },
    {
     "name": "stdout",
     "output_type": "stream",
     "text": [
      "Found 0 games\n",
      "Found 1292 sets\n",
      "Found 16 games\n",
      "Found 1293 sets\n",
      "Found 0 games\n",
      "Found 1294 sets\n"
     ]
    },
    {
     "name": "stderr",
     "output_type": "stream",
     "text": [
      "\r",
      " 87%|█████████████████████████████████▊     | 433/500 [2:41:11<22:24, 20.07s/it]"
     ]
    },
    {
     "name": "stdout",
     "output_type": "stream",
     "text": [
      "Found 0 games\n",
      "Found 1295 sets\n",
      "Found 17 games\n",
      "Found 1296 sets\n",
      "Found 3 games\n",
      "Found 1297 sets\n"
     ]
    },
    {
     "name": "stderr",
     "output_type": "stream",
     "text": [
      "\r",
      " 87%|█████████████████████████████████▊     | 434/500 [2:41:31<21:59, 19.99s/it]"
     ]
    },
    {
     "name": "stdout",
     "output_type": "stream",
     "text": [
      "Found 3 games\n",
      "Found 1298 sets\n",
      "Found 14 games\n",
      "Found 1299 sets\n",
      "Found 1 games\n",
      "Found 1300 sets\n"
     ]
    },
    {
     "name": "stderr",
     "output_type": "stream",
     "text": [
      "\r",
      " 87%|█████████████████████████████████▉     | 435/500 [2:41:51<21:47, 20.12s/it]"
     ]
    },
    {
     "name": "stdout",
     "output_type": "stream",
     "text": [
      "Found 1 games\n",
      "Found 1301 sets\n",
      "Found 18 games\n",
      "Found 1302 sets\n",
      "Found 2 games\n",
      "Found 1303 sets\n"
     ]
    },
    {
     "name": "stderr",
     "output_type": "stream",
     "text": [
      "\r",
      " 87%|██████████████████████████████████     | 436/500 [2:42:12<21:36, 20.25s/it]"
     ]
    },
    {
     "name": "stdout",
     "output_type": "stream",
     "text": [
      "Found 0 games\n",
      "Found 1304 sets\n",
      "Found 17 games\n",
      "Found 1305 sets\n",
      "Found 2 games\n",
      "Found 1306 sets\n"
     ]
    },
    {
     "name": "stderr",
     "output_type": "stream",
     "text": [
      "\r",
      " 87%|██████████████████████████████████     | 437/500 [2:42:36<22:38, 21.56s/it]"
     ]
    },
    {
     "name": "stdout",
     "output_type": "stream",
     "text": [
      "Found 1 games\n",
      "Found 1307 sets\n",
      "Found 19 games\n",
      "Found 1308 sets\n",
      "Found 1 games\n",
      "Found 1309 sets\n"
     ]
    },
    {
     "name": "stderr",
     "output_type": "stream",
     "text": [
      "\r",
      " 88%|██████████████████████████████████▏    | 438/500 [2:42:56<21:52, 21.17s/it]"
     ]
    },
    {
     "name": "stdout",
     "output_type": "stream",
     "text": [
      "Found 0 games\n",
      "Found 1310 sets\n",
      "Found 12 games\n",
      "Found 1311 sets\n",
      "Found 0 games\n",
      "Found 1312 sets\n"
     ]
    },
    {
     "name": "stderr",
     "output_type": "stream",
     "text": [
      "\r",
      " 88%|██████████████████████████████████▏    | 439/500 [2:43:16<21:09, 20.81s/it]"
     ]
    },
    {
     "name": "stdout",
     "output_type": "stream",
     "text": [
      "Found 0 games\n",
      "Found 1313 sets\n",
      "Found 15 games\n",
      "Found 1314 sets\n",
      "Found 3 games\n",
      "Found 1315 sets\n"
     ]
    },
    {
     "name": "stderr",
     "output_type": "stream",
     "text": [
      "\r",
      " 88%|██████████████████████████████████▎    | 440/500 [2:43:35<20:04, 20.07s/it]"
     ]
    },
    {
     "name": "stdout",
     "output_type": "stream",
     "text": [
      "Found 1 games\n",
      "Found 1316 sets\n",
      "Found 16 games\n",
      "Found 1317 sets\n",
      "Found 4 games\n",
      "Found 1318 sets\n"
     ]
    },
    {
     "name": "stderr",
     "output_type": "stream",
     "text": [
      "\r",
      " 88%|██████████████████████████████████▍    | 441/500 [2:43:52<18:49, 19.15s/it]"
     ]
    },
    {
     "name": "stdout",
     "output_type": "stream",
     "text": [
      "Found 1 games\n",
      "Found 1319 sets\n",
      "Found 12 games\n",
      "Found 1320 sets\n",
      "Found 2 games\n",
      "Found 1321 sets\n"
     ]
    },
    {
     "name": "stderr",
     "output_type": "stream",
     "text": [
      "\r",
      " 88%|██████████████████████████████████▍    | 442/500 [2:44:10<18:18, 18.93s/it]"
     ]
    },
    {
     "name": "stdout",
     "output_type": "stream",
     "text": [
      "Found 0 games\n",
      "Found 1322 sets\n",
      "Found 14 games\n",
      "Found 1323 sets\n",
      "Found 1 games\n",
      "Found 1324 sets\n"
     ]
    },
    {
     "name": "stderr",
     "output_type": "stream",
     "text": [
      "\r",
      " 89%|██████████████████████████████████▌    | 443/500 [2:44:32<18:44, 19.73s/it]"
     ]
    },
    {
     "name": "stdout",
     "output_type": "stream",
     "text": [
      "Found 1 games\n",
      "Found 1325 sets\n",
      "Found 14 games\n",
      "Found 1326 sets\n",
      "Found 0 games\n",
      "Found 1327 sets\n"
     ]
    },
    {
     "name": "stderr",
     "output_type": "stream",
     "text": [
      "\r",
      " 89%|██████████████████████████████████▋    | 444/500 [2:44:49<17:42, 18.97s/it]"
     ]
    },
    {
     "name": "stdout",
     "output_type": "stream",
     "text": [
      "Found 0 games\n",
      "Found 1328 sets\n",
      "Found 11 games\n",
      "Found 1329 sets\n",
      "Found 1 games\n",
      "Found 1330 sets\n"
     ]
    },
    {
     "name": "stderr",
     "output_type": "stream",
     "text": [
      "\r",
      " 89%|██████████████████████████████████▋    | 445/500 [2:45:05<16:32, 18.04s/it]"
     ]
    },
    {
     "name": "stdout",
     "output_type": "stream",
     "text": [
      "Found 0 games\n",
      "Found 1331 sets\n",
      "Found 14 games\n",
      "Found 1332 sets\n",
      "Found 0 games\n",
      "Found 1333 sets\n"
     ]
    },
    {
     "name": "stderr",
     "output_type": "stream",
     "text": [
      "\r",
      " 89%|██████████████████████████████████▊    | 446/500 [2:45:26<17:10, 19.08s/it]"
     ]
    },
    {
     "name": "stdout",
     "output_type": "stream",
     "text": [
      "Found 0 games\n",
      "Found 1334 sets\n",
      "Found 19 games\n",
      "Found 1335 sets\n",
      "Found 2 games\n",
      "Found 1336 sets\n"
     ]
    },
    {
     "name": "stderr",
     "output_type": "stream",
     "text": [
      "\r",
      " 89%|██████████████████████████████████▊    | 447/500 [2:45:50<18:04, 20.46s/it]"
     ]
    },
    {
     "name": "stdout",
     "output_type": "stream",
     "text": [
      "Found 2 games\n",
      "Found 1337 sets\n",
      "Found 12 games\n",
      "Found 1338 sets\n",
      "Found 4 games\n",
      "Found 1339 sets\n"
     ]
    },
    {
     "name": "stderr",
     "output_type": "stream",
     "text": [
      "\r",
      " 90%|██████████████████████████████████▉    | 448/500 [2:46:10<17:29, 20.19s/it]"
     ]
    },
    {
     "name": "stdout",
     "output_type": "stream",
     "text": [
      "Found 1 games\n",
      "Found 1340 sets\n",
      "Found 17 games\n",
      "Found 1341 sets\n",
      "Found 2 games\n",
      "Found 1342 sets\n"
     ]
    },
    {
     "name": "stderr",
     "output_type": "stream",
     "text": [
      "\r",
      " 90%|███████████████████████████████████    | 449/500 [2:46:33<17:59, 21.17s/it]"
     ]
    },
    {
     "name": "stdout",
     "output_type": "stream",
     "text": [
      "Found 1 games\n",
      "Found 1343 sets\n",
      "Found 14 games\n",
      "Found 1344 sets\n",
      "Found 3 games\n",
      "Found 1345 sets\n"
     ]
    },
    {
     "name": "stderr",
     "output_type": "stream",
     "text": [
      "\r",
      " 90%|███████████████████████████████████    | 450/500 [2:46:57<18:21, 22.03s/it]"
     ]
    },
    {
     "name": "stdout",
     "output_type": "stream",
     "text": [
      "Found 1 games\n",
      "Found 1346 sets\n",
      "Found 18 games\n",
      "Found 1347 sets\n",
      "Found 1 games\n",
      "Found 1348 sets\n"
     ]
    },
    {
     "name": "stderr",
     "output_type": "stream",
     "text": [
      "\r",
      " 90%|███████████████████████████████████▏   | 451/500 [2:47:21<18:30, 22.67s/it]"
     ]
    },
    {
     "name": "stdout",
     "output_type": "stream",
     "text": [
      "Found 1 games\n",
      "Found 1349 sets\n",
      "Found 12 games\n",
      "Found 1350 sets\n",
      "Found 3 games\n",
      "Found 1351 sets\n"
     ]
    },
    {
     "name": "stderr",
     "output_type": "stream",
     "text": [
      "\r",
      " 90%|███████████████████████████████████▎   | 452/500 [2:47:39<16:57, 21.19s/it]"
     ]
    },
    {
     "name": "stdout",
     "output_type": "stream",
     "text": [
      "Found 3 games\n",
      "Found 1352 sets\n",
      "Found 13 games\n",
      "Found 1353 sets\n",
      "Found 1 games\n",
      "Found 1354 sets\n"
     ]
    },
    {
     "name": "stderr",
     "output_type": "stream",
     "text": [
      "\r",
      " 91%|███████████████████████████████████▎   | 453/500 [2:48:03<17:11, 21.95s/it]"
     ]
    },
    {
     "name": "stdout",
     "output_type": "stream",
     "text": [
      "Found 0 games\n",
      "Found 1355 sets\n",
      "Found 11 games\n",
      "Found 1356 sets\n",
      "Found 0 games\n",
      "Found 1357 sets\n"
     ]
    },
    {
     "name": "stderr",
     "output_type": "stream",
     "text": [
      "\r",
      " 91%|███████████████████████████████████▍   | 454/500 [2:48:21<15:56, 20.80s/it]"
     ]
    },
    {
     "name": "stdout",
     "output_type": "stream",
     "text": [
      "Found 0 games\n",
      "Found 1358 sets\n",
      "Found 17 games\n",
      "Found 1359 sets\n",
      "Found 0 games\n",
      "Found 1360 sets\n"
     ]
    },
    {
     "name": "stderr",
     "output_type": "stream",
     "text": [
      "\r",
      " 91%|███████████████████████████████████▍   | 455/500 [2:48:41<15:27, 20.61s/it]"
     ]
    },
    {
     "name": "stdout",
     "output_type": "stream",
     "text": [
      "Found 0 games\n",
      "Found 1361 sets\n",
      "Found 16 games\n",
      "Found 1362 sets\n",
      "Found 1 games\n",
      "Found 1363 sets\n"
     ]
    },
    {
     "name": "stderr",
     "output_type": "stream",
     "text": [
      "\r",
      " 91%|███████████████████████████████████▌   | 456/500 [2:49:03<15:31, 21.18s/it]"
     ]
    },
    {
     "name": "stdout",
     "output_type": "stream",
     "text": [
      "Found 0 games\n",
      "Found 1364 sets\n",
      "Found 16 games\n",
      "Found 1365 sets\n",
      "Found 1 games\n",
      "Found 1366 sets\n"
     ]
    },
    {
     "name": "stderr",
     "output_type": "stream",
     "text": [
      "\r",
      " 91%|███████████████████████████████████▋   | 457/500 [2:49:24<14:59, 20.92s/it]"
     ]
    },
    {
     "name": "stdout",
     "output_type": "stream",
     "text": [
      "Found 1 games\n",
      "Found 1367 sets\n",
      "Found 16 games\n",
      "Found 1368 sets\n",
      "Found 2 games\n",
      "Found 1369 sets\n"
     ]
    },
    {
     "name": "stderr",
     "output_type": "stream",
     "text": [
      "\r",
      " 92%|███████████████████████████████████▋   | 458/500 [2:49:42<14:04, 20.10s/it]"
     ]
    },
    {
     "name": "stdout",
     "output_type": "stream",
     "text": [
      "Found 0 games\n",
      "Found 1370 sets\n",
      "Found 13 games\n",
      "Found 1371 sets\n",
      "Found 0 games\n",
      "Found 1372 sets\n"
     ]
    },
    {
     "name": "stderr",
     "output_type": "stream",
     "text": [
      "\r",
      " 92%|███████████████████████████████████▊   | 459/500 [2:50:04<14:02, 20.54s/it]"
     ]
    },
    {
     "name": "stdout",
     "output_type": "stream",
     "text": [
      "Found 0 games\n",
      "Found 1373 sets\n",
      "Found 15 games\n",
      "Found 1374 sets\n",
      "Found 0 games\n",
      "Found 1375 sets\n"
     ]
    },
    {
     "name": "stderr",
     "output_type": "stream",
     "text": [
      "\r",
      " 92%|███████████████████████████████████▉   | 460/500 [2:50:22<13:13, 19.85s/it]"
     ]
    },
    {
     "name": "stdout",
     "output_type": "stream",
     "text": [
      "Found 0 games\n",
      "Found 1376 sets\n",
      "Found 16 games\n",
      "Found 1377 sets\n",
      "Found 8 games\n",
      "Found 1378 sets\n"
     ]
    },
    {
     "name": "stderr",
     "output_type": "stream",
     "text": [
      "\r",
      " 92%|███████████████████████████████████▉   | 461/500 [2:51:23<21:00, 32.32s/it]"
     ]
    },
    {
     "name": "stdout",
     "output_type": "stream",
     "text": [
      "Found 7 games\n",
      "Found 1379 sets\n",
      "Found 13 games\n",
      "Found 1380 sets\n",
      "Found 0 games\n",
      "Found 1381 sets\n"
     ]
    },
    {
     "name": "stderr",
     "output_type": "stream",
     "text": [
      "\r",
      " 92%|████████████████████████████████████   | 462/500 [2:51:45<18:23, 29.03s/it]"
     ]
    },
    {
     "name": "stdout",
     "output_type": "stream",
     "text": [
      "Found 0 games\n",
      "Found 1382 sets\n",
      "Found 11 games\n",
      "Found 1383 sets\n",
      "Found 0 games\n",
      "Found 1384 sets\n"
     ]
    },
    {
     "name": "stderr",
     "output_type": "stream",
     "text": [
      "\r",
      " 93%|████████████████████████████████████   | 463/500 [2:52:05<16:13, 26.31s/it]"
     ]
    },
    {
     "name": "stdout",
     "output_type": "stream",
     "text": [
      "Found 0 games\n",
      "Found 1385 sets\n",
      "Found 14 games\n",
      "Found 1386 sets\n",
      "Found 0 games\n",
      "Found 1387 sets\n"
     ]
    },
    {
     "name": "stderr",
     "output_type": "stream",
     "text": [
      "\r",
      " 93%|████████████████████████████████████▏  | 464/500 [2:52:30<15:35, 25.98s/it]"
     ]
    },
    {
     "name": "stdout",
     "output_type": "stream",
     "text": [
      "Found 0 games\n",
      "Found 1388 sets\n",
      "Found 15 games\n",
      "Found 1389 sets\n",
      "Found 1 games\n",
      "Found 1390 sets\n"
     ]
    },
    {
     "name": "stderr",
     "output_type": "stream",
     "text": [
      "\r",
      " 93%|████████████████████████████████████▎  | 465/500 [2:52:53<14:37, 25.07s/it]"
     ]
    },
    {
     "name": "stdout",
     "output_type": "stream",
     "text": [
      "Found 0 games\n",
      "Found 1391 sets\n",
      "Found 13 games\n",
      "Found 1392 sets\n",
      "Found 0 games\n",
      "Found 1393 sets\n"
     ]
    },
    {
     "name": "stderr",
     "output_type": "stream",
     "text": [
      "\r",
      " 93%|████████████████████████████████████▎  | 466/500 [2:53:11<13:02, 23.02s/it]"
     ]
    },
    {
     "name": "stdout",
     "output_type": "stream",
     "text": [
      "Found 0 games\n",
      "Found 1394 sets\n",
      "Found 9 games\n",
      "Found 1395 sets\n",
      "Found 0 games\n",
      "Found 1396 sets\n"
     ]
    },
    {
     "name": "stderr",
     "output_type": "stream",
     "text": [
      "\r",
      " 93%|████████████████████████████████████▍  | 467/500 [2:53:26<11:25, 20.78s/it]"
     ]
    },
    {
     "name": "stdout",
     "output_type": "stream",
     "text": [
      "Found 0 games\n",
      "Found 1397 sets\n",
      "Found 16 games\n",
      "Found 1398 sets\n",
      "Found 3 games\n",
      "Found 1399 sets\n"
     ]
    },
    {
     "name": "stderr",
     "output_type": "stream",
     "text": [
      "\r",
      " 94%|████████████████████████████████████▌  | 468/500 [2:53:47<11:05, 20.79s/it]"
     ]
    },
    {
     "name": "stdout",
     "output_type": "stream",
     "text": [
      "Found 2 games\n",
      "Found 1400 sets\n",
      "Found 14 games\n",
      "Found 1401 sets\n",
      "Found 1 games\n",
      "Found 1402 sets\n"
     ]
    },
    {
     "name": "stderr",
     "output_type": "stream",
     "text": [
      "\r",
      " 94%|████████████████████████████████████▌  | 469/500 [2:54:08<10:39, 20.63s/it]"
     ]
    },
    {
     "name": "stdout",
     "output_type": "stream",
     "text": [
      "Found 0 games\n",
      "Found 1403 sets\n",
      "Found 13 games\n",
      "Found 1404 sets\n",
      "Found 1 games\n",
      "Found 1405 sets\n"
     ]
    },
    {
     "name": "stderr",
     "output_type": "stream",
     "text": [
      "\r",
      " 94%|████████████████████████████████████▋  | 470/500 [2:54:26<10:01, 20.04s/it]"
     ]
    },
    {
     "name": "stdout",
     "output_type": "stream",
     "text": [
      "Found 0 games\n",
      "Found 1406 sets\n",
      "Found 17 games\n",
      "Found 1407 sets\n",
      "Found 1 games\n",
      "Found 1408 sets\n"
     ]
    },
    {
     "name": "stderr",
     "output_type": "stream",
     "text": [
      "\r",
      " 94%|████████████████████████████████████▋  | 471/500 [2:54:48<09:53, 20.48s/it]"
     ]
    },
    {
     "name": "stdout",
     "output_type": "stream",
     "text": [
      "Found 1 games\n",
      "Found 1409 sets\n",
      "Found 14 games\n",
      "Found 1410 sets\n",
      "Found 1 games\n",
      "Found 1411 sets\n"
     ]
    },
    {
     "name": "stderr",
     "output_type": "stream",
     "text": [
      "\r",
      " 94%|████████████████████████████████████▊  | 472/500 [2:55:07<09:22, 20.07s/it]"
     ]
    },
    {
     "name": "stdout",
     "output_type": "stream",
     "text": [
      "Found 0 games\n",
      "Found 1412 sets\n",
      "Found 13 games\n",
      "Found 1413 sets\n",
      "Found 2 games\n",
      "Found 1414 sets\n"
     ]
    },
    {
     "name": "stderr",
     "output_type": "stream",
     "text": [
      "\r",
      " 95%|████████████████████████████████████▉  | 473/500 [2:55:31<09:36, 21.34s/it]"
     ]
    },
    {
     "name": "stdout",
     "output_type": "stream",
     "text": [
      "Found 2 games\n",
      "Found 1415 sets\n",
      "Found 16 games\n",
      "Found 1416 sets\n",
      "Found 1 games\n",
      "Found 1417 sets\n"
     ]
    },
    {
     "name": "stderr",
     "output_type": "stream",
     "text": [
      "\r",
      " 95%|████████████████████████████████████▉  | 474/500 [2:55:54<09:27, 21.81s/it]"
     ]
    },
    {
     "name": "stdout",
     "output_type": "stream",
     "text": [
      "Found 0 games\n",
      "Found 1418 sets\n",
      "Found 13 games\n",
      "Found 1419 sets\n",
      "Found 1 games\n",
      "Found 1420 sets\n"
     ]
    },
    {
     "name": "stderr",
     "output_type": "stream",
     "text": [
      "\r",
      " 95%|█████████████████████████████████████  | 475/500 [2:56:18<09:24, 22.59s/it]"
     ]
    },
    {
     "name": "stdout",
     "output_type": "stream",
     "text": [
      "Found 0 games\n",
      "Found 1421 sets\n",
      "Found 15 games\n",
      "Found 1422 sets\n",
      "Found 0 games\n",
      "Found 1423 sets\n"
     ]
    },
    {
     "name": "stderr",
     "output_type": "stream",
     "text": [
      "\r",
      " 95%|█████████████████████████████████████▏ | 476/500 [2:56:38<08:41, 21.75s/it]"
     ]
    },
    {
     "name": "stdout",
     "output_type": "stream",
     "text": [
      "Found 0 games\n",
      "Found 1424 sets\n",
      "Found 18 games\n",
      "Found 1425 sets\n",
      "Found 0 games\n",
      "Found 1426 sets\n"
     ]
    },
    {
     "name": "stderr",
     "output_type": "stream",
     "text": [
      "\r",
      " 95%|█████████████████████████████████████▏ | 477/500 [2:57:20<10:39, 27.82s/it]"
     ]
    },
    {
     "name": "stdout",
     "output_type": "stream",
     "text": [
      "Found 0 games\n",
      "Found 1427 sets\n",
      "Found 16 games\n",
      "Found 1428 sets\n",
      "Found 1 games\n",
      "Found 1429 sets\n"
     ]
    },
    {
     "name": "stderr",
     "output_type": "stream",
     "text": [
      "\r",
      " 96%|█████████████████████████████████████▎ | 478/500 [2:58:15<13:10, 35.94s/it]"
     ]
    },
    {
     "name": "stdout",
     "output_type": "stream",
     "text": [
      "Found 0 games\n",
      "Found 1430 sets\n",
      "Found 16 games\n",
      "Found 1431 sets\n",
      "Found 1 games\n",
      "Found 1432 sets\n"
     ]
    },
    {
     "name": "stderr",
     "output_type": "stream",
     "text": [
      "\r",
      " 96%|█████████████████████████████████████▎ | 479/500 [2:58:38<11:10, 31.95s/it]"
     ]
    },
    {
     "name": "stdout",
     "output_type": "stream",
     "text": [
      "Found 0 games\n",
      "Found 1433 sets\n",
      "Found 17 games\n",
      "Found 1434 sets\n",
      "Found 0 games\n",
      "Found 1435 sets\n"
     ]
    },
    {
     "name": "stderr",
     "output_type": "stream",
     "text": [
      "\r",
      " 96%|█████████████████████████████████████▍ | 480/500 [2:59:03<10:01, 30.09s/it]"
     ]
    },
    {
     "name": "stdout",
     "output_type": "stream",
     "text": [
      "Found 0 games\n",
      "Found 1436 sets\n",
      "Found 16 games\n",
      "Found 1437 sets\n",
      "Found 5 games\n",
      "Found 1438 sets\n"
     ]
    },
    {
     "name": "stderr",
     "output_type": "stream",
     "text": [
      "\r",
      " 96%|█████████████████████████████████████▌ | 481/500 [2:59:33<09:30, 30.03s/it]"
     ]
    },
    {
     "name": "stdout",
     "output_type": "stream",
     "text": [
      "Found 3 games\n",
      "Found 1439 sets\n",
      "Found 13 games\n",
      "Found 1440 sets\n",
      "Found 1 games\n",
      "Found 1441 sets\n"
     ]
    },
    {
     "name": "stderr",
     "output_type": "stream",
     "text": [
      "\r",
      " 96%|█████████████████████████████████████▌ | 482/500 [2:59:56<08:23, 27.95s/it]"
     ]
    },
    {
     "name": "stdout",
     "output_type": "stream",
     "text": [
      "Found 1 games\n",
      "Found 1442 sets\n",
      "Found 16 games\n",
      "Found 1443 sets\n",
      "Found 1 games\n",
      "Found 1444 sets\n"
     ]
    },
    {
     "name": "stderr",
     "output_type": "stream",
     "text": [
      "\r",
      " 97%|█████████████████████████████████████▋ | 483/500 [3:00:14<07:04, 24.96s/it]"
     ]
    },
    {
     "name": "stdout",
     "output_type": "stream",
     "text": [
      "Found 1 games\n",
      "Found 1445 sets\n",
      "Found 16 games\n",
      "Found 1446 sets\n",
      "Found 4 games\n",
      "Found 1447 sets\n"
     ]
    },
    {
     "name": "stderr",
     "output_type": "stream",
     "text": [
      "\r",
      " 97%|█████████████████████████████████████▊ | 484/500 [3:00:36<06:23, 23.98s/it]"
     ]
    },
    {
     "name": "stdout",
     "output_type": "stream",
     "text": [
      "Found 2 games\n",
      "Found 1448 sets\n",
      "Found 16 games\n",
      "Found 1449 sets\n",
      "Found 1 games\n",
      "Found 1450 sets\n"
     ]
    },
    {
     "name": "stderr",
     "output_type": "stream",
     "text": [
      "\r",
      " 97%|█████████████████████████████████████▊ | 485/500 [3:00:58<05:51, 23.43s/it]"
     ]
    },
    {
     "name": "stdout",
     "output_type": "stream",
     "text": [
      "Found 1 games\n",
      "Found 1451 sets\n",
      "Found 16 games\n",
      "Found 1452 sets\n",
      "Found 0 games\n",
      "Found 1453 sets\n"
     ]
    },
    {
     "name": "stderr",
     "output_type": "stream",
     "text": [
      "\r",
      " 97%|█████████████████████████████████████▉ | 486/500 [3:01:17<05:09, 22.13s/it]"
     ]
    },
    {
     "name": "stdout",
     "output_type": "stream",
     "text": [
      "Found 0 games\n",
      "Found 1454 sets\n",
      "Found 16 games\n",
      "Found 1455 sets\n",
      "Found 1 games\n",
      "Found 1456 sets\n"
     ]
    },
    {
     "name": "stderr",
     "output_type": "stream",
     "text": [
      "\r",
      " 97%|█████████████████████████████████████▉ | 487/500 [3:01:38<04:42, 21.74s/it]"
     ]
    },
    {
     "name": "stdout",
     "output_type": "stream",
     "text": [
      "Found 1 games\n",
      "Found 1457 sets\n",
      "Found 14 games\n",
      "Found 1458 sets\n",
      "Found 0 games\n",
      "Found 1459 sets\n"
     ]
    },
    {
     "name": "stderr",
     "output_type": "stream",
     "text": [
      "\r",
      " 98%|██████████████████████████████████████ | 488/500 [3:01:59<04:19, 21.60s/it]"
     ]
    },
    {
     "name": "stdout",
     "output_type": "stream",
     "text": [
      "Found 0 games\n",
      "Found 1460 sets\n",
      "Found 17 games\n",
      "Found 1461 sets\n",
      "Found 0 games\n",
      "Found 1462 sets\n"
     ]
    },
    {
     "name": "stderr",
     "output_type": "stream",
     "text": [
      "\r",
      " 98%|██████████████████████████████████████▏| 489/500 [3:02:24<04:05, 22.34s/it]"
     ]
    },
    {
     "name": "stdout",
     "output_type": "stream",
     "text": [
      "Found 0 games\n",
      "Found 1463 sets\n",
      "Found 15 games\n",
      "Found 1464 sets\n",
      "Found 2 games\n",
      "Found 1465 sets\n"
     ]
    },
    {
     "name": "stderr",
     "output_type": "stream",
     "text": [
      "\r",
      " 98%|██████████████████████████████████████▏| 490/500 [3:02:40<03:27, 20.71s/it]"
     ]
    },
    {
     "name": "stdout",
     "output_type": "stream",
     "text": [
      "Found 1 games\n",
      "Found 1466 sets\n",
      "Found 16 games\n",
      "Found 1467 sets\n",
      "Found 2 games\n",
      "Found 1468 sets\n"
     ]
    },
    {
     "name": "stderr",
     "output_type": "stream",
     "text": [
      "\r",
      " 98%|██████████████████████████████████████▎| 491/500 [3:03:01<03:04, 20.52s/it]"
     ]
    },
    {
     "name": "stdout",
     "output_type": "stream",
     "text": [
      "Found 0 games\n",
      "Found 1469 sets\n",
      "Found 15 games\n",
      "Found 1470 sets\n",
      "Found 4 games\n",
      "Found 1471 sets\n"
     ]
    },
    {
     "name": "stderr",
     "output_type": "stream",
     "text": [
      "\r",
      " 98%|██████████████████████████████████████▍| 492/500 [3:03:22<02:46, 20.85s/it]"
     ]
    },
    {
     "name": "stdout",
     "output_type": "stream",
     "text": [
      "Found 3 games\n",
      "Found 1472 sets\n",
      "Found 17 games\n",
      "Found 1473 sets\n",
      "Found 1 games\n",
      "Found 1474 sets\n"
     ]
    },
    {
     "name": "stderr",
     "output_type": "stream",
     "text": [
      "\r",
      " 99%|██████████████████████████████████████▍| 493/500 [3:03:42<02:22, 20.40s/it]"
     ]
    },
    {
     "name": "stdout",
     "output_type": "stream",
     "text": [
      "Found 1 games\n",
      "Found 1475 sets\n",
      "Found 18 games\n",
      "Found 1476 sets\n",
      "Found 0 games\n",
      "Found 1477 sets\n"
     ]
    },
    {
     "name": "stderr",
     "output_type": "stream",
     "text": [
      "\r",
      " 99%|██████████████████████████████████████▌| 494/500 [3:04:01<02:01, 20.24s/it]"
     ]
    },
    {
     "name": "stdout",
     "output_type": "stream",
     "text": [
      "Found 0 games\n",
      "Found 1478 sets\n",
      "Found 14 games\n",
      "Found 1479 sets\n",
      "Found 0 games\n",
      "Found 1480 sets\n"
     ]
    },
    {
     "name": "stderr",
     "output_type": "stream",
     "text": [
      "\r",
      " 99%|██████████████████████████████████████▌| 495/500 [3:04:21<01:40, 20.19s/it]"
     ]
    },
    {
     "name": "stdout",
     "output_type": "stream",
     "text": [
      "Found 0 games\n",
      "Found 1481 sets\n",
      "Found 18 games\n",
      "Found 1482 sets\n",
      "Found 1 games\n",
      "Found 1483 sets\n"
     ]
    },
    {
     "name": "stderr",
     "output_type": "stream",
     "text": [
      "\r",
      " 99%|██████████████████████████████████████▋| 496/500 [3:04:42<01:21, 20.41s/it]"
     ]
    },
    {
     "name": "stdout",
     "output_type": "stream",
     "text": [
      "Found 1 games\n",
      "Found 1484 sets\n",
      "Found 17 games\n",
      "Found 1485 sets\n",
      "Found 0 games\n",
      "Found 1486 sets\n"
     ]
    },
    {
     "name": "stderr",
     "output_type": "stream",
     "text": [
      "\r",
      " 99%|██████████████████████████████████████▊| 497/500 [3:05:00<00:58, 19.59s/it]"
     ]
    },
    {
     "name": "stdout",
     "output_type": "stream",
     "text": [
      "Found 0 games\n",
      "Found 1487 sets\n",
      "Found 14 games\n",
      "Found 1488 sets\n",
      "Found 0 games\n",
      "Found 1489 sets\n"
     ]
    },
    {
     "name": "stderr",
     "output_type": "stream",
     "text": [
      "\r",
      "100%|██████████████████████████████████████▊| 498/500 [3:05:21<00:40, 20.01s/it]"
     ]
    },
    {
     "name": "stdout",
     "output_type": "stream",
     "text": [
      "Found 0 games\n",
      "Found 1490 sets\n",
      "Found 14 games\n",
      "Found 1491 sets\n",
      "Found 3 games\n",
      "Found 1492 sets\n"
     ]
    },
    {
     "name": "stderr",
     "output_type": "stream",
     "text": [
      "\r",
      "100%|██████████████████████████████████████▉| 499/500 [3:05:42<00:20, 20.40s/it]"
     ]
    },
    {
     "name": "stdout",
     "output_type": "stream",
     "text": [
      "Found 0 games\n",
      "Found 1493 sets\n",
      "Found 16 games\n",
      "Found 1494 sets\n",
      "Found 0 games\n",
      "Found 1495 sets\n"
     ]
    },
    {
     "name": "stderr",
     "output_type": "stream",
     "text": [
      "100%|███████████████████████████████████████| 500/500 [3:06:03<00:00, 22.33s/it]"
     ]
    },
    {
     "name": "stdout",
     "output_type": "stream",
     "text": [
      "Found 0 games\n",
      "Found 1496 sets\n"
     ]
    },
    {
     "name": "stderr",
     "output_type": "stream",
     "text": [
      "\n"
     ]
    }
   ],
   "source": [
    "Set_Games=[]\n",
    "for idx in tqdm(range(0,500)):\n",
    "    min_idx= (idx*20)+1\n",
    "    max_idx= (idx+1)*20\n",
    "    \n",
    "    n_games = \"\" \n",
    "    for num in range(min_idx,max_idx):\n",
    "        n_games += (str(num)+ \",\")\n",
    "        \n",
    "        \n",
    "    for page in range(1,4): #Iterate over review pages\n",
    "        exception=0\n",
    "\n",
    "        while exception<=10:\n",
    "            try:\n",
    "                resp = requests.get(f\"https://www.boardgamegeek.com/xmlapi/boardgame/{n_games}?comments=1&page={page}&stats=1\")\n",
    "                with open('BGG.xml', 'wb') as f:\n",
    "                    f.write(resp.content)\n",
    "\n",
    "                tree = ET.parse('BGG.xml')\n",
    "                root = tree.getroot()\n",
    "                Games= (root.findall('.//boardgame'))\n",
    "\n",
    "                #Filters\n",
    "                Games = [Game for Game in Games if Game.find('comment')!=None]\n",
    "                Games = [Game for Game in Games if Game.find('yearpublished').text!=None]\n",
    "                Games = [Game for Game in Games if int(Game.find('yearpublished').text)>1960]\n",
    "\n",
    "                Set_Games.append(Games)\n",
    "\n",
    "\n",
    "                print(f'Found {len(Games)} games')\n",
    "                print(f'Found {len(Set_Games)} sets')\n",
    "\n",
    "                break\n",
    "\n",
    "            except Exception as e:\n",
    "                exception+=1\n",
    "                print(exception)\n",
    "                continue\n",
    "        else:\n",
    "            continue"
   ]
  },
  {
   "cell_type": "markdown",
   "id": "109f63c8",
   "metadata": {},
   "source": [
    "## Create a dictionary of games with statistics and comments"
   ]
  },
  {
   "cell_type": "code",
   "execution_count": 5,
   "id": "462e5b20",
   "metadata": {},
   "outputs": [
    {
     "name": "stderr",
     "output_type": "stream",
     "text": [
      "100%|███████████████████████████████████████| 1496/1496 [15:54<00:00,  1.57it/s]\n"
     ]
    }
   ],
   "source": [
    "BGG={}\n",
    "\n",
    "for Collection in tqdm(Set_Games):\n",
    "    \n",
    "    for i in range(len(Collection)):\n",
    "        \n",
    "        nome= [nome.text for nome in Collection[i] if \"primary\" in nome.attrib]\n",
    "        commenti= [commento for commento in Collection[i] if commento.tag =='comment']\n",
    "        categories= [categoria.text for categoria in Collection[i] if categoria.tag=='boardgamecategory']\n",
    "        mechanics= [mechanic.text for mechanic in Collection[i] if mechanic.tag=='boardgamemechanic']\n",
    "        avg_rate= Collection[i].find('statistics').find('ratings').find('average').text\n",
    "        complexity= Collection[i].find('statistics').find('ratings').find('averageweight').text\n",
    "        min_play = Collection[i].find('minplayers').text\n",
    "        max_play = Collection[i].find('maxplayers').text\n",
    "        min_len = Collection[i].find('minplaytime').text\n",
    "        max_len = Collection[i].find('maxplaytime').text\n",
    "        age = Collection[i].find('age').text\n",
    "        year = Collection[i].find('yearpublished').text\n",
    "        \n",
    "        if nome[0] not in BGG:\n",
    "            BGG[nome[0]]={'name':nome[0],'year_publ':int(year),'rating':float(avg_rate),'complexity':float(complexity),\n",
    "                          'categories':categories,'mechanics':mechanics,\n",
    "                          'min_players':float(min_play),'max_players':float(max_play),\n",
    "                          'min_lenght':float(max_len),'max_lenght':float(max_len),\n",
    "                          'age':float(age),\n",
    "                          'comments': None\n",
    "                         }\n",
    "        comments=[]\n",
    "        for user in commenti:\n",
    "            if user.text!= None:\n",
    "                text= user.text\n",
    "                try:\n",
    "                    if detect(text) =='en':\n",
    "                        comment = [user.text, user.get('rating')]\n",
    "                        comments.append(comment)\n",
    "                    else: continue\n",
    "                except:\n",
    "                    continue\n",
    "                    \n",
    "        if BGG[nome[0]]['comments']==None:\n",
    "            BGG[nome[0]]['comments']=comments\n",
    "        else:\n",
    "            for comment in comments:\n",
    "                BGG[nome[0]]['comments'].append(comment)\n",
    "            \n"
   ]
  },
  {
   "cell_type": "code",
   "execution_count": 6,
   "id": "347a6305",
   "metadata": {},
   "outputs": [],
   "source": [
    "# EXPORTING \n",
    "with open('Loading/BGG.json','w') as file:\n",
    "    json.dump(BGG,file)\n",
    "    "
   ]
  },
  {
   "cell_type": "code",
   "execution_count": 7,
   "id": "c02f2d5d",
   "metadata": {},
   "outputs": [],
   "source": [
    "# READING _ if we already have the file\n",
    "\n",
    "#with open('Loading/BGG.json','r') as file:\n",
    "    #BGG=json.load(file)"
   ]
  },
  {
   "cell_type": "code",
   "execution_count": 8,
   "id": "9dc1f276",
   "metadata": {},
   "outputs": [
    {
     "data": {
      "text/plain": [
       "{'name': 'Die Macher',\n",
       " 'year_publ': 1986,\n",
       " 'rating': 7.59346,\n",
       " 'complexity': 4.3105,\n",
       " 'categories': ['Economic', 'Negotiation', 'Political'],\n",
       " 'mechanics': ['Alliances',\n",
       "  'Area Majority / Influence',\n",
       "  'Auction/Bidding',\n",
       "  'Dice Rolling',\n",
       "  'Hand Management',\n",
       "  'Simultaneous Action Selection'],\n",
       " 'min_players': 3.0,\n",
       " 'max_players': 5.0,\n",
       " 'min_lenght': 240.0,\n",
       " 'max_lenght': 240.0,\n",
       " 'age': 14.0,\n",
       " 'comments': [[\"Die Macher is one of the very few long games that I'd like to play on any given opportunity, and I was hugely impressed by its design since my first play. It's long, but it's complex, not complicated: there are different rule systems mixed together to portray different aspects of your political campaign, but each of them is simple to understand and to manipulate during the game. \\nMastering the whole system takes time, of course, but you'll find yourself grasping its main dynamics much sooner than you'd expect, probably just after you've gone through the first round of play. So, don't let its fame scare you: our first game was with two non-gamers, and they both really enjoyed it. The system is streamlined and functional, the theme is well implemented and you can easily imagine your party going through all the vicissitudes of a political campaign. \\nGive it a try if you can :)\",\n",
       "   '9'],\n",
       "  [\"Very good deep strategy game but while I don't mind games of this length, they need have a little less repetitiveness for them to really shine. And the Valley Games implementation is really poor with their choice of card icons which are far too similar. (I also own the original 4p version)\",\n",
       "   '6'],\n",
       "  ['Die Macher as a game that is over 30 years old and still played is an example of another time in gaming. Today, the game lacks a certain pizzazz that newer heavy euros have (not just in theme, but mechanical implementation) and it\\'s more difficult to hold the attention of players. I can see where those who put in the effort to look past the points where modern gamers would say \"this really should be streamlined\" and study of the design will be rewarded.\\n\\nIn some ways, it\\'s a game that falls into the same category as Virgin Queen/HiS and the COIN series; long, hulking, beautiful monstrosities that require a full player count to shine. Bonus points if they are all experienced folks. People have to rearrange their lives and schedules to make these sorts of games happen. Die Macher is a wonderful convention game, provided people have agree on a rule set... Unfortunately, that boat seems to have sailed, and the 4th edition is also unlikely to resolve that. That\\'s not necessarily bad, just an annoyance.\\n\\nThis is an experience, one of those games that was revolutionary at it\\'s time, and I encourage people to give it a shot. I\\'d like to sit and tinker with it, to explore how the interlocking pieces and parts all fit together, but at what cost? Do I need a copy on hand? I doubt it, possibly just nearby. Every now and then I think about it, even if it took years to get it to the table, and I\\'m unsure when I\\'ll see it played again...\\n\\nedit: The more I fiddle with and talk about the game with others, the more I find that it\\'s just undercooked, and you have to cobble together an agreeable ruleset in order to get it to really sing. I don\\'t think that\\'s worth my time anymore.',\n",
       "   '5'],\n",
       "  [\"Awesome game.  I enjoy playing, the only caveat being the length, so I can't always agree to play it, but I'd like to play more often.\",\n",
       "   '7.5'],\n",
       "  [\"Great theme, very involved and engrossing game, BUT has some significantly flawed random elements to the game (opinion polls, secret auction for first player).  Also, although this needs more than 1 play to really appreciate/properly rate this game, how likely is it that you're going to get at least 3 people to sit down for another 6-8 hour game again (especially if someone got burned by the randomness of the game the first time)?  Unfortunately, this game will probably be forever retired after 1 play.\",\n",
       "   '6'],\n",
       "  ['All these years, All this time. And you develop this?!?! A missed opportunity to improve a fantastic gaming experience.',\n",
       "   'N/A'],\n",
       "  ['Valley Games Ed. Could play this game much more if time and ppl were more readily available. A great design and game flow.',\n",
       "   '7.5'],\n",
       "  ['played it twice for a good feeeling - but did not test it  thoroughly',\n",
       "   '9'],\n",
       "  [\"Got off of Tanga, figuring I'll want it someday and the price is right.  [update]  And I bought this off of Tanga why?  When will I ever have time or desire to play a 5 hour Euro??  \",\n",
       "   'N/A'],\n",
       "  ['Epic \"experience\" game that every serious gamer should try at least once. Shines with 5 and given the investment of time I will not play it with less.',\n",
       "   '9'],\n",
       "  [\"On of my partner's favorites.\", 'N/A'],\n",
       "  ['I like the theme because it is really unique, but the game time is just too long. Perhaps the new shortplay rules will make it even better. The game mechanics work fine and offer a lot, but it is nevertheless hard to plan everything and so still quite luck dependant.',\n",
       "   '7'],\n",
       "  ['Long and repetitive.  No interest in getting this to the table again.',\n",
       "   '4'],\n",
       "  ['Perhaps one of the ultimate games of our times.  The rules take awhile to explain, but everything makes some sort of sense in the end.  Have to play with the play aids, but the game is a blast.',\n",
       "   '9'],\n",
       "  ['Played by lo', '7.8'],\n",
       "  [\"Heavy, counter intuitive and fiddly. Highly disappointed with first game. May need more plays to decide, won't suffer it.\",\n",
       "   '5'],\n",
       "  [\"2010-06-05 (rating 7.5):\\n\\nI like the game. But it wasn't as heavy as I expected (sadly). Some luck factor, not large but still significant (especially when it comes to polls). But more depends on interactions between players.\\n\\nThis is somewhat strange as the game is way to long for a light, heavy interaction, party game. And yet I didn't feel I had enough influence on the game progress to call it a Diplomacy-kind of game.\\n\\nBut I played it only once and we didn't do much negotiations (sadly).\",\n",
       "   '7.5'],\n",
       "  ['1 play / 4 players\\n\\nLIKE: I liked how players could build up votes in another area while attempting to conduct manipulation in another. This created some interesting aspects in timing, and when to spend money. The rules for the short game were not too complicated. The theme is unique.\\n\\nDISLIKE: The cards created a very luck-oriented feel to the game. I think not allowing a card flush would help with this. There are also some random take-that cards in the poll deck, which felt out of place. I feel some other mechanism could have been used.\\n\\nOVERALL: Not a bad game, but the random elements made the game results seem lopsided. For that much of a time investment, we might be better playing something else. I saw a variant in the BGG forums for mixing in first edition rules, may be worth a look.\\n\\nSome similarities to El Grande, but El Grande is so much better.',\n",
       "   '6'],\n",
       "  [\"I've played it. It took 5 hours for 5 of us to march through the game. I really liked it. It never felt slow or bogged down. There's not much room for AP ever in the game. But it is the same game played basically 6 times in a row. Each state is resolved as you peer ahead to the next 3 coming up. At times, you start getting plans laid out and other times, you find you made a mistake. The random 'poll' cards are harsh and scary and frankly, I love 'em. They add spice to an otherwise nearly precise mathematical experience (something I generally do not like in a game). I like the dodge and match game with your platforms vs. opponents vs. the state vs. the national end game. There's really nothing else like the granddaddy of heavy Euros. And there likely never will be. Very fun.\",\n",
       "   '8.5'],\n",
       "  ['Fantastic game, greatly balanced and lovely to play. Bit of a bear to take on tho.',\n",
       "   '10'],\n",
       "  [\"2008-08-17\\nA complex game for true gamers. Very rewarding for those who are willing to invest the time to learn the secrets of Die Macher.\\n\\nThe biggest minus comes from the rather big luck factor for such a long game. Losing a 4 hour game in the last minute just because of bad luck can be quite frustrating.\\n\\n2016-03-08\\nIt is remarkable how well Die Macher has stood the test of time. Considering the fact that the game was designed back in the mid 80's, it is still very relevant. Of course, you have to admit that the game is not as visually pleasing as you would expect today. It almost looks like a prototype. After a while the table also starts to look very busy.\\n\\nOnce you get past the game's age and looks, you have a solid but heavy strategy game in your hands. Each turn has many steps and is rather complex. There are a lot of things to keep an eye on. Fortunately, there is a fair amount of fluctuation of luck which helps in maintaining the flow of the game. If the Die Macher was purely deterministic, would it surely suffer from too much analysis. Now, since you cannot calculate everything, you can come up with sensible moves within a reasonable amount of time. Of course, very tight games can be decided by chance but usually it is the best player who wins.\\n\\nDie Macher is definitely not the beast its reputation suggests. There are far heavier and more difficult games out there. Yes, the game is long but you do not need the whole day. A game can be finished in an evening.\",\n",
       "   '6'],\n",
       "  ['Wow, great game. There is so much going on your head explodes if you try to keep track of it all. You must develop a \"feel\" and go with your guesstimates, which is what I like about games. Beautifully done.',\n",
       "   '9'],\n",
       "  ['Not at all good with 3, and cannot be played with 2.', 'N/A'],\n",
       "  [\"A very tentative rating based on one play.  I think I'd like this the more I get to know it.  It has to be said that it's pretty dry and involved, but I felt early on that I had a bit of an idea what I was doing.  For a deep game, there is still quite a lot of luck in it, but I think you can mitigate against most of it if you're careful.\",\n",
       "   '7.5'],\n",
       "  ['Only one play so far but really enjoyed the game. Would like to play again now I understand more about how the game works. Hampered only by the play time though as it does take several hours to complete a game.',\n",
       "   '9'],\n",
       "  [\"If you have even *heard* about this game you are a real game geek. Possibly the most dull theme ever devised, but it works oh so well. It's such a shame it is so hard to organise games, but enjoyable and tense without fail when we do play.\\nMy favourite game to show non-gamers to scare them!\\nEven if you are scared of the theme and supposed complexity, give it a chance - I promise you won't be disappointed.\\nFor a 4 hour game, the rules are very easy to teach, since the game occurs in phases (a la Power Grid) and turns.\",\n",
       "   '7'],\n",
       "  ['Solid euro mechanics, but the game takes far too long to play.', '5'],\n",
       "  ['From the Reviews: Looks like it could be fun with the right people but then again finding enough people to play a heavy long game might be difficult',\n",
       "   '6'],\n",
       "  ['Ludology Podcast - dominant strategies\\nLudology Podcast - finding the balance',\n",
       "   'N/A'],\n",
       "  ['Great game and very funny if you know the parties.', '8'],\n",
       "  ['Acquired Jan 10.', 'N/A'],\n",
       "  ['unplayed - Looks like one of those grail games that everyone should play\\n',\n",
       "   'N/A'],\n",
       "  ['It is fiddly.  It is long.  It is cluttered with odd mechanisms.  Yet, despite these shortcomings, a Die Macher game starts like a roller coaster ride (slowly building up speed) and then midway through the thrill starts to build up leading to a great payoff. ',\n",
       "   '7.5'],\n",
       "  [\"One play a couple months ago, but I enjoyed it so much I traded for my own copy. Not sure I'll ever get this to the table again, lol, but one can hope!\",\n",
       "   'N/A'],\n",
       "  [\"Heaviest game I've played so far.  Wow.  That was something.  I really enjoyed it.  It was like watching a beautiful machine hum and see the cogs moving.\\n\\nMan, it took a long time to teach and play.  Played smoothly and didn't seem to drag at all.  Print out Liumas's player aids before playing!\",\n",
       "   '8'],\n",
       "  ['4[5] -- 240 -- [theme,long,complex]', 'N/A'],\n",
       "  [\"OK... I understand now. I'm not sure I'll play it more than 4 or 5 more times in my lifetime, but I get why people love this game so dang much.\\n\\nBoard Games With Scott does an amazing job explaining the rules - it is ESSENTIAL viewing before you play.\",\n",
       "   '8'],\n",
       "  ['Not as complex as it seems, one of the few German games in which you can really plan ahead.',\n",
       "   '8'],\n",
       "  ['Lost in the move?', 'N/A'],\n",
       "  [\"Truly an exceptional and fascinating game.  It does have a 2-3 turn learning curve (at least for me it did), but thankfully you are not out of the game at that time.  The theme is excellent and integrates well into the game with the national election carrying significant weight at the end.  There is a lot going on here, and I would classify it as a very meaty game - definitely for experienced gamers only as a game can easily go for more than 5 hours.  Negatives are game length - it's hard to find people who are willing to sit down for one game this long, and second, fiddly rules.  And because I don't see this game being played often, constant reference back to the rulebook may be the norm.  Overall though, great game!  If you consider yourself a gamer, you owe it to yourself to give this game a try.\",\n",
       "   '9'],\n",
       "  ['Mint. Still in shrink. Vally Games edition.', 'N/A'],\n",
       "  ['I did not expect to like this one as much as I did.  I want to play it again/more!',\n",
       "   '8'],\n",
       "  ['Nelson own', 'N/A'],\n",
       "  ['Just read the rules, not played yet. The game is very structured and tense! The theme and the rules work very well! Need play soon!',\n",
       "   '8.5'],\n",
       "  [\"Lacerda's shortlist. Jason Matthews (Twilight Struggle): 10 'The best political game. Period.' Monster game 4hr play.\",\n",
       "   'N/A'],\n",
       "  ['Valley Games Edition', 'N/A'],\n",
       "  ['Thinking about the new kickstarter edition. Waiting to see the reception.',\n",
       "   'N/A'],\n",
       "  [\"The best 'long' game I have played.  Very deep, it makes your head spin :)   Definitely a gamer's game. Everything that happens affects everything else, so there are loads of considerations for every decision.  I recommend this very highly for anyone wishing to spend 6 hours of mind-bending exercise that will leave you satisfied and wanting to play it again.\",\n",
       "   '9'],\n",
       "  ['One of the best ever, for hard gamers.', '9.5'],\n",
       "  ['Essen 2021 loot.\\n\\nLooking forward to playing this with my dad.', '8'],\n",
       "  [\"This game makes an appearance about once every three years. The game has a higher luck factor than I like in a long game but there is much player interaction so the game doesn't seem as long as it is.\",\n",
       "   'N/A'],\n",
       "  [\"Epic game of... ahem.... German electoral strategy.\\n\\nSurprisingly fun for all that though the rules are complex and it's all too easy to get left behind by naive play during your first game.\",\n",
       "   '7'],\n",
       "  [\"A classic! Select your gaming group carefully! Definitely not for the faint of heart - very AP prone. Had a blast playing the short version of this game with 5 players. Valley Games version. MUST GET PLAYER AIDS FOR THIS ONE! Tracked on family game list (grooven). Update: Lowered rating as I don't have the time or inclination to ever choose to play this.\",\n",
       "   '6'],\n",
       "  ['One of the best classics designed 1986 and was one of the top board Hanes for years. A game about power , politics , media and influence. Mechanics are very solid auction plus area influence with hand management and alliance aspect. Not for every body a bit long but worth the investment. If you have the right group it will be an excellent experience . ',\n",
       "   '9'],\n",
       "  [\"The classic big game Euro. The luck comes in torrents, from the polls, to getting lucky matches in the big scoring regions. The good news is that there's lots of opportunities to manage the luck, and good alliances can help as well. Lots to enjoy, but the length and dry subject matter makes it a once a year game.\",\n",
       "   '8'],\n",
       "  ['Epic. A great game that really makes you think, and fascinatingly true to its rather strange theme. Its procedural nature makes it rather easy to teach, but still has enough complexity to be far from trivial to master. A fault (for Valley Games edition, at least): The cards are *very* difficult to tell apart - not only across the table, but even in your own hand.',\n",
       "   '9'],\n",
       "  [\"Sounded very complicated, plus I can't read German. But no matter, as once you start playing it becomes easily understandable, plus everything is picture based so no German is needed (sorry Hans!).\\nThis game plays well, and apart from an unlimited amount of possible votes/seats is a very good representation of the mechanics of politics. Highly  enjoyable, and although competitive not a game you can loose friends over!\",\n",
       "   '8'],\n",
       "  ['Talk about sensory overload. Seeing this board set up and ready to play can be a little intimidating. So many cards, so many wooden cubes, and yet after a round or two everything makes sense. German politics: an interesting way to spend an afternoon.',\n",
       "   '7.5'],\n",
       "  [\"Influential game based around a series of resource management mini-games. It moves along quickly, but it takes a while to actually finish. I believe enjoyment increases if every player is familiar with strategic games.  I'd like to get another game in, but it's hard to pick this one over some other 4 hour games.  It feels like a once-a-year treat.\",\n",
       "   '6.5'],\n",
       "  ['My favourite multi-player game. The mechanics blend so well together. This is a MUST HAVE in any collection. The rules are not too difficult (esp. with player aids available on bgg), but the gameplay (ie: how the rules actually relate to each other) is much more difficult. Persevere, DM is awesome!',\n",
       "   '10'],\n",
       "  ['Am I the only one concerned about the heavy influence of the random Opinion Poll cards?',\n",
       "   '7.5'],\n",
       "  [\"While I own this game, it is rather daunting to begin playing.  There is so much to learn!  Maybe over the summer we'll sit down to play...\",\n",
       "   'N/A'],\n",
       "  ['We play this game once every year.', '7'],\n",
       "  ['Possibly the best political game there is. ', '8'],\n",
       "  ['Play this years ago with the original German edition.  Quite interesting rule mechanic since you have to balance various resources(votes, polls, fundraising).  Very hard to master.',\n",
       "   '7'],\n",
       "  ['This game is the quintessential game of the self-professing DE game enthusiast. Who cares if no one is going to want to play this game with me.',\n",
       "   'N/A'],\n",
       "  [\"It amazes me that this game is almost 30 years old. It's still one of the best heavy euros around; thematic, deep, beautiful.\",\n",
       "   '9'],\n",
       "  [\"I've only played with four and five players.  Rich theme, lots to think about, forward planning and picking your fights essential.  A strong suspicion that an early success is vital to build momentum for the win.  The Valley Games edition is very good looking, my only criticism is that the icons for nuclear and economic development are too similar.  I kind of miss the politicians' heads on the shadow cabinet cards from the first edition.\",\n",
       "   '8'],\n",
       "  ['Very good election game, well constructed, challenging and enjoyable, but a bit too long to play more than occasionally',\n",
       "   '9'],\n",
       "  [\"Just played one game, 4 newbies. Took 4h plus a 30 minutes explanation. Next game would probably end in 3.5h. \\n\\nExcellent classic - needs repeated plays. Opinion polls are swingy, and that's why you need money to control them !\",\n",
       "   '8.6'],\n",
       "  ['It took nearly 6 hours but it felt like 3.  Great game.', '8.5'],\n",
       "  [\"Brilliant, though long, political game. First time played Derek Carver's variant, so some rules from the 1st edition mixed in with the 3rd; second time standard Valley Games rules.\",\n",
       "   '9'],\n",
       "  ['With the exception of the abominable card art(new edition), great game.  If played with knowledgeable and quick-ish players, completes in a very reasonable time frame.',\n",
       "   '8'],\n",
       "  ['This has the potential to become one of my favorites. A great strategy game where you have to plan ahead and focus your resources to reach your goals.',\n",
       "   '8'],\n",
       "  [\"What can I say that hasn't been said already?  Beautiful game, not overly complex game play but the strategies to win certainly are.  I enjoyed the player interaction that this game fostered and the making and breaking of colitions (especially those that were forced) made this game very enjoyable.  The 5hrs that it took to play really flew by.  I am eagerly looking forward to playing this one again and wouldn't turn down the opportunity!!!\",\n",
       "   '9.35'],\n",
       "  [\"An interesting area control Euro, spoiled by some totally awkward randomness and thematic WTFs. Definitely worth a try, especially since its weight of 4.32 is clearly overstated, but it's not a game I want to play a second time.\",\n",
       "   '4'],\n",
       "  ['The shine has worn off: so much of it works so well together, but the last campaign of the game feels too important for a game of such length.',\n",
       "   '8'],\n",
       "  ['A game of heavy series politics. This game really captures the feeling of parlamentar democracy, with constant changes of official opinions to attract more voters.',\n",
       "   '8'],\n",
       "  ['I had to buy it just to say I have it if for nothing else, but I have yet to find a group with the desire or time to play it.\\n(It may kill my gamer cred, but I sold it.)',\n",
       "   'N/A'],\n",
       "  [\"Remains the only game in the Top 10 that I haven't played. Length is definitely an issue here. But maybe one of these days if it's early in the day and the mood strikes.\",\n",
       "   'N/A'],\n",
       "  ['A tough game to teach and play for the first game.  Lots of cross-cutting, interesting mechanics that seem to be nicely thematic.  The card iconography is terrible, and the game play a little bit clunky and time consuming, but overall, I definitely want to play the game again to better understand its subtleties. 8 of 10. (October 2012)\\n\\nOkay, played Die Macher for a second time, the new edition, in February 2020, and for my tastes in game design, I think there are just too many things about this game that feel randomly decisive.  For example, the polling mechanic, and the platform card array with its \"luck of the draw\" flips, and the blind bidding for turn order.  In general, I really dislike games where blind bidding plays an overly decisive role in the game, and Die Macher seems to feature this problem.  Bottom line: unfortunately, this game now feels like an \"old school\" euro design, wherein random events are actually considered a fun feature of the design.  Not a fan.  Dropping it to a 6 of 10.  ',\n",
       "   '6'],\n",
       "  [\"Excellent and deep game. Takes about 5 hours to play, meaning it's not something that will hit the table often.\",\n",
       "   '9'],\n",
       "  ['Good game, but hard to find people willing to play it.', '8.5'],\n",
       "  ['Too long and fiddly. Cards are very difficult to set apart from each other (Valley Games version). Some trivial decicions take a long time to calculate. \\n\\nSome interesting decisions and thematical for an euro. If this was a 2 hour game I could like it, but 3+ hours is too much.',\n",
       "   '5'],\n",
       "  ['Liked quite a lot after one game.', '8'],\n",
       "  ['My favorite game.  As close to gaming perfection as I have seen.', '10'],\n",
       "  [\"This game is nice because it handles a theme that most games would not dare to handle: politics. If you like politics, you like really heavy german-games, and you're willing to sit down 3 to 4 hours, die Macher is the absolute game to play! If any of the previous requisites do not apply to your game group; don't play die Macher ;). \",\n",
       "   '8'],\n",
       "  [\"Excellent, excellent game.  There is more luck then you'd expect but it doesn't bother me, since I already feel too much in the game is calculable.  The only problem I have with this game is the length.  If it were a bit shorter (and thus easier to throw into a real world scehdule) my rating would be a 9.5.\",\n",
       "   '8'],\n",
       "  [\"a very good game. A bit unforgiving. Lot of integrated mechanics, be sure you know how things hang together so you don't fall behind :)\",\n",
       "   '8'],\n",
       "  [\"Very good game of forward planning. It doesn't show the age.\\nMy rating would be higher if it wasn't so long.\",\n",
       "   '5'],\n",
       "  ['I need the English 2019 edition please', 'N/A'],\n",
       "  ['Good game but very long and not easy to learn.', '6'],\n",
       "  [\"Probably a lot of fun when you play with folks who know it.  My first time was with three other newbies, and it didn't go so well...\",\n",
       "   '7'],\n",
       "  [\"This is a great game -- the theme essential to the mechanics, the different systems in the game are extremely well integrated, and it's fun to play.  It does take a while to play, but it's really not as heavy as it's made out to be.\",\n",
       "   '9'],\n",
       "  [\"RATING 8 \\n\\nBased purely on playing 2 election rounds with 3 players.\\n\\nI can see a heavily engaging 5 player game.  I also can see 4-5 hours going by very quickly.\\n\\nSome of the scores from the session reports are similar to the closeness of the PR endgame.  You are in the game via a number of potential strategies.  Aggressive, coat-tailing, and spoiler are easy paths to take.  You don't really need to plan ahead 4 elections, but you do need to plan for 3 ahead.  Game forces to think in the future!!\\n\\nGotta love the forced planned thinking element.\\n\\nIf you only want to worry about your turn, units, etc.  THIS GAME IS NOT FOR YOU.\\n\\n\\nDIE MACHER ist ein UBERSPIEL!\\n\",\n",
       "   '8'],\n",
       "  [\"Pretty enjoyable.  My rating may change the next time I play, since we neither understood what we were doing, nor were playing it correctly.  Even so, we have a pretty good time, and it's a pretty fun game once you understand what you're doing.  Kind of slow moving, and a little more complex than it probably needs to be, but nothing extremely bad about it.\",\n",
       "   '8'],\n",
       "  ['Works flawlesly, not for everyone although.\\nOne play every 3 months at most, but always a very welcome game.',\n",
       "   '10'],\n",
       "  ['PROs:\\n*) Clever mechanics that make you think twice where you commit your resources\\n*) Lots of player interaction\\n*) Feels pretty balanced overall\\n*) Tight and exciting till the end\\n\\nCONs:\\n*) It does take long to get into it - the rules are quite complex, and some mechanisms are not obvious (although the rulebook is not badly written).',\n",
       "   '8'],\n",
       "  ['+ Interesting, complex, classic deep game.\\n- The randomness brought by the cards can be frustrating.',\n",
       "   '6'],\n",
       "  [\"I've played this game numerous times and it still retains its replayability.  This game never plays the same way twice, the elements of negotiation and strategy make this a classic game.  Its a good length (4-5 hours) that encourages socialization (even if its simply in the manner of, hey, you just screwed me over!)  If you've never played it, grab 4 of your closest gamer friends, several six-packs of german beer (or a couple bottles of wine) and expect a really good evening.\",\n",
       "   '10'],\n",
       "  [\"Got as a gift. Not sure I'll ever find anybody with the courage to play. Or that I'll ever getting around to reading the rules for that matter.\",\n",
       "   'N/A'],\n",
       "  ['For what it is, this a very good game.  The depth and number of interactions is quite interesting; however, the multiple board rotations and game length detract from the overall experience.  The learning curve can be a bit steep, so getting 2 plays under your belt before playing it well is a serious investment in the game.  Overall, a good game, but might run long for some.',\n",
       "   '7'],\n",
       "  ['An awesome game that is well worth the investment of time.  First play (not counting a dummy round to get everyone on the same page) took four and a half hours, which is shorter than I had expected. I would never have thought a political game would be remotely as interesting as Die Macher. This game makes me reconsider my ratings for other games. ',\n",
       "   '8'],\n",
       "  ['It think after playing this once I can dub this \"The King of Euros\".  There are so many mechanics but they are all blended very well into the game.  It\\'s took several rounds for me to begin to appriciate how the game plays and as we were lucky enough to be able to play the game in three hours the game the length seemed appropriate.  At least know I can say I\\'ve played it and would gladly join in another game if invited.  I would like to play this a couple of more times before giving it a rating though but at this point I\\'m pretty sure I can say this IS better than Caylus or Puetro Rico.',\n",
       "   'N/A'],\n",
       "  [\"4/6/17: A solid 4 hour game. Interesting, but with AP folks this could really slow down.  At the end bidding for polls gets exponential because there is nothing else to spend money on, and a bad one can hurt you at a critical time.  Also trying to change your stance on issues, can be very frustrating.  Towards the end everyone converges on the same stance on issues as you don't want to be an outlyer.\\n\\nThe luck factor felt higher than I'd like it it to be, which usually isn't a complaint for me, but I guess that's the point of multiple election cycles, to even things out.  Probably also with additional playing you learn how to manage and minimize adverse events.\\n\\nI do not like the iconography of the Valley games (3rd) edition.  It is hard to distinguish the symbols from across the table.  I may need to make alternate cards for my copy of that edition.\\n\\n5 players is really the best way to play this game.  Also consider doing just 5 election cycles rather than 7.\",\n",
       "   '8'],\n",
       "  [\"4/6/17: A solid 4 hour game. Interesting, but with AP folks this could really slow down.  At the end bidding for polls gets exponential because there is nothing else to spend money on, and a bad one can hurt you at a critical time.  Also trying to change your stance on issues, can be very frustrating.  Towards the end everyone converges on the same stance on issues as you don't want to be an outlyer.\\n\\nThe luck factor felt higher than I'd like it it to be, which usually isn't a complaint for me, but I guess that's the point of multiple election cycles, to even things out.  Probably also with additional playing you learn how to manage and minimize adverse events.\\n\\nI do not like the iconography of the Valley games (3rd) edition.  It is hard to distinguish the symbols from across the table.  I may need to make alternate cards for my copy of that edition.\\n\\n5 players is really the best way to play this game.  Also consider doing just 5 election cycles rather than 7.\",\n",
       "   '7'],\n",
       "  ['The game really holds your interest from start to finish.', '9'],\n",
       "  ['rules in spanish', '8.75'],\n",
       "  [\"Only one game so far, and while I did poorly (less than half the final score of what the winner achieved) I do want to play again.\\nA second game played and I still lost, but was behind the winner by only as many points as I'd been behind fourth in my first game.\\nIt is important to be involved in almost everything it seems, which can be frustrating for how you get to spread resources. It's not always wise to accept a coalition either, I basically gave an opponent points by agreeing to his offer in one of the elections.\\n\\nWould rate higher if not for the time required.\",\n",
       "   '8'],\n",
       "  ['1st play: Over 6 hours. Will have to try this again now that I know how to play it. ',\n",
       "   '6.5'],\n",
       "  ['I was bored.  Unfortunately, in Die Macher, that means I was bored for 4 hours.',\n",
       "   '5'],\n",
       "  ['It was fun, but the rules and intertwined interactions are difficult to explain.\\nalso the game took a while',\n",
       "   '7.5'],\n",
       "  ['Finally got this beast. Looking forward to table it.', 'N/A'],\n",
       "  [\"I'm pleased to have played this classic, but I have no desire to play it again!  (Long, heavy.)\",\n",
       "   '6'],\n",
       "  [\"Lee's 1st Edition game\", 'N/A'],\n",
       "  [\"Pretty good game but for what it is, it's just too long and fiddly.  If I'm going to spend four hours playing a single game I would rather it be a wargame.  Really I don't believe it belongs in the top 10.\",\n",
       "   '7'],\n",
       "  ['German version.\\nThe Counters are punched out, but the game has never been played.',\n",
       "   'N/A'],\n",
       "  ['I d like to test it...!', 'N/A'],\n",
       "  ['Not likely to hit the table too often but if you can find 4 or 5 players who want a fulfilling and epic euro-game experience this it the one to get.',\n",
       "   '7.5'],\n",
       "  [\"Ultimately not the type of game I'll play very long because of game length. I have enjoyed my 2 playings. Both were very enjoyable, immersive experiences.\",\n",
       "   '8'],\n",
       "  ['A real political election, wonderful game mechanics.  ', '8'],\n",
       "  ['not played yet', 'N/A'],\n",
       "  ['Keep it or trade it!?!?', '7.5'],\n",
       "  [\"Played this for the first time recently.  Loved the game, despite the old and somewhat clunky mechanics.  The Opinion Poll cards were often the time of furious bidding, usually to mitigate against a potentially bad poll, and this element of chance is something I'd like to see updated in a new version of the game.\",\n",
       "   '8'],\n",
       "  [\"Can't rate higher because each play requires 30+ minutes to relearn the rules. \\n\\nFawktastic game, though!\",\n",
       "   '7'],\n",
       "  ['After two plays I like this game a lot, but the game hinged almost entirely on one election each time.  I suspect this is because we played the fast rules both times.  I look forward to raising my rating after trying the full rules.',\n",
       "   '8'],\n",
       "  [\"Outstanding. I don't know how else to describe this game. There are never enough resources to do everything you'd like (or even need) to do well in every stage of the game and it's these agonizing decisions that everyone needs to make that keep the game a toss up until the very end.\",\n",
       "   '10'],\n",
       "  [\"First Game:\\nI was very excited to play the game after seeing Scott's presentation of the game in Boardgameswithscott.com.  It played very differently from what I had imagined the game play would flow.  Seems just like an area majority game where you try to get a piece of the pie all of the time.  Seems like as long as you do ok with the votes you will be fine.  It kinda feels like Princes of Florence how the extra 3 points from making the best work is so key that you pretty much revolve your game around it, but here it is all about getting your media marker and public opinion up in the national board.  I just thought there would be more manuevering and back door political shenanigans.  I don't know.  I will try more and see how the game goes.\\nInitial Rating: 6\",\n",
       "   '6'],\n",
       "  ['Box has wear and a bit of damage, but the components are near mint.',\n",
       "   'N/A'],\n",
       "  [\"Can't play this game enough. :)\", '10'],\n",
       "  ['A beutiful simulation of \"proportional electoral system\" politics. It\\'s not a game for every group or for every night, but it\\'s an awesome experience when you find the time to play!\\nIt\\'s a shame that it\\'s heavyweight nature relegates it on the shelf.',\n",
       "   '7'],\n",
       "  ['valley games edition. I wish I had the HiG one. Production quality pretty low',\n",
       "   '7'],\n",
       "  ['First Impression: This is a game about blocking your opponents actions and ability to generate VPs. The interplay of mechanisms is well done but the theme seems inconsequential. This is definitely a brainburner game.',\n",
       "   '7'],\n",
       "  [\"A good game but complex. It's well-balanced but because of its complexity, I won't play it everynight. Still it is a good game. \",\n",
       "   '7'],\n",
       "  ['one unpunched.', '8.25'],\n",
       "  ['Jeff 2014 Request Only', 'N/A'],\n",
       "  [\"Great game! I just can't rate it higher due to its length. It is not a game that I will ALWAYS say yes to, because I don't always want to spend 5+ hours on one game.\",\n",
       "   '7'],\n",
       "  ['I need to play this game.', 'N/A'],\n",
       "  ['Played once as a 5-player game after extensive study of rulebook.  We played the Valley Games\\' 5 Round variant.  This session still took 4 total hours for rules explanation and playing time.  \\n\\nMy first impressions were sort of lackluster.  I definitely see the good in Die Macher, but there is a lot of luck thrown in for a 4-hour game!  Dice rolls for party membership can result in huge swings in collected income and endgame points.  I also am not a big fan of Coalitions for if you are the odd man out due to sheer luck of the party Platform draw, you lose.\\n\\nThe production quality is horrible.  The symbols on the cards are difficult to see from across the table.  I \"fixed\" this problem by using stickers.  ',\n",
       "   '5'],\n",
       "  [\"It takes a game to get your head around everything that's going on, but after that Die Macher is the most fun 'long' game I know. I think the most notable thing about it, being a rather long game, is that there is absolutely no down time. It really manages to keep you constantly involved. It is also surprisingly fun for a heavy game, with just the right balance of control and luck/chaos.\\n\\nHighly recommended.\",\n",
       "   '8'],\n",
       "  [\"In our two 5 player sessions, the player who was at the last (or second to last) positon the most won. Maybe there's more to it, but 10 hours with the game was enough. \",\n",
       "   '5'],\n",
       "  ['Received from a BGG user in trade for a copy of Sports Illustrated Pro Football--1972 (AKA Paydirt).',\n",
       "   'N/A'],\n",
       "  [\"A long game that is fairly immersive thematically and the time just flies.  I love me some German politics.\\n\\nI'm not sure what edition we play with but it is German language.  I'm holding out for one of those over the Valley Games edition.\",\n",
       "   '9'],\n",
       "  [\"Die Macher features stunningly disparate game mechanisms, jumbled into a procedural nightmare, baked and fried into a 4-5 hour game that's like nothing else out there. This could easily go down to 7. I didn't enjoy the luck elements, but even worse was the tedious walk through every step of the round. A streamlined, elegant rules set would make this a better game, but it also might take away a lot of what gives the game character. For now, though, I am fascinated with all of the interlocking parts, even if it does make Die Macher a bit of a Frankenstein's Monster.  \",\n",
       "   '6'],\n",
       "  ['This is a game that goes on too long.  There are too many stages to each turn, and the payoff is weak.  I would not play this game again.',\n",
       "   '3'],\n",
       "  ['I have both versions of the game (the original by Hans Im Gluck and the reprint by Valley Games)',\n",
       "   'N/A'],\n",
       "  ['Takes a while, but has interesting mechananics', '8'],\n",
       "  ['2019 Spielworxx edition.', 'N/A'],\n",
       "  [\"Tried to sit down with this one and we all glazed over trying to figure it out.  We've all given each other the homework assignment of having Scott from Board Games With Scott explain this one with his review.\\n\\nEDIT: Tried a second time and only made it though one round.  Just don't think it's for our group.  I won't rate it though.\",\n",
       "   'N/A'],\n",
       "  ['Way ahead of its time. An absolute classic.', '9.5'],\n",
       "  ['Valley Games version.', 'N/A'],\n",
       "  [\"The game is okay - but nothing more and the time/gain ratio is ridiculous (especially when you regard the extremely low variety of the gameplay). Can't understand why its so popular around here.\\n\\nThe VG artwork is shocking dysfunctional. The symbols for economical redevelopment and nuclear power (or what it's called) hold the top position for layout blunders in my collection.\",\n",
       "   '6.5'],\n",
       "  ['BURNED IN FIRE, OCTOBER 2017\\nAmong the best politically themed games around.  Takes a while to play but is well worth your time.',\n",
       "   '9'],\n",
       "  ['Really entertaining economic game hidden under a political theme. There is constant tension between you and your opponents and you have to pick your battles wisely.',\n",
       "   '7.5'],\n",
       "  ['Most interactive euro board game I have played. Super heavy and a masterpiece in game design . Theme is very strong. Fantastic game.',\n",
       "   '8.8'],\n",
       "  ['No plays.', 'N/A'],\n",
       "  [\"First Play: Watched board game with Scott and had detailed explanation pre-game which helped enormously but I don't think anything can prepare you for the next 5 hours.\\n\\nIt is without doubt a detailed and clever game, certainly heavy but there was for me a drowning sensation as I was unable to take opportunities,  and watched the other players racking up scores that I missed out on time after time.\\n\\nHalf way through and I have to admit that I wasn't enjoying myself. I felt like a spectator as others formed coalitions, restructured the policies and seemed to be sculpting the game in their prefered form while I tagged behind. With hindsight my policies seemed to be out of step with the others but either through inexperience or bad luck, I never shared 3 common policies with any other player.\\n\\nBeing a hater of dice I really disliked the roll of the adjusted die (0-3) to add seats. As seats score points this makes a massive difference and I would gauge a difference of 10-15 points between players that is no more than a lucky bonus. The bidding for the opinion pole is also a major lottery. I appreciate that you need to win it to ensure bad results don't fall your way, but frequently optimum results fell to one player whilst others were left with little choice but to enter the second lottery with the dice and the seats bonus.\\n\\nIn summary, I'm confused as to whether I like it or not. On the plus side its deep and theres alot going on. On the negative there is far more luck than I am happy with and so much of the game seems out of your control. \\n\\nPost Script: With so many new and better games to play I have traded this on and down rated to a 6.\",\n",
       "   '6'],\n",
       "  ['Raised my rating of this game to a 9 after playing it again recently. This is simply an amazing game.',\n",
       "   '9'],\n",
       "  ['Interesting design, but length means I am unlikely to play often.', '6'],\n",
       "  [\"I am in constant amazement at how incredible this game is. To think that it was designed in the 80's is just a testament to how innovative the system is. Please note I have the 1st edition, which supports 3 or 4 players. Every little mechanism in the game feels like a political machination in your grand design. From adding meetings (cubes) to recruiting your Shadow Cabinet to setting up Coalitions, it just works. Not easy to teach by a long shot, so expect your first game with new players to be a 4-5 hour slogfest of rules corrections. But after that, you are ready to roll. 80's German politics were never so fun! An easy 10 for me and one of the greatest games I have ever played.\",\n",
       "   '9.75'],\n",
       "  ['It is a grandparent of Modern Euros...but it does not mean that I have to like it!',\n",
       "   '3.5'],\n",
       "  ['REALLY enjoyed this; not as difficult to play as rating would suggest.',\n",
       "   '7.65'],\n",
       "  ['Maybe someone will produce a version without the child-candy-colored components.',\n",
       "   '7'],\n",
       "  [\"Four playings, one with 5 players and three with 4.  This is a pretty tight little game, 4 or 5 hours straight where you are involved (and thinking) just about every second.  I like it but the theme and dryness keep me from really desiring to play it.  Its not luck free, but the luck factors don't appear to unbalance the game.  I have noted that others' comments on how powerful the last round is appear to be true (in at least three of our games, the player who won the 7th election won the game.  It is worth noting, however, that in those games that player ALSO had the highest Party membership, but the ability to shape the national issues also appears to be very important).  \",\n",
       "   '7.5'],\n",
       "  ['Would be higher but due to game length it may never see the light of day again.  Played once and really enjoyed it but was an epic 4 hour constant brainburner.',\n",
       "   '6'],\n",
       "  ['A low seven simply bacause it takes about a million hours to learn the game. Otherwise brilliant.',\n",
       "   '7'],\n",
       "  [\"Apr'16 May up to 9 rating with more plays. But it's too long a game for me. I may consider 5 rounds. Rating 8.5\\nApr 24 Rebased it down to 8\",\n",
       "   '8'],\n",
       "  [\"Great Game,  It sure didn't feel like four hours.  I loved the constant decision making and having to look ahead. I had a slow start but once I figured it out I didn't do to bad.  Looking forward to future plays depsite the length required.  \",\n",
       "   '9'],\n",
       "  ['I have an unplayed copy of this game, I really love the theme and rules, but haven´t had the opportunity to play it.',\n",
       "   '8'],\n",
       "  [\"This is a fun two or three hour game. Unfortunately, it's a five or six hour game. Also, the theme is a little dry.\",\n",
       "   '4.5'],\n",
       "  ['What an awesome and intricate game.', '9.5'],\n",
       "  ['Kickstarter - Limited Edition\\nhttps://www.kickstarter.com/projects/indiegamestudios/die-macher-limited-edition/description',\n",
       "   'N/A'],\n",
       "  [\"This is the game, my personal n.1. Many strategic and tactical decisions to be made. It needs planning, dealing and also skill in taking opportunities when they present. The theme may seems dry, but once you play you're grabbed and the 4 hours a match usually last fly away. \\nReccomended. \\nOwnership and use is necessary for every true geek. \",\n",
       "   '10'],\n",
       "  [\"I think the only word for it is: Deep. There is a whole lot too this game and the way it twists and intertwines is almost mind-boggling. It could take me a long time to get the hang of it.\\n\\nWell, my initial thoughts seem to have been born out. I've placed last in my first three games, though my score is steadily increasing.\\n\\nThis game is on my 'To Review List'. Watch this space.\",\n",
       "   '9'],\n",
       "  ['Die Macher (English third edition) (2006)', '1'],\n",
       "  ['# Players: 3-5', '8'],\n",
       "  ['Brand new with perfect shrinkwrap. Free shipping in CONUS, will pay $10 towards shipping otherwise.',\n",
       "   '10'],\n",
       "  [\"Truely excellent game - such deep strategy and so many choices to make all the time.  Almost no downtime for any player as everyone is always invloved at all stages of the game.  The only thing I would mark it down for is the fact that you have *so* much stuff to think about and keep track of, which wouldn't usually be such a bad thing but in this case you have to repeat the same thing seven times over at least four hours.  Still an excellent game though - one of the best I've ever played.\",\n",
       "   '10'],\n",
       "  ['BOUGHT USED', 'N/A'],\n",
       "  [\"Very procedural game which keeps people involved all the time. Very little downtime for a five hour monster. Lot's and lot's of difficult decisions to make which will keep te game tense until the end. Very good translation of theme to a great game. Very highly recommended.\\n\\nGameplay: :star::star::star::star::halfstar:\\nReplayability: :star::star::star::star::halfstar:\\nFun/Social: :star::star::star::star::halfstar:\\nComponents: :star::star::star::nostar::nostar:\\nRules: :star::star::star::star::nostar:\\n\",\n",
       "   '8.6'],\n",
       "  [\"First game played 11/25/06. Was FDP (yellow). Did Ok on the Mandate, screwed up the National Media and did lousy on the the Membership. Did best on Matching Votes with highest score and bonus. But one cannot screw up two whole scoring categories and expect to do well. I came in last. I was all over the map, but I learned what things do and what they don't do. Next time I'll aim forMandate: 200 pointsNational Media: 75Membership: 75Matching Votes: 75For a total of 425 points. That would probably be enough to win.\",\n",
       "   '7'],\n",
       "  ['Excellent game on the political election process in Germany.  Long, but worth the effort.  I have two copies of this game.',\n",
       "   '9'],\n",
       "  ['Shrink-wrap', 'N/A'],\n",
       "  [\"I was a bit surprised on my first play of this old classic. Given the hype from heavy Euro gamers, I was expecting something a little different.\\n\\n I really enjoyed the challenge and the interesting decisions that have to be made. There's a lot of food for thought on this one. What took me for a surprise was the amount of luck and volatility that I experienced given the length and weight of the game. One card alone can swing the score significantly. It reminded me a bit of Dominant Species; although I thought that Dominant Species' chaos can be mitigated better.\\n\\nI'm wondering if this game came out today would it still hold up as a classic...\\n\\nAnyways, because these are musings based on a first play, I want to get it to the table again to confirm my thoughts and to give it the chance it deserves. There's a lot of interesting things going on in this game and I'm wondering if a neophytes view is clouding my opinion and what seems luck and chaos turns into something that can be controlled. \\n\\nStill, I'm going with a provisional rating of 7.5 due to my enjoyment of the game and the opportunity for clever play. Also, for the fact that despite it's long playtime, time passes by quickly as you are very involved in the game.\\n\\n\",\n",
       "   '7'],\n",
       "  ['Finally got a chance to play it. A bit steep on the learning curve, but once rolling was great fun. Lots to do and LOTS to think about. Hindered a tad IMO by the randomness of a few aspects and by a common problem of early mistakes costing you too much. The length keeps it from being a 9 in my book, but still a great game, a classic for a reason.',\n",
       "   '8.5'],\n",
       "  ['Very complicated but extremely rewarding. A rich and complicated system makes this game feel like a real election rather than just a game. I can&#039;t think of a single thing wrong with this one except it is on the long side, but any game with deep strategy usually is. I love the way local issues are promoted to national issues... very intriguing. One of the best. Lots of German text in cards can be difficult for some, although they are basic German words.',\n",
       "   '9'],\n",
       "  [\"Complex. I love. Lot's of interacting systems.\", '10'],\n",
       "  ['Super heavy\\n', 'N/A'],\n",
       "  ['Like a good wine, this game gets better with each play.\\n\\nArt and graphics are sorely dated however, with its tight design, Die Macher definitely deserves a re-print!',\n",
       "   '8'],\n",
       "  [\"My favorite political game and 4-5 hour playing game.  A gamer's game.  This is a completely unique game and should be in every serious gamers collection.  Make sure you have 4 to 6 hours and 4 friends that can devote the time to this game.  This game does not disappoint.  A hint - Do not underestimate the importance of the one who is setting himself up to win the last two elections.  He who wins these two elections will have the final say on the National Agenda, and thus be in the best position to score many VPs.\",\n",
       "   '10'],\n",
       "  ['KS 18th June 2019', 'N/A'],\n",
       "  [\"provisional rating after a single play (and much post-game discussion). This is complex, and all the compelxity adds to the tension. We'll be playing again soon and often. First play was 5.5 hours, we're certain it'll go much faster next time.\",\n",
       "   '7'],\n",
       "  ['The Cadillac of Euros.', '7.5'],\n",
       "  ['737 (original edition), 948 (International Edition)', '8'],\n",
       "  ['Great political game.  Very original concept.', '9'],\n",
       "  [\"OK, so I can say I have played it. Over an hour for the rules and a further 5 hours to play but I have played it. To be fair, second time out it might only be 3-4 hours total. It is a very good, very heavy game with rather more chaos than you might expect for a game this long and intense. Ultimately however, there are games which give you exactly the same in 2-3 hours on first play so I would rather play two of those than one of this - can't see myself rushing back to this one.\",\n",
       "   '8'],\n",
       "  ['SME \\n2-5, 5 Best\\n\\nMust... play... It really is a political game.  Buying votes, temporary alliances. Get yerself voted into office. A classic with Geek cred attached.',\n",
       "   'N/A'],\n",
       "  ['Bought a used copy', 'N/A'],\n",
       "  [\"I'd been wanting to play this game for a long time, and when I finally got the chance, I wasn't disappointed. There's so much going on and a lot to think about, but it all fits with the theme, and after a couple of rounds the rules make sense, though it's still difficult to know what to do for the best outcome. The game is long, but it doesn't feel that long, as each election is exciting and there's much anticipation going into each round. Long-term plans are a must. You have to focus on just some of the elections into which to pour your resources, while trying to eke out what you can from the others on minimal investment. My biggest problem was forgetting that I had a limited number of cubes to place. I won the game, but I won only two elections (one in a coalition that was forced on me), but I also scored a full 50 on another (but was beaten by a coalition). I had way more party membership than anyone else, which is what gave me the win. Winning the first election helped, too, even though it was the smallest of the game (26 seats, of which I got only 13 or so) because it gave me early positioning on the national board, which turned into lots of points through matched policies and media control.\",\n",
       "   '8'],\n",
       "  [\"Have yet to get this game on the table for play. Once I do, I'll re-rate it. \",\n",
       "   '6'],\n",
       "  [\"Bumped it up a notch now that 1) I've finally got the rules down, 2) I've had a chance to play it with 5.  Simply one of the best games EVAR!\\n\\nEdit: take 1.5 points off for the terrible graphics on the Valley Games version, if that's all you have.  Several issues have extremely similar art, which can screw you pretty badly.\",\n",
       "   '9'],\n",
       "  ['Very cool game, with lots of neat stuff going on. Valley Games version icons and cards leave a bit to be desired, though.',\n",
       "   '7'],\n",
       "  [\"A very good game indeed.  If I went strictly by the BGG rating system, though, I'd have to rate it lower; I could certainly see myself turning down a 5-hour game.  But I always enjoy playing and, given the time, I would happily play this anytime.\",\n",
       "   '8'],\n",
       "  [\"There are so many ways to go at it and lots to ponder, but yet the game can move along nicely.  I'm looking forward to playing this one again.  \",\n",
       "   '9'],\n",
       "  ['A five hour game should not feel this short, but Die Macher, amazingly, never seems to drag or overstay its welcome. It\\'s filled with a surprising number of random elements for a euro, but it lets everyone know about them with enough lead time to allow for strategic and not just tactical decision-making. More importantly, it lets the core of the gameplay be about player interaction and trying to outmaneuver your opponents. Euros often get smeared as \"multiplayer solitare\" and here is the ultimate counter example.',\n",
       "   '9'],\n",
       "  [\"Finally I play the holy grail of heavy Euro games and as often seems inevitable, it is disappointing.  I hesitate to lump this in with Euro games, after all it arrived in the 80s, long before the Germans started pumping games out in bulk, it is far longer and more complicated than any Euro before or since and because it is themed extremely well.  \\n\\nI think the high praise on BGG stems from what I dub Final Fantasy 7 syndrome.  For many people who entered the hobby through lighter Euro games, this is the first experience with a heavy game outside of the normally scorned wargame and it will no doubt impress a jaded gamer tired of the many rehashed mechanics dumped on the market.\\n\\nHowever, rather than gaining, as I hoped it would, from its dual citizenship in the German and American gaming heritage, it suffers from it.  We have a long and complicated game that is just as restricting and just as familiar as most Euros.  How can a game about politics actually have so little politicking?  The game has all the trappings of a great politically themed game, but it in fact missed the most interesting and vital parts.  I still haven't come to terms with how a coalition is more a means to piggyback on another's success than parties with a similar platform cooperating to thwart their more divergent political adversaries.\\n\\nWhen actually playing the theme loses importance as you grow bored with the complete lack of narrative.  Very little actually builds up as you play the game, so all 6 rounds are very similar.  Which just doesn't cut it for a three hour game.  For that time length I want something more lasting and memorable, not your average Euro stretched out longer.  Because that is what Die Macher really is, your average Euro trying to extend beyond its humble origins and failing.\",\n",
       "   '5'],\n",
       "  [\"haven't gotten to try this one yet\", 'N/A'],\n",
       "  ['Kickstarter edition', 'N/A'],\n",
       "  ['Valley games. Opened but unplayed and unpunched.', '5'],\n",
       "  ['Good if a bit fiddly at times. If it were just a bit shorter...', '5'],\n",
       "  ['An excellent game of political decision making.', '8'],\n",
       "  ['175\\nNew in shrink', 'N/A'],\n",
       "  [\"This game is quite long.  I don't think it is top-10 material... but I have only played one time (when I first started Eurogaming in 2003).  I need to play it again.\",\n",
       "   '6'],\n",
       "  [\"Heavyweight political game, but once you get in to the swing of it, the rules are not as complicated as you might think. The game rounds repeat a few times so once you have got to grips with the game process, you'll find that same process repeating until you start to thin out the remaining regions to campaign in, thus eventually ending the game, when all votes are in. \\n\\nThe mechanics ensure that you cannot dominate every region and although there are some random elements to factor in (opinion polls and the like) these are exactly the sorts of things that may appear in a real electoral campaign. You won't dominate every region and you won't get screwewd in every region. I like the way that you can bank some early impact in a region (before the vote takes place) to guarantee yourself votes. This usually won't guarantee that you win the region but it can put other players off or make you a strong force in a coalition. These votes can't be reduced by a sudden swing against you. If 2 players reach 50 votes (the maximum possible) then the second player to reach 50 win by a nose - another cunning game mechanic which makes control of turn order vitally important.\\n\\nThis will take you 4 or 5 hours to play though, so you have to be committed to the game before you start.\",\n",
       "   '8.1'],\n",
       "  ['5s, 4s', 'N/A'],\n",
       "  ['My free registration gift from BGG.Con 2007!', '7'],\n",
       "  ['Surprisingly captivating game based (loosely) on the German political system. Seven regional elections are waged by up to five different political parties. Resources are devoted to generating political activity (meetings) influencing public opinion through the media and adjusting political platforms to reflect regional/national agendas. The winner is the one who steers his party most successfully through the maze of elements that make up this game. From the theme, you would think this game would have only limited interest, but it is so cleverly constructed that it captured me from the very beginning and, despite being a longish game, held my interest throughout. Excellent game, the longish playing time being the only negative!',\n",
       "   '8'],\n",
       "  [\"Thought I'd like this more than I did :( Very long and it needs the players all to understand the game for it to work - randomly doing stuff isn't going to work in this game, you need to look at the current state and the future boards and plan your very limited actions carefully. Major thing I disliked was the exchange pool - being fixed at 6 cards and it is pretty static, if you have a hand of cards that doesn't really fit with the rest of the game there isn't much you can do if all you have in the pool are similar :( Wouldn't be a problem if the game was (much) shorter.\",\n",
       "   '4'],\n",
       "  [\"I like this game very much, although I have seen it stress otherwise unflappable and happy people.. I dont know if I like the stress this game generates in people, since it can get pretty tense. I'd play it again, most likely only with people who already know how to play since it takes so darn long for new players to learn.\",\n",
       "   '8'],\n",
       "  ['Very curious.', 'N/A'],\n",
       "  ['Granddaddy of Eurogames? Hell yeah.  Lots of interesting mechanics and therefore decisions.  Long play time, but worth it.',\n",
       "   '9'],\n",
       "  ['My grail game. Never owned, never played. ', 'N/A'],\n",
       "  ['Contemplative 5 hour mind bender--\\n\\nGood lord how to improve my platform and shore up Breman... Oh wait! there are media counters to place and votes to buy...\\n\\nahhh Maybe I can force a coalition and ride the leader home for a few more points...\\n\\nThis is the ulitmate tricky game with a slow and grinding progress...This game is a very easy game in many ways but takes a lot of time.',\n",
       "   '8'],\n",
       "  ['Initial rating after one short version.  Good depth, strategic/tactical balance, and player interaction.  But the game is slow, and perhaps ponderous.  Feels like too many phases in each round multiplied by four (for each board).  Definitely engaging, but... fun?',\n",
       "   '6'],\n",
       "  [\"One of my Wife's favorites but it's not one of mine.  I find it a bit dull and will only play if they need me for a 5th or they offer me cash.\",\n",
       "   '5'],\n",
       "  ['great game. really is an intense game and not difficult to learn. perhaps difficult to learn to play well',\n",
       "   '9'],\n",
       "  [\"Die Macher is a game about elections in Germany played over 7 rounds where each player represents a political party.  At the end of each round, one of 7 regions is scored with players receiving VPs and money based on how many seats they've received in that region.  At the end of the game, players receive additional VPs based on party membership and how well they match the national opinions.  \\n\\nThe crux of the game are the 7 political issues.  Each player's tableau has 6 cards that show the players in favor or opposed to 6 of the 7 issues.  Each region has a table of 4 cards showing it in favor or opposed to 4 of the 7 issues and the national stage has a tableau of 5 cards showing it in favor or opposed to 5 of the 7 issues.  While players start with their 6-card tableau face up, the other tableaus are built/revealed over time.  There are several mechanics for changing the cards in the tableau but in general, they change slowly.  When a region scores, players score money and VPs based on their party meeting investment multiplied by the net # of issues they match plus a player-specific, region-specific modifier.  While all players get money and VPs, the winner also gets additional VPs and gets to place 1 or 2 cards in the national tableau (potentially swapping out cards already there).  \\n\\nThe game, published in 1986, is a classic with a lot of moving parts, multiple types of auctions, and benefits and costs for going early/late in turn order.  The game takes a while to explain (30+ minutes) and a long time to play (our first play was 7+ hours although rumor has it that it should take around 4 - 5 hours).  \\n\\nThere is a fair bit of randomness.  Players are only able to change their tableau based on cards they draw.  If they don't draw cards that match the popular issues, they can't take those positions.  In addition, adjustments to party membership are done with die rolls and rolling well or poorly can have a significant impact. Next, there are incremental auctions for opinion polls (one per region) each round.  The opinion polls let people adjust two player-specific, region-specific modifiers or their own party membership.  The cards are face-down when bid for and may or may not help the player who won them.   With all that said, the randomness is mostly manageable and is well within most player's comfort even for a game of 4+ hours.  \\n\\nVery unusual for a game this old, there is very little downtime.  By breaking a round down into lots of phases and players involved in each phase, players are constantly involved.  There is also a lot of opportunity for clever play.  Player can make promises and form coalititions but promises are not binding and even players in coalitions can screw each other.  \\n\\nDespite the level of randomness, I really enjoyed my first play and am anxious to get to play it again.  After one play, provisional rating is an 8 with movement of up or down 1 very possible.\",\n",
       "   '6'],\n",
       "  ['In my top 10.', '9'],\n",
       "  [\"An enigmatic game.Simply so many fiddly details and such a long time to play that it stands out and doesn't get played much in our groups because it needs dedicated game enthusiasts to enjoy it with time on their hands.\\n\\nHaving said that it's a lot of fun to play, in spite of the many abstractions and frankly lousy artwork (in the most recent edition) that makes it very difficult to distinguish policies.\\n\\nI can't quite understand it's apparent popularity and high ranking here, but concur that it's got enough character and random complexity to make for a jolly fun time when played with the right folk. We just laugh a lot at the very unjust blind auction of opinion poll results!\",\n",
       "   '6'],\n",
       "  ['Four-hour game about voting.  ', 'N/A'],\n",
       "  [\"After just one game I can see where its fame comes from. It's an amazing amalgamation of different parts that come together into an amazing whole.\",\n",
       "   '8'],\n",
       "  [\"Played 8/30/2008\\n\\nPulled this out at TCEP and had a full table, but not enough time to commit to playing a full seven rounds, so we agreed to play only five.\\n\\nRules took a LONG time to get through, and I had the 'Board Games with Scott' video to explain everything. Now that I've played, it may be easier to explain the procedural processes and go from there.\\n\\nTakes a LONG time, it's fun, but the time commitment problem may prevent this from getting a lot of air time.\",\n",
       "   '7'],\n",
       "  ['Interesting first play.  I started off strong, then made a few critical mistakes and got completely shut out of the last two elections (102 votes total!), relegating me to next-to-last place.  Definitely want to play again, but not sure whether the rating is likely to up or down -- chaos is not usually something I appreciate in games, and Die Macher has it in spades.',\n",
       "   '7.5'],\n",
       "  [\"Glad I played it.  Don't really feel the need to play again.  Just too long for what it is.\",\n",
       "   '4.5'],\n",
       "  ['OT\\nFirst play was intriguing, lots to pick up but truly not a rule-complex game.  I think this game would be an even bigger hit if it was U.S. politics.',\n",
       "   '7'],\n",
       "  ['Reasons why the game is not a straight 10:\\n- card design and iconography. It is not clear and several symbols are very alike. This feature can be easily fixed with a huge redesign.\\n- the last 2 states: no time to react. Many points can fluctuate because of this, you can not influence.\\n- in the national board, the points for the national policies in common with your party policies are too strong. Many points are given away in the last 2 states where you can influence.\\nWith a redesign, the game is a solid 9.5',\n",
       "   '9.5'],\n",
       "  [\"One of the best Multiplayer games I have played. I only have the 1st edition and the rule translations could use a little more clarity but other than that it's as good a 4 player game as anyone can want.\",\n",
       "   '8'],\n",
       "  [\"3-5 | (5) | 240 min | 14+ | Karl-Heinz Schmiel\\nVery well designed political simulation. Lots of options and room for, ahem, politicking. It does not get an '8' because the various icons are difficult to differentiate in the Valley Games edition. A tad long, but a rewarding experience in any case.\",\n",
       "   '6'],\n",
       "  ['Fun, but a bit complex for my taste.', '7']]}"
      ]
     },
     "execution_count": 8,
     "metadata": {},
     "output_type": "execute_result"
    }
   ],
   "source": [
    "#Give a lookup at the collection of games \n",
    "titles=list(BGG.keys())\n",
    "BGG[titles[0]]"
   ]
  },
  {
   "cell_type": "code",
   "execution_count": 9,
   "id": "dd58892d",
   "metadata": {},
   "outputs": [
    {
     "data": {
      "text/plain": [
       "7854"
      ]
     },
     "execution_count": 9,
     "metadata": {},
     "output_type": "execute_result"
    }
   ],
   "source": [
    "len(titles)"
   ]
  },
  {
   "cell_type": "code",
   "execution_count": null,
   "id": "a819ecf8",
   "metadata": {},
   "outputs": [],
   "source": []
  }
 ],
 "metadata": {
  "kernelspec": {
   "display_name": "Python 3 (ipykernel)",
   "language": "python",
   "name": "python3"
  },
  "language_info": {
   "codemirror_mode": {
    "name": "ipython",
    "version": 3
   },
   "file_extension": ".py",
   "mimetype": "text/x-python",
   "name": "python",
   "nbconvert_exporter": "python",
   "pygments_lexer": "ipython3",
   "version": "3.11.4"
  }
 },
 "nbformat": 4,
 "nbformat_minor": 5
}
